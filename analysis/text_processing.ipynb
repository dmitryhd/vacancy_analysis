{
 "cells": [
  {
   "cell_type": "markdown",
   "metadata": {},
   "source": [
    "# Vacan text preprocessing"
   ]
  },
  {
   "cell_type": "code",
   "execution_count": 1,
   "metadata": {
    "collapsed": false
   },
   "outputs": [],
   "source": [
    "import pandas as pd\n",
    "import bs4\n",
    "import re\n",
    "from IPython.display import display"
   ]
  },
  {
   "cell_type": "code",
   "execution_count": 2,
   "metadata": {
    "collapsed": true
   },
   "outputs": [],
   "source": [
    "vacancies = pd.read_pickle('data/vacancies.pickle')"
   ]
  },
  {
   "cell_type": "code",
   "execution_count": 3,
   "metadata": {
    "collapsed": false
   },
   "outputs": [
    {
     "data": {
      "text/html": [
       "<div>\n",
       "<table border=\"1\" class=\"dataframe\">\n",
       "  <thead>\n",
       "    <tr style=\"text-align: right;\">\n",
       "      <th></th>\n",
       "      <th>id</th>\n",
       "      <th>name</th>\n",
       "      <th>html</th>\n",
       "      <th>url</th>\n",
       "      <th>site</th>\n",
       "      <th>date</th>\n",
       "    </tr>\n",
       "  </thead>\n",
       "  <tbody>\n",
       "    <tr>\n",
       "      <th>3</th>\n",
       "      <td>1413553876</td>\n",
       "      <td>Разработчик Ruby/Ruby on Rails</td>\n",
       "      <td>&lt;div class=\"b-important b-vacancy-info\"&gt;&lt;table...</td>\n",
       "      <td>http://irkutsk.hh.ru/vacancy/11833695?query=%D...</td>\n",
       "      <td>hh.ru</td>\n",
       "      <td>2014-10-17 13:51:12</td>\n",
       "    </tr>\n",
       "    <tr>\n",
       "      <th>4</th>\n",
       "      <td>1413553877</td>\n",
       "      <td>Ведущий программист 1 С/Руководитель направлен...</td>\n",
       "      <td>&lt;div class=\"b-important b-vacancy-info\"&gt;&lt;table...</td>\n",
       "      <td>http://irkutsk.hh.ru/vacancy/11926858?query=%D...</td>\n",
       "      <td>hh.ru</td>\n",
       "      <td>2014-10-17 13:51:12</td>\n",
       "    </tr>\n",
       "    <tr>\n",
       "      <th>5</th>\n",
       "      <td>1413553878</td>\n",
       "      <td>Java-разработчик</td>\n",
       "      <td>&lt;div class=\"b-important b-vacancy-info\"&gt;&lt;table...</td>\n",
       "      <td>http://irkutsk.hh.ru/vacancy/11968661?query=%D...</td>\n",
       "      <td>hh.ru</td>\n",
       "      <td>2014-10-17 13:51:12</td>\n",
       "    </tr>\n",
       "    <tr>\n",
       "      <th>8</th>\n",
       "      <td>1413553881</td>\n",
       "      <td>IOS разработчик</td>\n",
       "      <td>&lt;div class=\"b-important b-vacancy-info\"&gt;&lt;table...</td>\n",
       "      <td>http://irkutsk.hh.ru/vacancy/11799508?query=%D...</td>\n",
       "      <td>hh.ru</td>\n",
       "      <td>2014-10-17 13:51:12</td>\n",
       "    </tr>\n",
       "    <tr>\n",
       "      <th>9</th>\n",
       "      <td>1413553882</td>\n",
       "      <td>Программист PHP (web-разработка; back-end)</td>\n",
       "      <td>&lt;div class=\"b-important b-vacancy-info\"&gt;&lt;table...</td>\n",
       "      <td>http://irkutsk.hh.ru/vacancy/11639762?query=%D...</td>\n",
       "      <td>hh.ru</td>\n",
       "      <td>2014-10-17 13:51:12</td>\n",
       "    </tr>\n",
       "  </tbody>\n",
       "</table>\n",
       "</div>"
      ],
      "text/plain": [
       "           id                                               name  \\\n",
       "3  1413553876                     Разработчик Ruby/Ruby on Rails   \n",
       "4  1413553877  Ведущий программист 1 С/Руководитель направлен...   \n",
       "5  1413553878                                   Java-разработчик   \n",
       "8  1413553881                                    IOS разработчик   \n",
       "9  1413553882         Программист PHP (web-разработка; back-end)   \n",
       "\n",
       "                                                html  \\\n",
       "3  <div class=\"b-important b-vacancy-info\"><table...   \n",
       "4  <div class=\"b-important b-vacancy-info\"><table...   \n",
       "5  <div class=\"b-important b-vacancy-info\"><table...   \n",
       "8  <div class=\"b-important b-vacancy-info\"><table...   \n",
       "9  <div class=\"b-important b-vacancy-info\"><table...   \n",
       "\n",
       "                                                 url   site  \\\n",
       "3  http://irkutsk.hh.ru/vacancy/11833695?query=%D...  hh.ru   \n",
       "4  http://irkutsk.hh.ru/vacancy/11926858?query=%D...  hh.ru   \n",
       "5  http://irkutsk.hh.ru/vacancy/11968661?query=%D...  hh.ru   \n",
       "8  http://irkutsk.hh.ru/vacancy/11799508?query=%D...  hh.ru   \n",
       "9  http://irkutsk.hh.ru/vacancy/11639762?query=%D...  hh.ru   \n",
       "\n",
       "                 date  \n",
       "3 2014-10-17 13:51:12  \n",
       "4 2014-10-17 13:51:12  \n",
       "5 2014-10-17 13:51:12  \n",
       "8 2014-10-17 13:51:12  \n",
       "9 2014-10-17 13:51:12  "
      ]
     },
     "execution_count": 3,
     "metadata": {},
     "output_type": "execute_result"
    }
   ],
   "source": [
    "vacancies.head()"
   ]
  },
  {
   "cell_type": "code",
   "execution_count": 4,
   "metadata": {
    "collapsed": false
   },
   "outputs": [
    {
     "data": {
      "text/plain": [
       "Timestamp('2015-12-06 12:39:17')"
      ]
     },
     "execution_count": 4,
     "metadata": {},
     "output_type": "execute_result"
    }
   ],
   "source": [
    "vacancies.date.max()"
   ]
  },
  {
   "cell_type": "code",
   "execution_count": 5,
   "metadata": {
    "collapsed": false
   },
   "outputs": [],
   "source": [
    "soup = bs4.BeautifulSoup(vacancies.iloc[0].html, 'html.parser')"
   ]
  },
  {
   "cell_type": "code",
   "execution_count": 6,
   "metadata": {
    "collapsed": false
   },
   "outputs": [
    {
     "data": {
      "text/plain": [
       "<meta content=\"RUR\" itemprop=\"salaryCurrency\"><meta content=\"70000\" itemprop=\"baseSalary\">от 70 000 руб.</meta></meta>"
      ]
     },
     "execution_count": 6,
     "metadata": {},
     "output_type": "execute_result"
    }
   ],
   "source": [
    "soup.meta"
   ]
  },
  {
   "cell_type": "markdown",
   "metadata": {},
   "source": [
    "# Get salary / text"
   ]
  },
  {
   "cell_type": "code",
   "execution_count": 7,
   "metadata": {
    "collapsed": false
   },
   "outputs": [],
   "source": [
    "def get_salary(html: str) -> tuple:\n",
    "    soup = bs4.BeautifulSoup(html, 'html.parser')\n",
    "    basesalary = None\n",
    "    salarycurrency = None\n",
    "    for meta in soup.findAll(\"meta\"):\n",
    "        meta_name = meta.get('itemprop', '').lower()\n",
    "        if meta_name == 'salarycurrency':\n",
    "            salarycurrency = meta.get('content', '').lower()\n",
    "        if meta_name == 'basesalary':\n",
    "            basesalary = int(meta.get('content', ''))\n",
    "    return salarycurrency, basesalary\n",
    "\n",
    "def get_text(html: str) -> str:\n",
    "    try:\n",
    "        x = re.search(r'</table>.*</div>(.*)Тип занятости', html)\n",
    "        return x.groups()[0].lower()\n",
    "    except AttributeError:\n",
    "        return html.lower()"
   ]
  },
  {
   "cell_type": "code",
   "execution_count": 8,
   "metadata": {
    "collapsed": false
   },
   "outputs": [
    {
     "data": {
      "text/plain": [
       "('rur', 100000)"
      ]
     },
     "metadata": {},
     "output_type": "display_data"
    },
    {
     "data": {
      "text/plain": [
       "'компания «эспокада» (один из лидеров рынка домашнего текстиля) предлагает вам поучаствовать в конкурсе на замещение вакансии «программист-разработчик 1с».   что мы можем предложить вам:  работа в стабильной успешной компании просторный офис в 5 минутах ходьбы от метро «авиамоторная» комфортная рабочая обстановка молодой и дружный коллектив сложные, интересные и амбициозные задачи простор для реализации своего интеллектуального и творческого потенциала перспективы карьерного роста оформление в соответствии с тк рф    необходимые требования:  высшее образование (техническое) релевантный опыт работы от 6 лет понимание бизнес-процессов предприятий оптовой торговли (закупки, склад, производство, транспорт, продажи, клиентский сервис, бухгалтерия) способность мыслить нестандартно умение планировать свое время и всегда доводить работу до конца высокий уровень самоорганизации и ответственности за свою работу знания продуктов семейства 1с и практические навыки работы с ними отличное знание встроенного языка 1с: предприятие 8    необходимый опыт:  написание конфигураций и подсистем на платформе 1с8 ут «с нуля» перевод учета компании с 1с7 (нетиповая конфигурация) на 1с8 внедрение 1с8 на предприятии с численностью от 50 человек оптимизация бизнес-процессов средствами 1с внедрение штрихкодирования разработка и внедрение механизмов обмена данными в распределенных информационных базах (торговля – бухгалтерия и т.п.) обучение и поддержка пользователей наличие успешно завершенных проектов реализации и оптимизации бизнес-процессов предприятий оптовой торговли в 1с8 ут    условия:  график работы: понедельник-пятница с 9 до 18. соблюдение тк. уровень заработной платы определяется по результатам собеседования (в зависимости от опыта и профессиональных компетенций) м. авиамоторная (5 минут пешком от метро) адресмосква, энтузиастов, шоссе, 28, м. авиамоторнаяпоказать на карте\\xad'"
      ]
     },
     "metadata": {},
     "output_type": "display_data"
    }
   ],
   "source": [
    "example_html = vacancies.iloc[5].html\n",
    "display(get_salary(example_html))\n",
    "display(get_text(example_html))"
   ]
  },
  {
   "cell_type": "code",
   "execution_count": 9,
   "metadata": {
    "collapsed": true
   },
   "outputs": [],
   "source": [
    "vacancies['text'] = vacancies.html.apply(get_text)"
   ]
  },
  {
   "cell_type": "code",
   "execution_count": 10,
   "metadata": {
    "collapsed": true
   },
   "outputs": [],
   "source": [
    "salaries = vacancies.html.apply(get_salary)"
   ]
  },
  {
   "cell_type": "code",
   "execution_count": 11,
   "metadata": {
    "collapsed": true
   },
   "outputs": [],
   "source": [
    "vacancies['salary'] = salaries.apply(lambda x: x[1])"
   ]
  },
  {
   "cell_type": "code",
   "execution_count": 12,
   "metadata": {
    "collapsed": false
   },
   "outputs": [],
   "source": [
    "vacancies['salary_currency'] = salaries.apply(lambda x: x[0])"
   ]
  },
  {
   "cell_type": "code",
   "execution_count": 13,
   "metadata": {
    "collapsed": true
   },
   "outputs": [],
   "source": [
    "vacancies['name'] = vacancies.name.apply(lambda x: x.lower())"
   ]
  },
  {
   "cell_type": "code",
   "execution_count": 14,
   "metadata": {
    "collapsed": false
   },
   "outputs": [
    {
     "data": {
      "text/html": [
       "<div>\n",
       "<table border=\"1\" class=\"dataframe\">\n",
       "  <thead>\n",
       "    <tr style=\"text-align: right;\">\n",
       "      <th></th>\n",
       "      <th>id</th>\n",
       "      <th>name</th>\n",
       "      <th>html</th>\n",
       "      <th>url</th>\n",
       "      <th>site</th>\n",
       "      <th>date</th>\n",
       "      <th>text</th>\n",
       "      <th>salary</th>\n",
       "      <th>salary_currency</th>\n",
       "    </tr>\n",
       "  </thead>\n",
       "  <tbody>\n",
       "    <tr>\n",
       "      <th>3</th>\n",
       "      <td>1413553876</td>\n",
       "      <td>разработчик ruby/ruby on rails</td>\n",
       "      <td>&lt;div class=\"b-important b-vacancy-info\"&gt;&lt;table...</td>\n",
       "      <td>http://irkutsk.hh.ru/vacancy/11833695?query=%D...</td>\n",
       "      <td>hh.ru</td>\n",
       "      <td>2014-10-17 13:51:12</td>\n",
       "      <td>в состав распределенной команды, разрабатывающ...</td>\n",
       "      <td>70000</td>\n",
       "      <td>rur</td>\n",
       "    </tr>\n",
       "    <tr>\n",
       "      <th>4</th>\n",
       "      <td>1413553877</td>\n",
       "      <td>ведущий программист 1 с/руководитель направлен...</td>\n",
       "      <td>&lt;div class=\"b-important b-vacancy-info\"&gt;&lt;table...</td>\n",
       "      <td>http://irkutsk.hh.ru/vacancy/11926858?query=%D...</td>\n",
       "      <td>hh.ru</td>\n",
       "      <td>2014-10-17 13:51:12</td>\n",
       "      <td>медицинская сеть клиник приглашает на работу н...</td>\n",
       "      <td>110000</td>\n",
       "      <td>rur</td>\n",
       "    </tr>\n",
       "  </tbody>\n",
       "</table>\n",
       "</div>"
      ],
      "text/plain": [
       "           id                                               name  \\\n",
       "3  1413553876                     разработчик ruby/ruby on rails   \n",
       "4  1413553877  ведущий программист 1 с/руководитель направлен...   \n",
       "\n",
       "                                                html  \\\n",
       "3  <div class=\"b-important b-vacancy-info\"><table...   \n",
       "4  <div class=\"b-important b-vacancy-info\"><table...   \n",
       "\n",
       "                                                 url   site  \\\n",
       "3  http://irkutsk.hh.ru/vacancy/11833695?query=%D...  hh.ru   \n",
       "4  http://irkutsk.hh.ru/vacancy/11926858?query=%D...  hh.ru   \n",
       "\n",
       "                 date                                               text  \\\n",
       "3 2014-10-17 13:51:12  в состав распределенной команды, разрабатывающ...   \n",
       "4 2014-10-17 13:51:12  медицинская сеть клиник приглашает на работу н...   \n",
       "\n",
       "   salary salary_currency  \n",
       "3   70000             rur  \n",
       "4  110000             rur  "
      ]
     },
     "execution_count": 14,
     "metadata": {},
     "output_type": "execute_result"
    }
   ],
   "source": [
    "vacancies.head(2)"
   ]
  },
  {
   "cell_type": "code",
   "execution_count": 15,
   "metadata": {
    "collapsed": true
   },
   "outputs": [],
   "source": [
    "vacancies_prepared = vacancies[['date', 'name', 'text', 'salary', 'salary_currency']]"
   ]
  },
  {
   "cell_type": "code",
   "execution_count": 16,
   "metadata": {
    "collapsed": false
   },
   "outputs": [
    {
     "name": "stderr",
     "output_type": "stream",
     "text": [
      "/usr/local/lib/python3.4/site-packages/ipykernel/__main__.py:1: SettingWithCopyWarning: \n",
      "A value is trying to be set on a copy of a slice from a DataFrame.\n",
      "Try using .loc[row_indexer,col_indexer] = value instead\n",
      "\n",
      "See the caveats in the documentation: http://pandas.pydata.org/pandas-docs/stable/indexing.html#indexing-view-versus-copy\n",
      "  if __name__ == '__main__':\n"
     ]
    }
   ],
   "source": [
    "vacancies_prepared['currency'] = vacancies_prepared.loc[:,'salary_currency']"
   ]
  },
  {
   "cell_type": "code",
   "execution_count": 17,
   "metadata": {
    "collapsed": true
   },
   "outputs": [],
   "source": [
    "del vacancies_prepared['salary_currency']"
   ]
  },
  {
   "cell_type": "code",
   "execution_count": 18,
   "metadata": {
    "collapsed": false
   },
   "outputs": [
    {
     "data": {
      "text/html": [
       "<div>\n",
       "<table border=\"1\" class=\"dataframe\">\n",
       "  <thead>\n",
       "    <tr style=\"text-align: right;\">\n",
       "      <th></th>\n",
       "      <th>date</th>\n",
       "      <th>name</th>\n",
       "      <th>text</th>\n",
       "      <th>salary</th>\n",
       "      <th>currency</th>\n",
       "    </tr>\n",
       "  </thead>\n",
       "  <tbody>\n",
       "    <tr>\n",
       "      <th>3</th>\n",
       "      <td>2014-10-17 13:51:12</td>\n",
       "      <td>разработчик ruby/ruby on rails</td>\n",
       "      <td>в состав распределенной команды, разрабатывающ...</td>\n",
       "      <td>70000</td>\n",
       "      <td>rur</td>\n",
       "    </tr>\n",
       "    <tr>\n",
       "      <th>4</th>\n",
       "      <td>2014-10-17 13:51:12</td>\n",
       "      <td>ведущий программист 1 с/руководитель направлен...</td>\n",
       "      <td>медицинская сеть клиник приглашает на работу н...</td>\n",
       "      <td>110000</td>\n",
       "      <td>rur</td>\n",
       "    </tr>\n",
       "    <tr>\n",
       "      <th>5</th>\n",
       "      <td>2014-10-17 13:51:12</td>\n",
       "      <td>java-разработчик</td>\n",
       "      <td>обязанности:  участие в проектах компании по р...</td>\n",
       "      <td>40000</td>\n",
       "      <td>rur</td>\n",
       "    </tr>\n",
       "    <tr>\n",
       "      <th>8</th>\n",
       "      <td>2014-10-17 13:51:12</td>\n",
       "      <td>ios разработчик</td>\n",
       "      <td>привет. меня зовут егор, в 2011 году мы создал...</td>\n",
       "      <td>120000</td>\n",
       "      <td>rur</td>\n",
       "    </tr>\n",
       "    <tr>\n",
       "      <th>9</th>\n",
       "      <td>2014-10-17 13:51:12</td>\n",
       "      <td>программист php (web-разработка; back-end)</td>\n",
       "      <td>в телекоммуникационную компанию требуется прог...</td>\n",
       "      <td>80000</td>\n",
       "      <td>rur</td>\n",
       "    </tr>\n",
       "  </tbody>\n",
       "</table>\n",
       "</div>"
      ],
      "text/plain": [
       "                 date                                               name  \\\n",
       "3 2014-10-17 13:51:12                     разработчик ruby/ruby on rails   \n",
       "4 2014-10-17 13:51:12  ведущий программист 1 с/руководитель направлен...   \n",
       "5 2014-10-17 13:51:12                                   java-разработчик   \n",
       "8 2014-10-17 13:51:12                                    ios разработчик   \n",
       "9 2014-10-17 13:51:12         программист php (web-разработка; back-end)   \n",
       "\n",
       "                                                text  salary currency  \n",
       "3  в состав распределенной команды, разрабатывающ...   70000      rur  \n",
       "4  медицинская сеть клиник приглашает на работу н...  110000      rur  \n",
       "5  обязанности:  участие в проектах компании по р...   40000      rur  \n",
       "8  привет. меня зовут егор, в 2011 году мы создал...  120000      rur  \n",
       "9  в телекоммуникационную компанию требуется прог...   80000      rur  "
      ]
     },
     "execution_count": 18,
     "metadata": {},
     "output_type": "execute_result"
    }
   ],
   "source": [
    "vacancies_prepared.head()"
   ]
  },
  {
   "cell_type": "code",
   "execution_count": 19,
   "metadata": {
    "collapsed": true
   },
   "outputs": [],
   "source": [
    "vacancies_prepared.to_pickle('data/vacancies_prepared.pickle')"
   ]
  },
  {
   "cell_type": "markdown",
   "metadata": {},
   "source": [
    "# Tokenizing"
   ]
  },
  {
   "cell_type": "code",
   "execution_count": 62,
   "metadata": {
    "collapsed": false
   },
   "outputs": [],
   "source": [
    "from nltk.corpus import stopwords\n",
    "stop_words = stopwords.words('russian')\n",
    "stop_words.extend(['что', 'это', 'так', 'вот', 'быть', 'как', 'в', '—', 'к', 'на'])\n",
    "stop_words.extend(['разработчик', 'программист', 'developer', 'разработка'])  # add custom stopwords\n",
    "stop_words = set(stop_words)"
   ]
  },
  {
   "cell_type": "code",
   "execution_count": 63,
   "metadata": {
    "collapsed": false
   },
   "outputs": [],
   "source": [
    "import string\n",
    "punctuation = set(string.punctuation)"
   ]
  },
  {
   "cell_type": "code",
   "execution_count": 64,
   "metadata": {
    "collapsed": true
   },
   "outputs": [],
   "source": [
    "from nltk.tokenize import RegexpTokenizer\n",
    "import nltk\n",
    "tokenizer = RegexpTokenizer(r'\\w+')"
   ]
  },
  {
   "cell_type": "code",
   "execution_count": 65,
   "metadata": {
    "collapsed": true
   },
   "outputs": [],
   "source": [
    "def tokenize(text: str) -> list:\n",
    "    text = text.replace('/', ' ').replace('-', ' ')\n",
    "    tokens = nltk.word_tokenize(text)\n",
    "    tokens = [i for i in tokens if i not in stop_words and i not in punctuation]\n",
    "    tokens = [i.replace(\"«\", \"\").replace(\"»\", \"\") for i in tokens]\n",
    "    return tokens"
   ]
  },
  {
   "cell_type": "code",
   "execution_count": 66,
   "metadata": {
    "collapsed": true
   },
   "outputs": [],
   "source": [
    "vacancies_tokens = pd.DataFrame()"
   ]
  },
  {
   "cell_type": "code",
   "execution_count": 67,
   "metadata": {
    "collapsed": false
   },
   "outputs": [],
   "source": [
    "vacancies_tokens['name_tokens'] = vacancies_prepared.name.apply(tokenize)"
   ]
  },
  {
   "cell_type": "code",
   "execution_count": 68,
   "metadata": {
    "collapsed": false
   },
   "outputs": [],
   "source": [
    "vacancies_tokens['text_tokens'] = vacancies_prepared.text.apply(tokenize)"
   ]
  },
  {
   "cell_type": "code",
   "execution_count": 69,
   "metadata": {
    "collapsed": false
   },
   "outputs": [
    {
     "data": {
      "text/html": [
       "<div>\n",
       "<table border=\"1\" class=\"dataframe\">\n",
       "  <thead>\n",
       "    <tr style=\"text-align: right;\">\n",
       "      <th></th>\n",
       "      <th>name_tokens</th>\n",
       "      <th>text_tokens</th>\n",
       "    </tr>\n",
       "  </thead>\n",
       "  <tbody>\n",
       "    <tr>\n",
       "      <th>3</th>\n",
       "      <td>[ruby, ruby, on, rails]</td>\n",
       "      <td>[состав, распределенной, команды, разрабатываю...</td>\n",
       "    </tr>\n",
       "    <tr>\n",
       "      <th>4</th>\n",
       "      <td>[ведущий, 1, руководитель, направления, it]</td>\n",
       "      <td>[медицинская, сеть, клиник, приглашает, работу...</td>\n",
       "    </tr>\n",
       "    <tr>\n",
       "      <th>5</th>\n",
       "      <td>[java]</td>\n",
       "      <td>[обязанности, участие, проектах, компании, раз...</td>\n",
       "    </tr>\n",
       "    <tr>\n",
       "      <th>8</th>\n",
       "      <td>[ios]</td>\n",
       "      <td>[привет, зовут, егор, 2011, году, создали, ком...</td>\n",
       "    </tr>\n",
       "    <tr>\n",
       "      <th>9</th>\n",
       "      <td>[php, web, back, end]</td>\n",
       "      <td>[телекоммуникационную, компанию, требуется, ph...</td>\n",
       "    </tr>\n",
       "  </tbody>\n",
       "</table>\n",
       "</div>"
      ],
      "text/plain": [
       "                                   name_tokens  \\\n",
       "3                      [ruby, ruby, on, rails]   \n",
       "4  [ведущий, 1, руководитель, направления, it]   \n",
       "5                                       [java]   \n",
       "8                                        [ios]   \n",
       "9                        [php, web, back, end]   \n",
       "\n",
       "                                         text_tokens  \n",
       "3  [состав, распределенной, команды, разрабатываю...  \n",
       "4  [медицинская, сеть, клиник, приглашает, работу...  \n",
       "5  [обязанности, участие, проектах, компании, раз...  \n",
       "8  [привет, зовут, егор, 2011, году, создали, ком...  \n",
       "9  [телекоммуникационную, компанию, требуется, ph...  "
      ]
     },
     "execution_count": 69,
     "metadata": {},
     "output_type": "execute_result"
    }
   ],
   "source": [
    "vacancies_tokens.head()"
   ]
  },
  {
   "cell_type": "code",
   "execution_count": 70,
   "metadata": {
    "collapsed": true
   },
   "outputs": [],
   "source": [
    "back = vacancies_tokens.copy()"
   ]
  },
  {
   "cell_type": "markdown",
   "metadata": {},
   "source": [
    "## Stemming"
   ]
  },
  {
   "cell_type": "code",
   "execution_count": 71,
   "metadata": {
    "collapsed": true
   },
   "outputs": [],
   "source": [
    "stemmer = nltk.stem.snowball.RussianStemmer(ignore_stopwords=True)"
   ]
  },
  {
   "cell_type": "code",
   "execution_count": 72,
   "metadata": {
    "collapsed": false
   },
   "outputs": [],
   "source": [
    "english_letters = set(string.ascii_lowercase)"
   ]
  },
  {
   "cell_type": "code",
   "execution_count": 73,
   "metadata": {
    "collapsed": false
   },
   "outputs": [],
   "source": [
    "def stem(tokens: list) -> list:\n",
    "    return [stemmer.stem(token) if len(token) > 0 and token[0] not in english_letters else token for token in tokens]"
   ]
  },
  {
   "cell_type": "code",
   "execution_count": 74,
   "metadata": {
    "collapsed": false
   },
   "outputs": [],
   "source": [
    "vacancies_tokens['name_tokens'] = vacancies_tokens.name_tokens.apply(stem)"
   ]
  },
  {
   "cell_type": "code",
   "execution_count": 75,
   "metadata": {
    "collapsed": false
   },
   "outputs": [
    {
     "data": {
      "text/html": [
       "<div>\n",
       "<table border=\"1\" class=\"dataframe\">\n",
       "  <thead>\n",
       "    <tr style=\"text-align: right;\">\n",
       "      <th></th>\n",
       "      <th>name_tokens</th>\n",
       "      <th>text_tokens</th>\n",
       "    </tr>\n",
       "  </thead>\n",
       "  <tbody>\n",
       "    <tr>\n",
       "      <th>3</th>\n",
       "      <td>[ruby, ruby, on, rails]</td>\n",
       "      <td>[состав, распределенной, команды, разрабатываю...</td>\n",
       "    </tr>\n",
       "    <tr>\n",
       "      <th>4</th>\n",
       "      <td>[ведущ, 1, руководител, направлен, it]</td>\n",
       "      <td>[медицинская, сеть, клиник, приглашает, работу...</td>\n",
       "    </tr>\n",
       "    <tr>\n",
       "      <th>5</th>\n",
       "      <td>[java]</td>\n",
       "      <td>[обязанности, участие, проектах, компании, раз...</td>\n",
       "    </tr>\n",
       "    <tr>\n",
       "      <th>8</th>\n",
       "      <td>[ios]</td>\n",
       "      <td>[привет, зовут, егор, 2011, году, создали, ком...</td>\n",
       "    </tr>\n",
       "    <tr>\n",
       "      <th>9</th>\n",
       "      <td>[php, web, back, end]</td>\n",
       "      <td>[телекоммуникационную, компанию, требуется, ph...</td>\n",
       "    </tr>\n",
       "  </tbody>\n",
       "</table>\n",
       "</div>"
      ],
      "text/plain": [
       "                              name_tokens  \\\n",
       "3                 [ruby, ruby, on, rails]   \n",
       "4  [ведущ, 1, руководител, направлен, it]   \n",
       "5                                  [java]   \n",
       "8                                   [ios]   \n",
       "9                   [php, web, back, end]   \n",
       "\n",
       "                                         text_tokens  \n",
       "3  [состав, распределенной, команды, разрабатываю...  \n",
       "4  [медицинская, сеть, клиник, приглашает, работу...  \n",
       "5  [обязанности, участие, проектах, компании, раз...  \n",
       "8  [привет, зовут, егор, 2011, году, создали, ком...  \n",
       "9  [телекоммуникационную, компанию, требуется, ph...  "
      ]
     },
     "execution_count": 75,
     "metadata": {},
     "output_type": "execute_result"
    }
   ],
   "source": [
    "vacancies_tokens.head()"
   ]
  },
  {
   "cell_type": "code",
   "execution_count": 213,
   "metadata": {
    "collapsed": false
   },
   "outputs": [],
   "source": [
    "vacancies_tokens['text_tokens'] = vacancies_tokens.text_tokens.apply(stem)"
   ]
  },
  {
   "cell_type": "code",
   "execution_count": 215,
   "metadata": {
    "collapsed": false
   },
   "outputs": [],
   "source": [
    "vacancies_tokens_back = vacancies_tokens.copy()"
   ]
  },
  {
   "cell_type": "markdown",
   "metadata": {},
   "source": [
    "# Got processed texts"
   ]
  },
  {
   "cell_type": "code",
   "execution_count": 79,
   "metadata": {
    "collapsed": false
   },
   "outputs": [],
   "source": [
    "vacancies = vacancies_tokens.join(vacancies_prepared[['date', 'salary', 'currency']])"
   ]
  },
  {
   "cell_type": "code",
   "execution_count": 81,
   "metadata": {
    "collapsed": false
   },
   "outputs": [
    {
     "data": {
      "text/html": [
       "<div>\n",
       "<table border=\"1\" class=\"dataframe\">\n",
       "  <thead>\n",
       "    <tr style=\"text-align: right;\">\n",
       "      <th></th>\n",
       "      <th>name_tokens</th>\n",
       "      <th>text_tokens</th>\n",
       "      <th>date</th>\n",
       "      <th>salary</th>\n",
       "      <th>currency</th>\n",
       "    </tr>\n",
       "  </thead>\n",
       "  <tbody>\n",
       "    <tr>\n",
       "      <th>3</th>\n",
       "      <td>[ruby, ruby, on, rails]</td>\n",
       "      <td>[состав, распределенной, команды, разрабатываю...</td>\n",
       "      <td>2014-10-17 13:51:12</td>\n",
       "      <td>70000</td>\n",
       "      <td>rur</td>\n",
       "    </tr>\n",
       "    <tr>\n",
       "      <th>4</th>\n",
       "      <td>[ведущ, 1, руководител, направлен, it]</td>\n",
       "      <td>[медицинская, сеть, клиник, приглашает, работу...</td>\n",
       "      <td>2014-10-17 13:51:12</td>\n",
       "      <td>110000</td>\n",
       "      <td>rur</td>\n",
       "    </tr>\n",
       "    <tr>\n",
       "      <th>5</th>\n",
       "      <td>[java]</td>\n",
       "      <td>[обязанности, участие, проектах, компании, раз...</td>\n",
       "      <td>2014-10-17 13:51:12</td>\n",
       "      <td>40000</td>\n",
       "      <td>rur</td>\n",
       "    </tr>\n",
       "    <tr>\n",
       "      <th>8</th>\n",
       "      <td>[ios]</td>\n",
       "      <td>[привет, зовут, егор, 2011, году, создали, ком...</td>\n",
       "      <td>2014-10-17 13:51:12</td>\n",
       "      <td>120000</td>\n",
       "      <td>rur</td>\n",
       "    </tr>\n",
       "    <tr>\n",
       "      <th>9</th>\n",
       "      <td>[php, web, back, end]</td>\n",
       "      <td>[телекоммуникационную, компанию, требуется, ph...</td>\n",
       "      <td>2014-10-17 13:51:12</td>\n",
       "      <td>80000</td>\n",
       "      <td>rur</td>\n",
       "    </tr>\n",
       "    <tr>\n",
       "      <th>10</th>\n",
       "      <td>[1с]</td>\n",
       "      <td>[компания, эспокада, лидеров, рынка, домашнего...</td>\n",
       "      <td>2014-10-17 13:51:12</td>\n",
       "      <td>100000</td>\n",
       "      <td>rur</td>\n",
       "    </tr>\n",
       "    <tr>\n",
       "      <th>11</th>\n",
       "      <td>[]</td>\n",
       "      <td>[обязанности, написание, новых, программ, авто...</td>\n",
       "      <td>2014-10-17 13:51:12</td>\n",
       "      <td>50000</td>\n",
       "      <td>rur</td>\n",
       "    </tr>\n",
       "    <tr>\n",
       "      <th>12</th>\n",
       "      <td>[инженер, машин, обучен, искусствен, интеллект]</td>\n",
       "      <td>[обязанности, эффективная, реализация, алгорит...</td>\n",
       "      <td>2014-10-17 13:51:12</td>\n",
       "      <td>80000</td>\n",
       "      <td>rur</td>\n",
       "    </tr>\n",
       "    <tr>\n",
       "      <th>14</th>\n",
       "      <td>[1с, 8.2, системн, администратор]</td>\n",
       "      <td>[1с, 8.2, системный, администратор, обязанност...</td>\n",
       "      <td>2014-10-17 13:51:12</td>\n",
       "      <td>80000</td>\n",
       "      <td>rur</td>\n",
       "    </tr>\n",
       "    <tr>\n",
       "      <th>15</th>\n",
       "      <td>[python]</td>\n",
       "      <td>[обязанности, серверной, части, умного, дома, ...</td>\n",
       "      <td>2014-10-17 13:51:12</td>\n",
       "      <td>50000</td>\n",
       "      <td>rur</td>\n",
       "    </tr>\n",
       "    <tr>\n",
       "      <th>16</th>\n",
       "      <td>[java]</td>\n",
       "      <td>[команду, разработки, веб, решений, анализа, ж...</td>\n",
       "      <td>2014-10-17 13:51:12</td>\n",
       "      <td>60000</td>\n",
       "      <td>rur</td>\n",
       "    </tr>\n",
       "    <tr>\n",
       "      <th>17</th>\n",
       "      <td>[системн, c, linux, компилятор, оптимизац]</td>\n",
       "      <td>[связи, расширением, штата, ищем, профессионал...</td>\n",
       "      <td>2014-10-17 13:51:12</td>\n",
       "      <td>80000</td>\n",
       "      <td>rur</td>\n",
       "    </tr>\n",
       "    <tr>\n",
       "      <th>18</th>\n",
       "      <td>[web, frontend]</td>\n",
       "      <td>[обязанности, техническая, поддержка, сайтов, ...</td>\n",
       "      <td>2014-10-17 13:51:12</td>\n",
       "      <td>40000</td>\n",
       "      <td>rur</td>\n",
       "    </tr>\n",
       "    <tr>\n",
       "      <th>19</th>\n",
       "      <td>[python]</td>\n",
       "      <td>[отдел, разработок, крупного, интернет, проект...</td>\n",
       "      <td>2014-10-17 13:51:12</td>\n",
       "      <td>90000</td>\n",
       "      <td>rur</td>\n",
       "    </tr>\n",
       "    <tr>\n",
       "      <th>22</th>\n",
       "      <td>[php]</td>\n",
       "      <td>[группу, компаний, рустелеторг, являющейся, пр...</td>\n",
       "      <td>2014-10-17 13:51:12</td>\n",
       "      <td>50000</td>\n",
       "      <td>rur</td>\n",
       "    </tr>\n",
       "    <tr>\n",
       "      <th>23</th>\n",
       "      <td>[]</td>\n",
       "      <td>[обязанности, универсальной, системы, управлен...</td>\n",
       "      <td>2014-10-17 13:51:12</td>\n",
       "      <td>70000</td>\n",
       "      <td>rur</td>\n",
       "    </tr>\n",
       "    <tr>\n",
       "      <th>25</th>\n",
       "      <td>[системн]</td>\n",
       "      <td>[обязанности, программного, обеспечения, платф...</td>\n",
       "      <td>2014-10-17 13:51:12</td>\n",
       "      <td>100000</td>\n",
       "      <td>rur</td>\n",
       "    </tr>\n",
       "    <tr>\n",
       "      <th>27</th>\n",
       "      <td>[php]</td>\n",
       "      <td>[webinar.ru, лидирующий, россии, восточной, ев...</td>\n",
       "      <td>2014-10-17 13:51:12</td>\n",
       "      <td>100000</td>\n",
       "      <td>rur</td>\n",
       "    </tr>\n",
       "    <tr>\n",
       "      <th>31</th>\n",
       "      <td>[ria]</td>\n",
       "      <td>[обязанности, высоконагруженных, веб, сервисов...</td>\n",
       "      <td>2014-10-17 13:51:12</td>\n",
       "      <td>100000</td>\n",
       "      <td>rur</td>\n",
       "    </tr>\n",
       "    <tr>\n",
       "      <th>32</th>\n",
       "      <td>[python]</td>\n",
       "      <td>[приглашаем, работу, программиста, python, выс...</td>\n",
       "      <td>2014-10-17 13:51:12</td>\n",
       "      <td>120000</td>\n",
       "      <td>rur</td>\n",
       "    </tr>\n",
       "  </tbody>\n",
       "</table>\n",
       "</div>"
      ],
      "text/plain": [
       "                                        name_tokens  \\\n",
       "3                           [ruby, ruby, on, rails]   \n",
       "4            [ведущ, 1, руководител, направлен, it]   \n",
       "5                                            [java]   \n",
       "8                                             [ios]   \n",
       "9                             [php, web, back, end]   \n",
       "10                                             [1с]   \n",
       "11                                               []   \n",
       "12  [инженер, машин, обучен, искусствен, интеллект]   \n",
       "14                [1с, 8.2, системн, администратор]   \n",
       "15                                         [python]   \n",
       "16                                           [java]   \n",
       "17       [системн, c, linux, компилятор, оптимизац]   \n",
       "18                                  [web, frontend]   \n",
       "19                                         [python]   \n",
       "22                                            [php]   \n",
       "23                                               []   \n",
       "25                                        [системн]   \n",
       "27                                            [php]   \n",
       "31                                            [ria]   \n",
       "32                                         [python]   \n",
       "\n",
       "                                          text_tokens                date  \\\n",
       "3   [состав, распределенной, команды, разрабатываю... 2014-10-17 13:51:12   \n",
       "4   [медицинская, сеть, клиник, приглашает, работу... 2014-10-17 13:51:12   \n",
       "5   [обязанности, участие, проектах, компании, раз... 2014-10-17 13:51:12   \n",
       "8   [привет, зовут, егор, 2011, году, создали, ком... 2014-10-17 13:51:12   \n",
       "9   [телекоммуникационную, компанию, требуется, ph... 2014-10-17 13:51:12   \n",
       "10  [компания, эспокада, лидеров, рынка, домашнего... 2014-10-17 13:51:12   \n",
       "11  [обязанности, написание, новых, программ, авто... 2014-10-17 13:51:12   \n",
       "12  [обязанности, эффективная, реализация, алгорит... 2014-10-17 13:51:12   \n",
       "14  [1с, 8.2, системный, администратор, обязанност... 2014-10-17 13:51:12   \n",
       "15  [обязанности, серверной, части, умного, дома, ... 2014-10-17 13:51:12   \n",
       "16  [команду, разработки, веб, решений, анализа, ж... 2014-10-17 13:51:12   \n",
       "17  [связи, расширением, штата, ищем, профессионал... 2014-10-17 13:51:12   \n",
       "18  [обязанности, техническая, поддержка, сайтов, ... 2014-10-17 13:51:12   \n",
       "19  [отдел, разработок, крупного, интернет, проект... 2014-10-17 13:51:12   \n",
       "22  [группу, компаний, рустелеторг, являющейся, пр... 2014-10-17 13:51:12   \n",
       "23  [обязанности, универсальной, системы, управлен... 2014-10-17 13:51:12   \n",
       "25  [обязанности, программного, обеспечения, платф... 2014-10-17 13:51:12   \n",
       "27  [webinar.ru, лидирующий, россии, восточной, ев... 2014-10-17 13:51:12   \n",
       "31  [обязанности, высоконагруженных, веб, сервисов... 2014-10-17 13:51:12   \n",
       "32  [приглашаем, работу, программиста, python, выс... 2014-10-17 13:51:12   \n",
       "\n",
       "    salary currency  \n",
       "3    70000      rur  \n",
       "4   110000      rur  \n",
       "5    40000      rur  \n",
       "8   120000      rur  \n",
       "9    80000      rur  \n",
       "10  100000      rur  \n",
       "11   50000      rur  \n",
       "12   80000      rur  \n",
       "14   80000      rur  \n",
       "15   50000      rur  \n",
       "16   60000      rur  \n",
       "17   80000      rur  \n",
       "18   40000      rur  \n",
       "19   90000      rur  \n",
       "22   50000      rur  \n",
       "23   70000      rur  \n",
       "25  100000      rur  \n",
       "27  100000      rur  \n",
       "31  100000      rur  \n",
       "32  120000      rur  "
      ]
     },
     "execution_count": 81,
     "metadata": {},
     "output_type": "execute_result"
    }
   ],
   "source": [
    "vacancies.head(20)"
   ]
  },
  {
   "cell_type": "code",
   "execution_count": 82,
   "metadata": {
    "collapsed": true
   },
   "outputs": [],
   "source": [
    "vacancies.to_pickle('data/vacancies_stemmed.pickle')"
   ]
  },
  {
   "cell_type": "code",
   "execution_count": 96,
   "metadata": {
    "collapsed": true
   },
   "outputs": [],
   "source": [
    "vacancies_back = vacancies.copy()"
   ]
  },
  {
   "cell_type": "markdown",
   "metadata": {},
   "source": [
    "# TF-Idf features"
   ]
  },
  {
   "cell_type": "code",
   "execution_count": 104,
   "metadata": {
    "collapsed": true
   },
   "outputs": [],
   "source": [
    "vacancies = vacancies_back.copy()"
   ]
  },
  {
   "cell_type": "code",
   "execution_count": 105,
   "metadata": {
    "collapsed": true
   },
   "outputs": [],
   "source": [
    "vacancies.name_tokens = vacancies.name_tokens.apply(lambda lst: ' '.join(lst))  # create texts\n",
    "vacancies.text_tokens = vacancies.text_tokens.apply(lambda lst: ' '.join(lst))  # create texts"
   ]
  },
  {
   "cell_type": "code",
   "execution_count": 106,
   "metadata": {
    "collapsed": false
   },
   "outputs": [],
   "source": [
    "from sklearn.feature_extraction.text import TfidfVectorizer"
   ]
  },
  {
   "cell_type": "code",
   "execution_count": 107,
   "metadata": {
    "collapsed": false
   },
   "outputs": [],
   "source": [
    "vectorizer = TfidfVectorizer(min_df=1)\n",
    "text_tfidf_matrix = vectorizer.fit_transform(vacancies.name_tokens)"
   ]
  },
  {
   "cell_type": "code",
   "execution_count": 110,
   "metadata": {
    "collapsed": false
   },
   "outputs": [
    {
     "data": {
      "text/plain": [
       "<17446x1931 sparse matrix of type '<class 'numpy.float64'>'\n",
       "\twith 40945 stored elements in Compressed Sparse Row format>"
      ]
     },
     "execution_count": 110,
     "metadata": {},
     "output_type": "execute_result"
    }
   ],
   "source": [
    "text_tfidf_matrix"
   ]
  },
  {
   "cell_type": "code",
   "execution_count": 108,
   "metadata": {
    "collapsed": false
   },
   "outputs": [],
   "source": [
    "vectorizer = TfidfVectorizer(min_df=1)\n",
    "title_tfidf_matrix = vectorizer.fit_transform(vacancies.text_tokens)"
   ]
  },
  {
   "cell_type": "code",
   "execution_count": 112,
   "metadata": {
    "collapsed": false
   },
   "outputs": [
    {
     "data": {
      "text/plain": [
       "<17446x60994 sparse matrix of type '<class 'numpy.float64'>'\n",
       "\twith 2045731 stored elements in Compressed Sparse Row format>"
      ]
     },
     "execution_count": 112,
     "metadata": {},
     "output_type": "execute_result"
    }
   ],
   "source": [
    "title_tfidf_matrix"
   ]
  },
  {
   "cell_type": "markdown",
   "metadata": {},
   "source": [
    "# Very basic linear regression model"
   ]
  },
  {
   "cell_type": "markdown",
   "metadata": {},
   "source": [
    "see: http://scikit-learn.org/stable/auto_examples/linear_model/plot_ols.html"
   ]
  },
  {
   "cell_type": "code",
   "execution_count": 120,
   "metadata": {
    "collapsed": true
   },
   "outputs": [],
   "source": [
    "X = text_tfidf_matrix.todense()\n",
    "Y = vacancies.salary"
   ]
  },
  {
   "cell_type": "code",
   "execution_count": 125,
   "metadata": {
    "collapsed": true
   },
   "outputs": [],
   "source": [
    "from sklearn.preprocessing import Imputer\n",
    "X = Imputer().fit_transform(X)"
   ]
  },
  {
   "cell_type": "code",
   "execution_count": 126,
   "metadata": {
    "collapsed": true
   },
   "outputs": [
    {
     "ename": "ValueError",
     "evalue": "Input contains NaN, infinity or a value too large for dtype('float64').",
     "output_type": "error",
     "traceback": [
      "\u001b[1;31m---------------------------------------------------------------------------\u001b[0m",
      "\u001b[1;31mValueError\u001b[0m                                Traceback (most recent call last)",
      "\u001b[1;32m<ipython-input-126-95ca1126ccf7>\u001b[0m in \u001b[0;36m<module>\u001b[1;34m()\u001b[0m\n\u001b[0;32m      5\u001b[0m \u001b[1;33m\u001b[0m\u001b[0m\n\u001b[0;32m      6\u001b[0m \u001b[1;31m# Train the model using the training sets\u001b[0m\u001b[1;33m\u001b[0m\u001b[1;33m\u001b[0m\u001b[0m\n\u001b[1;32m----> 7\u001b[1;33m \u001b[0mregr\u001b[0m\u001b[1;33m.\u001b[0m\u001b[0mfit\u001b[0m\u001b[1;33m(\u001b[0m\u001b[0mX\u001b[0m\u001b[1;33m,\u001b[0m \u001b[0mY\u001b[0m\u001b[1;33m)\u001b[0m\u001b[1;33m\u001b[0m\u001b[0m\n\u001b[0m",
      "\u001b[1;32m/usr/local/lib/python3.4/site-packages/sklearn/linear_model/base.py\u001b[0m in \u001b[0;36mfit\u001b[1;34m(self, X, y, sample_weight)\u001b[0m\n\u001b[0;32m    425\u001b[0m         \u001b[0mn_jobs_\u001b[0m \u001b[1;33m=\u001b[0m \u001b[0mself\u001b[0m\u001b[1;33m.\u001b[0m\u001b[0mn_jobs\u001b[0m\u001b[1;33m\u001b[0m\u001b[0m\n\u001b[0;32m    426\u001b[0m         X, y = check_X_y(X, y, accept_sparse=['csr', 'csc', 'coo'],\n\u001b[1;32m--> 427\u001b[1;33m                          y_numeric=True, multi_output=True)\n\u001b[0m\u001b[0;32m    428\u001b[0m \u001b[1;33m\u001b[0m\u001b[0m\n\u001b[0;32m    429\u001b[0m         \u001b[1;32mif\u001b[0m \u001b[1;33m(\u001b[0m\u001b[1;33m(\u001b[0m\u001b[0msample_weight\u001b[0m \u001b[1;32mis\u001b[0m \u001b[1;32mnot\u001b[0m \u001b[1;32mNone\u001b[0m\u001b[1;33m)\u001b[0m \u001b[1;32mand\u001b[0m \u001b[0mnp\u001b[0m\u001b[1;33m.\u001b[0m\u001b[0matleast_1d\u001b[0m\u001b[1;33m(\u001b[0m\u001b[0msample_weight\u001b[0m\u001b[1;33m)\u001b[0m\u001b[1;33m.\u001b[0m\u001b[0mndim\u001b[0m \u001b[1;33m>\u001b[0m \u001b[1;36m1\u001b[0m\u001b[1;33m)\u001b[0m\u001b[1;33m:\u001b[0m\u001b[1;33m\u001b[0m\u001b[0m\n",
      "\u001b[1;32m/usr/local/lib/python3.4/site-packages/sklearn/utils/validation.py\u001b[0m in \u001b[0;36mcheck_X_y\u001b[1;34m(X, y, accept_sparse, dtype, order, copy, force_all_finite, ensure_2d, allow_nd, multi_output, ensure_min_samples, ensure_min_features, y_numeric, warn_on_dtype, estimator)\u001b[0m\n\u001b[0;32m    511\u001b[0m     \u001b[1;32mif\u001b[0m \u001b[0mmulti_output\u001b[0m\u001b[1;33m:\u001b[0m\u001b[1;33m\u001b[0m\u001b[0m\n\u001b[0;32m    512\u001b[0m         y = check_array(y, 'csr', force_all_finite=True, ensure_2d=False,\n\u001b[1;32m--> 513\u001b[1;33m                         dtype=None)\n\u001b[0m\u001b[0;32m    514\u001b[0m     \u001b[1;32melse\u001b[0m\u001b[1;33m:\u001b[0m\u001b[1;33m\u001b[0m\u001b[0m\n\u001b[0;32m    515\u001b[0m         \u001b[0my\u001b[0m \u001b[1;33m=\u001b[0m \u001b[0mcolumn_or_1d\u001b[0m\u001b[1;33m(\u001b[0m\u001b[0my\u001b[0m\u001b[1;33m,\u001b[0m \u001b[0mwarn\u001b[0m\u001b[1;33m=\u001b[0m\u001b[1;32mTrue\u001b[0m\u001b[1;33m)\u001b[0m\u001b[1;33m\u001b[0m\u001b[0m\n",
      "\u001b[1;32m/usr/local/lib/python3.4/site-packages/sklearn/utils/validation.py\u001b[0m in \u001b[0;36mcheck_array\u001b[1;34m(array, accept_sparse, dtype, order, copy, force_all_finite, ensure_2d, allow_nd, ensure_min_samples, ensure_min_features, warn_on_dtype, estimator)\u001b[0m\n\u001b[0;32m    396\u001b[0m                              % (array.ndim, estimator_name))\n\u001b[0;32m    397\u001b[0m         \u001b[1;32mif\u001b[0m \u001b[0mforce_all_finite\u001b[0m\u001b[1;33m:\u001b[0m\u001b[1;33m\u001b[0m\u001b[0m\n\u001b[1;32m--> 398\u001b[1;33m             \u001b[0m_assert_all_finite\u001b[0m\u001b[1;33m(\u001b[0m\u001b[0marray\u001b[0m\u001b[1;33m)\u001b[0m\u001b[1;33m\u001b[0m\u001b[0m\n\u001b[0m\u001b[0;32m    399\u001b[0m \u001b[1;33m\u001b[0m\u001b[0m\n\u001b[0;32m    400\u001b[0m     \u001b[0mshape_repr\u001b[0m \u001b[1;33m=\u001b[0m \u001b[0m_shape_repr\u001b[0m\u001b[1;33m(\u001b[0m\u001b[0marray\u001b[0m\u001b[1;33m.\u001b[0m\u001b[0mshape\u001b[0m\u001b[1;33m)\u001b[0m\u001b[1;33m\u001b[0m\u001b[0m\n",
      "\u001b[1;32m/usr/local/lib/python3.4/site-packages/sklearn/utils/validation.py\u001b[0m in \u001b[0;36m_assert_all_finite\u001b[1;34m(X)\u001b[0m\n\u001b[0;32m     52\u001b[0m             and not np.isfinite(X).all()):\n\u001b[0;32m     53\u001b[0m         raise ValueError(\"Input contains NaN, infinity\"\n\u001b[1;32m---> 54\u001b[1;33m                          \" or a value too large for %r.\" % X.dtype)\n\u001b[0m\u001b[0;32m     55\u001b[0m \u001b[1;33m\u001b[0m\u001b[0m\n\u001b[0;32m     56\u001b[0m \u001b[1;33m\u001b[0m\u001b[0m\n",
      "\u001b[1;31mValueError\u001b[0m: Input contains NaN, infinity or a value too large for dtype('float64')."
     ]
    }
   ],
   "source": [
    "import sklearn.linear_model\n",
    "\n",
    "# Create linear regression object\n",
    "regr = sklearn.linear_model.LinearRegression()\n",
    "\n",
    "# Train the model using the training sets\n",
    "regr.fit(X, Y)"
   ]
  },
  {
   "cell_type": "code",
   "execution_count": null,
   "metadata": {
    "collapsed": true
   },
   "outputs": [],
   "source": [
    "# TODO: Split the data into training/testing sets"
   ]
  }
 ],
 "metadata": {
  "kernelspec": {
   "display_name": "Python 3",
   "language": "python",
   "name": "python3"
  },
  "language_info": {
   "codemirror_mode": {
    "name": "ipython",
    "version": 3
   },
   "file_extension": ".py",
   "mimetype": "text/x-python",
   "name": "python",
   "nbconvert_exporter": "python",
   "pygments_lexer": "ipython3",
   "version": "3.4.3"
  }
 },
 "nbformat": 4,
 "nbformat_minor": 0
}
