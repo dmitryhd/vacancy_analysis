{
 "cells": [
  {
   "cell_type": "markdown",
   "metadata": {},
   "source": [
    "# Vacan text preprocessing"
   ]
  },
  {
   "cell_type": "code",
   "execution_count": 68,
   "metadata": {
    "collapsed": false
   },
   "outputs": [],
   "source": [
    "import pandas as pd\n",
    "import bs4\n",
    "import re\n",
    "from IPython.display import display"
   ]
  },
  {
   "cell_type": "code",
   "execution_count": 4,
   "metadata": {
    "collapsed": true
   },
   "outputs": [],
   "source": [
    "vacancies = pd.read_pickle('data/vacancies.pickle')"
   ]
  },
  {
   "cell_type": "code",
   "execution_count": 7,
   "metadata": {
    "collapsed": false
   },
   "outputs": [
    {
     "data": {
      "text/html": [
       "<div>\n",
       "<table border=\"1\" class=\"dataframe\">\n",
       "  <thead>\n",
       "    <tr style=\"text-align: right;\">\n",
       "      <th></th>\n",
       "      <th>id</th>\n",
       "      <th>name</th>\n",
       "      <th>html</th>\n",
       "      <th>url</th>\n",
       "      <th>site</th>\n",
       "      <th>date</th>\n",
       "    </tr>\n",
       "  </thead>\n",
       "  <tbody>\n",
       "    <tr>\n",
       "      <th>3</th>\n",
       "      <td>1413553876</td>\n",
       "      <td>Разработчик Ruby/Ruby on Rails</td>\n",
       "      <td>&lt;div class=\"b-important b-vacancy-info\"&gt;&lt;table...</td>\n",
       "      <td>http://irkutsk.hh.ru/vacancy/11833695?query=%D...</td>\n",
       "      <td>hh.ru</td>\n",
       "      <td>2014-10-17 13:51:12</td>\n",
       "    </tr>\n",
       "    <tr>\n",
       "      <th>4</th>\n",
       "      <td>1413553877</td>\n",
       "      <td>Ведущий программист 1 С/Руководитель направлен...</td>\n",
       "      <td>&lt;div class=\"b-important b-vacancy-info\"&gt;&lt;table...</td>\n",
       "      <td>http://irkutsk.hh.ru/vacancy/11926858?query=%D...</td>\n",
       "      <td>hh.ru</td>\n",
       "      <td>2014-10-17 13:51:12</td>\n",
       "    </tr>\n",
       "  </tbody>\n",
       "</table>\n",
       "</div>"
      ],
      "text/plain": [
       "           id                                               name  \\\n",
       "3  1413553876                     Разработчик Ruby/Ruby on Rails   \n",
       "4  1413553877  Ведущий программист 1 С/Руководитель направлен...   \n",
       "\n",
       "                                                html  \\\n",
       "3  <div class=\"b-important b-vacancy-info\"><table...   \n",
       "4  <div class=\"b-important b-vacancy-info\"><table...   \n",
       "\n",
       "                                                 url   site  \\\n",
       "3  http://irkutsk.hh.ru/vacancy/11833695?query=%D...  hh.ru   \n",
       "4  http://irkutsk.hh.ru/vacancy/11926858?query=%D...  hh.ru   \n",
       "\n",
       "                 date  \n",
       "3 2014-10-17 13:51:12  \n",
       "4 2014-10-17 13:51:12  "
      ]
     },
     "execution_count": 7,
     "metadata": {},
     "output_type": "execute_result"
    }
   ],
   "source": [
    "vacancies.head()"
   ]
  },
  {
   "cell_type": "code",
   "execution_count": 19,
   "metadata": {
    "collapsed": false
   },
   "outputs": [
    {
     "data": {
      "text/plain": [
       "Timestamp('2015-12-06 12:39:17')"
      ]
     },
     "execution_count": 19,
     "metadata": {},
     "output_type": "execute_result"
    }
   ],
   "source": [
    "vacancies.date.max()"
   ]
  },
  {
   "cell_type": "code",
   "execution_count": 15,
   "metadata": {
    "collapsed": false
   },
   "outputs": [],
   "source": [
    "soup = bs4.BeautifulSoup(vacancies.iloc[0].html, 'html.parser')"
   ]
  },
  {
   "cell_type": "code",
   "execution_count": 20,
   "metadata": {
    "collapsed": false
   },
   "outputs": [
    {
     "data": {
      "text/plain": [
       "<meta content=\"RUR\" itemprop=\"salaryCurrency\"><meta content=\"70000\" itemprop=\"baseSalary\">от 70 000 руб.</meta></meta>"
      ]
     },
     "execution_count": 20,
     "metadata": {},
     "output_type": "execute_result"
    }
   ],
   "source": [
    "soup.meta"
   ]
  },
  {
   "cell_type": "code",
   "execution_count": 108,
   "metadata": {
    "collapsed": false
   },
   "outputs": [],
   "source": [
    "def get_salary(html: str) -> tuple:\n",
    "    soup = bs4.BeautifulSoup(html, 'html.parser')\n",
    "    basesalary = None\n",
    "    salarycurrency = None\n",
    "    for meta in soup.findAll(\"meta\"):\n",
    "        meta_name = meta.get('itemprop', '').lower()\n",
    "        if meta_name == 'salarycurrency':\n",
    "            salarycurrency = meta.get('content', '').lower()\n",
    "        if meta_name == 'basesalary':\n",
    "            basesalary = int(meta.get('content', ''))\n",
    "    return salarycurrency, basesalary\n",
    "\n",
    "def get_text(html: str) -> str:\n",
    "    try:\n",
    "        x = re.search(r'</table>.*</div>(.*)Тип занятости', html)\n",
    "        return x.groups()[0].lower()\n",
    "    except AttributeError:\n",
    "        return html.lower()"
   ]
  },
  {
   "cell_type": "code",
   "execution_count": 109,
   "metadata": {
    "collapsed": false
   },
   "outputs": [
    {
     "data": {
      "text/plain": [
       "('rur', 100000)"
      ]
     },
     "metadata": {},
     "output_type": "display_data"
    },
    {
     "data": {
      "text/plain": [
       "'компания «эспокада» (один из лидеров рынка домашнего текстиля) предлагает вам поучаствовать в конкурсе на замещение вакансии «программист-разработчик 1с».   что мы можем предложить вам:  работа в стабильной успешной компании просторный офис в 5 минутах ходьбы от метро «авиамоторная» комфортная рабочая обстановка молодой и дружный коллектив сложные, интересные и амбициозные задачи простор для реализации своего интеллектуального и творческого потенциала перспективы карьерного роста оформление в соответствии с тк рф    необходимые требования:  высшее образование (техническое) релевантный опыт работы от 6 лет понимание бизнес-процессов предприятий оптовой торговли (закупки, склад, производство, транспорт, продажи, клиентский сервис, бухгалтерия) способность мыслить нестандартно умение планировать свое время и всегда доводить работу до конца высокий уровень самоорганизации и ответственности за свою работу знания продуктов семейства 1с и практические навыки работы с ними отличное знание встроенного языка 1с: предприятие 8    необходимый опыт:  написание конфигураций и подсистем на платформе 1с8 ут «с нуля» перевод учета компании с 1с7 (нетиповая конфигурация) на 1с8 внедрение 1с8 на предприятии с численностью от 50 человек оптимизация бизнес-процессов средствами 1с внедрение штрихкодирования разработка и внедрение механизмов обмена данными в распределенных информационных базах (торговля – бухгалтерия и т.п.) обучение и поддержка пользователей наличие успешно завершенных проектов реализации и оптимизации бизнес-процессов предприятий оптовой торговли в 1с8 ут    условия:  график работы: понедельник-пятница с 9 до 18. соблюдение тк. уровень заработной платы определяется по результатам собеседования (в зависимости от опыта и профессиональных компетенций) м. авиамоторная (5 минут пешком от метро) адресмосква, энтузиастов, шоссе, 28, м. авиамоторнаяпоказать на карте\\xad'"
      ]
     },
     "metadata": {},
     "output_type": "display_data"
    }
   ],
   "source": [
    "example_html = vacancies.iloc[5].html\n",
    "display(get_salary(example_html))\n",
    "display(get_text(example_html))"
   ]
  },
  {
   "cell_type": "code",
   "execution_count": 110,
   "metadata": {
    "collapsed": true
   },
   "outputs": [],
   "source": [
    "vacancies['text'] = vacancies.html.apply(get_text)"
   ]
  },
  {
   "cell_type": "code",
   "execution_count": 91,
   "metadata": {
    "collapsed": true
   },
   "outputs": [],
   "source": [
    "salaries = vacancies.html.apply(get_salary)"
   ]
  },
  {
   "cell_type": "code",
   "execution_count": 111,
   "metadata": {
    "collapsed": true
   },
   "outputs": [],
   "source": [
    "vacancies['salary'] = salaries.apply(lambda x: x[1])"
   ]
  },
  {
   "cell_type": "code",
   "execution_count": 112,
   "metadata": {
    "collapsed": false
   },
   "outputs": [],
   "source": [
    "vacancies['salary_currency'] = salaries.apply(lambda x: x[0])"
   ]
  },
  {
   "cell_type": "code",
   "execution_count": 113,
   "metadata": {
    "collapsed": true
   },
   "outputs": [],
   "source": [
    "vacancies['name'] = vacancies.name.apply(lambda x: x.lower())"
   ]
  },
  {
   "cell_type": "code",
   "execution_count": 114,
   "metadata": {
    "collapsed": false
   },
   "outputs": [
    {
     "data": {
      "text/html": [
       "<div>\n",
       "<table border=\"1\" class=\"dataframe\">\n",
       "  <thead>\n",
       "    <tr style=\"text-align: right;\">\n",
       "      <th></th>\n",
       "      <th>id</th>\n",
       "      <th>name</th>\n",
       "      <th>html</th>\n",
       "      <th>url</th>\n",
       "      <th>site</th>\n",
       "      <th>date</th>\n",
       "      <th>salary</th>\n",
       "      <th>salary_currency</th>\n",
       "      <th>text</th>\n",
       "    </tr>\n",
       "  </thead>\n",
       "  <tbody>\n",
       "    <tr>\n",
       "      <th>3</th>\n",
       "      <td>1413553876</td>\n",
       "      <td>разработчик ruby/ruby on rails</td>\n",
       "      <td>&lt;div class=\"b-important b-vacancy-info\"&gt;&lt;table...</td>\n",
       "      <td>http://irkutsk.hh.ru/vacancy/11833695?query=%D...</td>\n",
       "      <td>hh.ru</td>\n",
       "      <td>2014-10-17 13:51:12</td>\n",
       "      <td>70000</td>\n",
       "      <td>rur</td>\n",
       "      <td>в состав распределенной команды, разрабатывающ...</td>\n",
       "    </tr>\n",
       "    <tr>\n",
       "      <th>4</th>\n",
       "      <td>1413553877</td>\n",
       "      <td>ведущий программист 1 с/руководитель направлен...</td>\n",
       "      <td>&lt;div class=\"b-important b-vacancy-info\"&gt;&lt;table...</td>\n",
       "      <td>http://irkutsk.hh.ru/vacancy/11926858?query=%D...</td>\n",
       "      <td>hh.ru</td>\n",
       "      <td>2014-10-17 13:51:12</td>\n",
       "      <td>110000</td>\n",
       "      <td>rur</td>\n",
       "      <td>медицинская сеть клиник приглашает на работу н...</td>\n",
       "    </tr>\n",
       "  </tbody>\n",
       "</table>\n",
       "</div>"
      ],
      "text/plain": [
       "           id                                               name  \\\n",
       "3  1413553876                     разработчик ruby/ruby on rails   \n",
       "4  1413553877  ведущий программист 1 с/руководитель направлен...   \n",
       "\n",
       "                                                html  \\\n",
       "3  <div class=\"b-important b-vacancy-info\"><table...   \n",
       "4  <div class=\"b-important b-vacancy-info\"><table...   \n",
       "\n",
       "                                                 url   site  \\\n",
       "3  http://irkutsk.hh.ru/vacancy/11833695?query=%D...  hh.ru   \n",
       "4  http://irkutsk.hh.ru/vacancy/11926858?query=%D...  hh.ru   \n",
       "\n",
       "                 date  salary salary_currency  \\\n",
       "3 2014-10-17 13:51:12   70000             rur   \n",
       "4 2014-10-17 13:51:12  110000             rur   \n",
       "\n",
       "                                                text  \n",
       "3  в состав распределенной команды, разрабатывающ...  \n",
       "4  медицинская сеть клиник приглашает на работу н...  "
      ]
     },
     "execution_count": 114,
     "metadata": {},
     "output_type": "execute_result"
    }
   ],
   "source": [
    "vacancies.head(2)"
   ]
  },
  {
   "cell_type": "code",
   "execution_count": 117,
   "metadata": {
    "collapsed": true
   },
   "outputs": [],
   "source": [
    "vacancies_prepared = vacancies[['date', 'name', 'text', 'salary', 'salary_currency']]"
   ]
  },
  {
   "cell_type": "code",
   "execution_count": 122,
   "metadata": {
    "collapsed": false
   },
   "outputs": [
    {
     "name": "stderr",
     "output_type": "stream",
     "text": [
      "/usr/local/lib/python3.4/site-packages/ipykernel/__main__.py:1: SettingWithCopyWarning: \n",
      "A value is trying to be set on a copy of a slice from a DataFrame.\n",
      "Try using .loc[row_indexer,col_indexer] = value instead\n",
      "\n",
      "See the caveats in the documentation: http://pandas.pydata.org/pandas-docs/stable/indexing.html#indexing-view-versus-copy\n",
      "  if __name__ == '__main__':\n"
     ]
    }
   ],
   "source": [
    "vacancies_prepared['currency'] = vacancies_prepared.loc[:,'salary_currency']"
   ]
  },
  {
   "cell_type": "code",
   "execution_count": 123,
   "metadata": {
    "collapsed": true
   },
   "outputs": [],
   "source": [
    "del vacancies_prepared['salary_currency']"
   ]
  },
  {
   "cell_type": "code",
   "execution_count": 124,
   "metadata": {
    "collapsed": false
   },
   "outputs": [
    {
     "data": {
      "text/html": [
       "<div>\n",
       "<table border=\"1\" class=\"dataframe\">\n",
       "  <thead>\n",
       "    <tr style=\"text-align: right;\">\n",
       "      <th></th>\n",
       "      <th>date</th>\n",
       "      <th>name</th>\n",
       "      <th>text</th>\n",
       "      <th>salary</th>\n",
       "      <th>currency</th>\n",
       "    </tr>\n",
       "  </thead>\n",
       "  <tbody>\n",
       "    <tr>\n",
       "      <th>3</th>\n",
       "      <td>2014-10-17 13:51:12</td>\n",
       "      <td>разработчик ruby/ruby on rails</td>\n",
       "      <td>в состав распределенной команды, разрабатывающ...</td>\n",
       "      <td>70000</td>\n",
       "      <td>rur</td>\n",
       "    </tr>\n",
       "    <tr>\n",
       "      <th>4</th>\n",
       "      <td>2014-10-17 13:51:12</td>\n",
       "      <td>ведущий программист 1 с/руководитель направлен...</td>\n",
       "      <td>медицинская сеть клиник приглашает на работу н...</td>\n",
       "      <td>110000</td>\n",
       "      <td>rur</td>\n",
       "    </tr>\n",
       "    <tr>\n",
       "      <th>5</th>\n",
       "      <td>2014-10-17 13:51:12</td>\n",
       "      <td>java-разработчик</td>\n",
       "      <td>обязанности:  участие в проектах компании по р...</td>\n",
       "      <td>40000</td>\n",
       "      <td>rur</td>\n",
       "    </tr>\n",
       "    <tr>\n",
       "      <th>8</th>\n",
       "      <td>2014-10-17 13:51:12</td>\n",
       "      <td>ios разработчик</td>\n",
       "      <td>привет. меня зовут егор, в 2011 году мы создал...</td>\n",
       "      <td>120000</td>\n",
       "      <td>rur</td>\n",
       "    </tr>\n",
       "    <tr>\n",
       "      <th>9</th>\n",
       "      <td>2014-10-17 13:51:12</td>\n",
       "      <td>программист php (web-разработка; back-end)</td>\n",
       "      <td>в телекоммуникационную компанию требуется прог...</td>\n",
       "      <td>80000</td>\n",
       "      <td>rur</td>\n",
       "    </tr>\n",
       "  </tbody>\n",
       "</table>\n",
       "</div>"
      ],
      "text/plain": [
       "                 date                                               name  \\\n",
       "3 2014-10-17 13:51:12                     разработчик ruby/ruby on rails   \n",
       "4 2014-10-17 13:51:12  ведущий программист 1 с/руководитель направлен...   \n",
       "5 2014-10-17 13:51:12                                   java-разработчик   \n",
       "8 2014-10-17 13:51:12                                    ios разработчик   \n",
       "9 2014-10-17 13:51:12         программист php (web-разработка; back-end)   \n",
       "\n",
       "                                                text  salary currency  \n",
       "3  в состав распределенной команды, разрабатывающ...   70000      rur  \n",
       "4  медицинская сеть клиник приглашает на работу н...  110000      rur  \n",
       "5  обязанности:  участие в проектах компании по р...   40000      rur  \n",
       "8  привет. меня зовут егор, в 2011 году мы создал...  120000      rur  \n",
       "9  в телекоммуникационную компанию требуется прог...   80000      rur  "
      ]
     },
     "execution_count": 124,
     "metadata": {},
     "output_type": "execute_result"
    }
   ],
   "source": [
    "vacancies_prepared.head()"
   ]
  },
  {
   "cell_type": "code",
   "execution_count": 125,
   "metadata": {
    "collapsed": true
   },
   "outputs": [],
   "source": [
    "vacancies_prepared.to_pickle('data/vacancies_prepared.pickle')"
   ]
  },
  {
   "cell_type": "code",
   "execution_count": null,
   "metadata": {
    "collapsed": true
   },
   "outputs": [],
   "source": []
  }
 ],
 "metadata": {
  "kernelspec": {
   "display_name": "Python 3",
   "language": "python",
   "name": "python3"
  },
  "language_info": {
   "codemirror_mode": {
    "name": "ipython",
    "version": 3
   },
   "file_extension": ".py",
   "mimetype": "text/x-python",
   "name": "python",
   "nbconvert_exporter": "python",
   "pygments_lexer": "ipython3",
   "version": "3.4.3"
  }
 },
 "nbformat": 4,
 "nbformat_minor": 0
}
