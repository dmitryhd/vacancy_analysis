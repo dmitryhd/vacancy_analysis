{
 "cells": [
  {
   "cell_type": "code",
   "execution_count": 2,
   "metadata": {
    "collapsed": true
   },
   "outputs": [],
   "source": [
    "import re"
   ]
  },
  {
   "cell_type": "code",
   "execution_count": 3,
   "metadata": {
    "collapsed": true
   },
   "outputs": [],
   "source": [
    "ctext = 'i can do c lang'\n",
    "cpptext = 'i can do c++ lang'\n",
    "cend = 'c'\n",
    "cppend = 'c++'"
   ]
  },
  {
   "cell_type": "code",
   "execution_count": 14,
   "metadata": {
    "collapsed": false
   },
   "outputs": [
    {
     "name": "stdout",
     "output_type": "stream",
     "text": [
      "ctext has c: True\n",
      "cpptext has c: False\n"
     ]
    }
   ],
   "source": [
    "regexp = r'(^|\\s)c($|\\s)'\n",
    "print('ctext has c:', bool(re.search(regexp, ctext)))\n",
    "print('cpptext has c:', bool(re.search(regexp, cpptext)))"
   ]
  },
  {
   "cell_type": "code",
   "execution_count": 13,
   "metadata": {
    "collapsed": false
   },
   "outputs": [],
   "source": [
    "re.search(r'(^|\\s)c($|\\s)', 'c++')"
   ]
  },
  {
   "cell_type": "code",
   "execution_count": 18,
   "metadata": {
    "collapsed": false
   },
   "outputs": [
    {
     "ename": "SyntaxError",
     "evalue": "invalid syntax (<ipython-input-18-bf88787cf617>, line 12)",
     "output_type": "error",
     "traceback": [
      "\u001b[1;36m  File \u001b[1;32m\"<ipython-input-18-bf88787cf617>\"\u001b[1;36m, line \u001b[1;32m12\u001b[0m\n\u001b[1;33m    c_skill = Skill('c', cater\"(^|\\s)c($|\\s)\")\u001b[0m\n\u001b[1;37m                                            ^\u001b[0m\n\u001b[1;31mSyntaxError\u001b[0m\u001b[1;31m:\u001b[0m invalid syntax\n"
     ]
    }
   ],
   "source": [
    "class Skill(object):\n",
    "    \"\"\"  \"\"\"\n",
    "    def __init__(self, name, category='', regexp=None,):\n",
    "        self.name = name\n",
    "        self.regexp = regexp if regexp else name\n",
    "        self.category = category\n",
    "\n",
    "    def is_present(self, text):\n",
    "        return bool(re.search(self.regexp, text))\n",
    "\n",
    "ctext = 'i can do c'\n",
    "c_skill = Skill('c', cater\"(^|\\s)c($|\\s)\")\n",
    "javatext = 'i can do java'\n",
    "print(c_skill.is_present(javatext))"
   ]
  },
  {
   "cell_type": "code",
   "execution_count": 20,
   "metadata": {
    "collapsed": false
   },
   "outputs": [
    {
     "data": {
      "text/plain": [
       "'sdfvsdfsss'"
      ]
     },
     "execution_count": 20,
     "metadata": {},
     "output_type": "execute_result"
    }
   ],
   "source": [
    "'sdfvsdfSSS'.lower()"
   ]
  }
 ],
 "metadata": {
  "kernelspec": {
   "display_name": "Python 3",
   "language": "python",
   "name": "python3"
  },
  "language_info": {
   "codemirror_mode": {
    "name": "ipython",
    "version": 3
   },
   "file_extension": ".py",
   "mimetype": "text/x-python",
   "name": "python",
   "nbconvert_exporter": "python",
   "pygments_lexer": "ipython3",
   "version": "3.3.2"
  }
 },
 "nbformat": 4,
 "nbformat_minor": 0
}
