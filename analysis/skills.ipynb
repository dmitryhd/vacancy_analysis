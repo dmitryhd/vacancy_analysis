{
 "cells": [
  {
   "cell_type": "code",
   "execution_count": 2,
   "metadata": {
    "collapsed": true
   },
   "outputs": [],
   "source": [
    "import re"
   ]
  },
  {
   "cell_type": "code",
   "execution_count": 3,
   "metadata": {
    "collapsed": true
   },
   "outputs": [],
   "source": [
    "ctext = 'i can do c lang'\n",
    "cpptext = 'i can do c++ lang'\n",
    "cend = 'c'\n",
    "cppend = 'c++'"
   ]
  },
  {
   "cell_type": "code",
   "execution_count": 14,
   "metadata": {
    "collapsed": false
   },
   "outputs": [
    {
     "name": "stdout",
     "output_type": "stream",
     "text": [
      "ctext has c: True\n",
      "cpptext has c: False\n"
     ]
    }
   ],
   "source": [
    "regexp = r'(^|\\s)c($|\\s)'\n",
    "print('ctext has c:', bool(re.search(regexp, ctext)))\n",
    "print('cpptext has c:', bool(re.search(regexp, cpptext)))"
   ]
  },
  {
   "cell_type": "code",
   "execution_count": 13,
   "metadata": {
    "collapsed": false
   },
   "outputs": [],
   "source": [
    "re.search(r'(^|\\s)c($|\\s)', 'c++')"
   ]
  },
  {
   "cell_type": "code",
   "execution_count": 16,
   "metadata": {
    "collapsed": false
   },
   "outputs": [
    {
     "name": "stdout",
     "output_type": "stream",
     "text": [
      "True\n"
     ]
    }
   ],
   "source": [
    "class Skill(object):\n",
    "    \"\"\"  \"\"\"\n",
    "    def __init__(self, name, category='', regexp=None,):\n",
    "        self.name = name\n",
    "        self.regexp = regexp if regexp else name\n",
    "        self.category = category\n",
    "\n",
    "    def is_present(self, text):\n",
    "        return bool(re.search(self.regexp, text))\n",
    "\n",
    "ctext = 'i can do c'\n",
    "c_skill = Skill('c', cater\"(^|\\s)c($|\\s)\")\n",
    "javatext = 'i can do java'\n",
    "print(c_skill.is_present(javatext))"
   ]
  }
 ],
 "metadata": {
  "kernelspec": {
   "display_name": "Python 3",
   "language": "python",
   "name": "python3"
  },
  "language_info": {
   "codemirror_mode": {
    "name": "ipython",
    "version": 3
   },
   "file_extension": ".py",
   "mimetype": "text/x-python",
   "name": "python",
   "nbconvert_exporter": "python",
   "pygments_lexer": "ipython3",
   "version": "3.3.2"
  }
 },
 "nbformat": 4,
 "nbformat_minor": 0
}
