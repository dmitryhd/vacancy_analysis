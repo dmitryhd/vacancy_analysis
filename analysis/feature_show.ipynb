{
 "cells": [
  {
   "cell_type": "code",
   "execution_count": 2,
   "metadata": {
    "collapsed": false
   },
   "outputs": [],
   "source": [
    "#Preparation\n",
    "%load_exp autoreload\n",
    "%autoreaload 2\n",
    "import os\n",
    "os.chdir('/home/dmitryhd/repos/vacancy_analysis')\n",
    "#print(os.getcwd())\n",
    "import vacan.processor.features as ft\n",
    "import vacan.processor.data_model as dm\n",
    "from vacan.features_config import FEATURES as ft_config"
   ]
  },
  {
   "cell_type": "code",
   "execution_count": 3,
   "metadata": {
    "collapsed": false
   },
   "outputs": [
    {
     "name": "stdout",
     "output_type": "stream",
     "text": [
      "Getting raw vacancies...\n",
      "Got 65696 raw vacancies from db.\n"
     ]
    }
   ],
   "source": [
    "#Load raw vacs\n",
    "dbmanager = dm.DBManager('vacan')\n",
    "print('Getting raw vacancies...')\n",
    "raw_vacs = dbmanager.get_raw_vacs()\n",
    "print('Got {} raw vacancies from db.'.format(len(raw_vacs)))"
   ]
  },
  {
   "cell_type": "code",
   "execution_count": 4,
   "metadata": {
    "collapsed": false
   },
   "outputs": [
    {
     "name": "stdout",
     "output_type": "stream",
     "text": [
      "Got 5755 processed vacancies.\n"
     ]
    }
   ],
   "source": [
    "#Process vacancies\n",
    "qualifier = ft.Qualifier(ft_config)\n",
    "processor = ft.VacancyProcessor(qualifier)\n",
    "proc_vacs = processor.process(raw_vacs)\n",
    "print('Got %i processed vacancies.' % len(proc_vacs))"
   ]
  },
  {
   "cell_type": "code",
   "execution_count": null,
   "metadata": {
    "collapsed": true
   },
   "outputs": [],
   "source": [
    "salary[]"
   ]
  }
 ],
 "metadata": {
  "kernelspec": {
   "display_name": "Python 3",
   "language": "python",
   "name": "python3"
  },
  "language_info": {
   "codemirror_mode": {
    "name": "ipython",
    "version": 3
   },
   "file_extension": ".py",
   "mimetype": "text/x-python",
   "name": "python",
   "nbconvert_exporter": "python",
   "pygments_lexer": "ipython3",
   "version": "3.3.2"
  }
 },
 "nbformat": 4,
 "nbformat_minor": 0
}
