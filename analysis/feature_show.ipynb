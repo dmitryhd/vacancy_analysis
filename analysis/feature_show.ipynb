{
 "cells": [
  {
   "cell_type": "code",
   "execution_count": 1,
   "metadata": {
    "collapsed": false
   },
   "outputs": [],
   "source": [
    "#Preparation\n",
    "%load_ext autoreload\n",
    "%autoreload 2\n",
    "\n",
    "import os\n",
    "os.chdir('/home/dmitryhd/repos/vacancy_analysis')\n",
    "#print(os.getcwd())\n",
    "import vacan.processor.features as ft\n",
    "import vacan.processor.data_model as dm\n",
    "from vacan.features_config import FEATURES as ft_config"
   ]
  },
  {
   "cell_type": "code",
   "execution_count": 3,
   "metadata": {
    "collapsed": false
   },
   "outputs": [
    {
     "name": "stdout",
     "output_type": "stream",
     "text": [
      "Getting raw vacancies...\n",
      "Got 65696 raw vacancies from db.\n"
     ]
    }
   ],
   "source": [
    "#Load raw vacs\n",
    "dbmanager = dm.DBManager('vacan')\n",
    "print('Getting raw vacancies...')\n",
    "raw_vacs = dbmanager.get_raw_vacs()\n",
    "print('Got {} raw vacancies from db.'.format(len(raw_vacs)))"
   ]
  },
  {
   "cell_type": "code",
   "execution_count": 18,
   "metadata": {
    "collapsed": false
   },
   "outputs": [
    {
     "name": "stdout",
     "output_type": "stream",
     "text": [
      "Got 5755 processed vacancies.\n"
     ]
    }
   ],
   "source": [
    "#Process vacancies\n",
    "qualifier = ft.Qualifier(ft_config)\n",
    "processor = ft.VacancyProcessor(qualifier)\n",
    "proc_vacs = processor.process(raw_vacs)\n",
    "print('Got %i processed vacancies.' % len(proc_vacs))"
   ]
  },
  {
   "cell_type": "code",
   "execution_count": 7,
   "metadata": {
    "collapsed": false
   },
   "outputs": [],
   "source": [
    "#Save for future\n",
    "import pickle\n",
    "with open('proc_vacs.pickle', 'wb') as proc_vacs_file:\n",
    "    pickle.dump(proc_vacs, proc_vacs_file)"
   ]
  },
  {
   "cell_type": "code",
   "execution_count": 2,
   "metadata": {
    "collapsed": true
   },
   "outputs": [],
   "source": [
    "#Load pickle\n",
    "import pickle\n",
    "with open('proc_vacs.pickle', 'rb') as proc_vacs_file:\n",
    "    proc_vacs_new = pickle.load(proc_vacs_file)"
   ]
  },
  {
   "cell_type": "code",
   "execution_count": 16,
   "metadata": {
    "collapsed": true
   },
   "outputs": [],
   "source": [
    "%matplotlib inline\n",
    "import numpy as np\n",
    "import pylab as P\n",
    "\n",
    "def plot_histogram(data, max_el=1000000):\n",
    "    valid_data = [element for element in data if element is not None and element < max_el]\n",
    "    n, bins, patches = P.hist(valid_data, 20, normed=1, histtype='stepfilled')\n",
    "    P.setp(patches, 'facecolor', 'g', 'alpha', 0.75)"
   ]
  },
  {
   "cell_type": "code",
   "execution_count": 18,
   "metadata": {
    "collapsed": false
   },
   "outputs": [
    {
     "data": {
      "image/png": "[encoded data removed]",
      "text/plain": [
       "<matplotlib.figure.Figure at 0x7f01029afad0>"
      ]
     },
     "metadata": {},
     "output_type": "display_data"
    }
   ],
   "source": [
    "#print histogram of salaries\n",
    "min_sal = [proc_vac.min_sal for proc_vac in proc_vacs_new]\n",
    "max_sal = [proc_vac.max_sal for proc_vac in proc_vacs_new]\n",
    "plot_histogram(min_sal, 200000)\n",
    "#plot_histogram(max_sal, 200000)\n"
   ]
  },
  {
   "cell_type": "code",
   "execution_count": 19,
   "metadata": {
    "collapsed": true
   },
   "outputs": [],
   "source": [
    "def subset(vacancies, keyword):\n",
    "    return [vac for vac in vacancies if vac.features[keyword]]"
   ]
  },
  {
   "cell_type": "code",
   "execution_count": 23,
   "metadata": {
    "collapsed": false
   },
   "outputs": [
    {
     "data": {
      "image/png": "[encoded data removed]",
      "text/plain": [
       "<matplotlib.figure.Figure at 0x7f01028133d0>"
      ]
     },
     "metadata": {},
     "output_type": "display_data"
    }
   ],
   "source": [
    "#print histogram of python salaries\n",
    "min_sal = [proc_vac.min_sal for proc_vac in subset(proc_vacs_new, 'python')]\n",
    "max_sal = [proc_vac.max_sal for proc_vac in subset(proc_vacs_new, 'python')]\n",
    "#plot_histogram(min_sal, 200000)\n",
    "plot_histogram(max_sal, 200000)"
   ]
  },
  {
   "cell_type": "code",
   "execution_count": null,
   "metadata": {
    "collapsed": true
   },
   "outputs": [],
   "source": []
  }
 ],
 "metadata": {
  "kernelspec": {
   "display_name": "Python 3",
   "language": "python",
   "name": "python3"
  },
  "language_info": {
   "codemirror_mode": {
    "name": "ipython",
    "version": 3
   },
   "file_extension": ".py",
   "mimetype": "text/x-python",
   "name": "python",
   "nbconvert_exporter": "python",
   "pygments_lexer": "ipython3",
   "version": "3.3.2"
  }
 },
 "nbformat": 4,
 "nbformat_minor": 0
}
