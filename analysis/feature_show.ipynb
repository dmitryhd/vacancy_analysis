{
 "cells": [
  {
   "cell_type": "code",
   "execution_count": 4,
   "metadata": {
    "collapsed": false
   },
   "outputs": [],
   "source": [
    "#Preparation\n",
    "%reload_ext autoreload\n",
    "%autoreload 2\n",
    "\n",
    "import os\n",
    "os.chdir(os.path.expanduser('~/repos/vacancy_analysis'))\n",
    "#print(os.getcwd())\n",
    "import vacan.processor.features as ft\n",
    "import vacan.processor.data_model as dm\n",
    "from vacan.features_config import FEATURES as ft_config"
   ]
  },
  {
   "cell_type": "code",
   "execution_count": null,
   "metadata": {
    "collapsed": false
   },
   "outputs": [],
   "source": [
    "#Load raw vacs\n",
    "dbmanager = dm.DBManager('vacan')\n",
    "print('Getting raw vacancies...')\n",
    "raw_vacs = dbmanager.get_raw_vacs()\n",
    "print('Got {} raw vacancies from db.'.format(len(raw_vacs)))"
   ]
  },
  {
   "cell_type": "code",
   "execution_count": null,
   "metadata": {
    "collapsed": false
   },
   "outputs": [],
   "source": [
    "#Process vacancies\n",
    "qualifier = ft.Qualifier(ft_config)\n",
    "processor = ft.VacancyProcessor(qualifier)\n",
    "proc_vacs = processor.process(raw_vacs)\n",
    "print('Got %i processed vacancies.' % len(proc_vacs))"
   ]
  },
  {
   "cell_type": "code",
   "execution_count": 63,
   "metadata": {
    "collapsed": true
   },
   "outputs": [
    {
     "ename": "PicklingError",
     "evalue": "Can't pickle <class 'vacan.processor.features.ProcessedVacancy'>: it's not the same object as vacan.processor.features.ProcessedVacancy",
     "output_type": "error",
     "traceback": [
      "\u001b[1;31m---------------------------------------------------------------------------\u001b[0m",
      "\u001b[1;31mPicklingError\u001b[0m                             Traceback (most recent call last)",
      "\u001b[1;32m<ipython-input-63-a087ea6ed14f>\u001b[0m in \u001b[0;36m<module>\u001b[1;34m()\u001b[0m\n\u001b[0;32m      2\u001b[0m \u001b[1;32mimport\u001b[0m \u001b[0mpickle\u001b[0m\u001b[1;33m\u001b[0m\u001b[0m\n\u001b[0;32m      3\u001b[0m \u001b[1;32mwith\u001b[0m \u001b[0mopen\u001b[0m\u001b[1;33m(\u001b[0m\u001b[1;34m'proc_vacs.pickle'\u001b[0m\u001b[1;33m,\u001b[0m \u001b[1;34m'wb'\u001b[0m\u001b[1;33m)\u001b[0m \u001b[1;32mas\u001b[0m \u001b[0mproc_vacs_file\u001b[0m\u001b[1;33m:\u001b[0m\u001b[1;33m\u001b[0m\u001b[0m\n\u001b[1;32m----> 4\u001b[1;33m     \u001b[0mpickle\u001b[0m\u001b[1;33m.\u001b[0m\u001b[0mdump\u001b[0m\u001b[1;33m(\u001b[0m\u001b[0mproc_vacs\u001b[0m\u001b[1;33m,\u001b[0m \u001b[0mproc_vacs_file\u001b[0m\u001b[1;33m)\u001b[0m\u001b[1;33m\u001b[0m\u001b[0m\n\u001b[0m",
      "\u001b[1;31mPicklingError\u001b[0m: Can't pickle <class 'vacan.processor.features.ProcessedVacancy'>: it's not the same object as vacan.processor.features.ProcessedVacancy"
     ]
    }
   ],
   "source": [
    "#Save for future\n",
    "import pickle\n",
    "with open('proc_vacs.pickle', 'wb') as proc_vacs_file:\n",
    "    pickle.dump(proc_vacs, proc_vacs_file)"
   ]
  },
  {
   "cell_type": "code",
   "execution_count": 7,
   "metadata": {
    "collapsed": false
   },
   "outputs": [],
   "source": [
    "#Load pickle\n",
    "import pickle\n",
    "with open('proc_vacs.pickle', 'rb') as proc_vacs_file:\n",
    "    proc_vacs = pickle.load(proc_vacs_file)"
   ]
  },
  {
   "cell_type": "code",
   "execution_count": 39,
   "metadata": {
    "collapsed": false
   },
   "outputs": [],
   "source": [
    "%matplotlib inline\n",
    "import numpy as np\n",
    "import pylab as P\n",
    "\n",
    "def plot_histogram(data, max_el=1000000):\n",
    "    valid_data = [element for element in data if element is not None and element < max_el]\n",
    "    n, bins, patches = P.hist(valid_data, 20, normed=1, histtype='stepfilled')\n",
    "    P.setp(patches, 'facecolor', 'g', 'alpha', 0.75)\n",
    "    \n",
    "def plot_boxplots(boxplots, labels):\n",
    "    P.figure()\n",
    "    P.hold = True\n",
    "    P.boxplot(boxplots,vert=0, labels=labels)\n",
    "    P.show()\n",
    "    \n",
    "def get_min_sal(proc_vac):\n",
    "    return [proc_vac.min_sal for proc_vac in proc_vac if proc_vac.min_sal is not None]\n",
    "\n",
    "def get_max_sal(proc_vac):\n",
    "    return [proc_vac.max_sal for proc_vac in proc_vac if proc_vac.max_sal is not None]\n",
    "    \n",
    "def compare_sets(subsets):\n",
    "    \"\"\" subsets is dictionary, name: list of proc_vacs. \"\"\"\n",
    "    boxplot_data = []\n",
    "    boxplot_labels = []\n",
    "    for subset_name, subset_data in subsets.items():\n",
    "        boxplot_data.extend([get_min_sal(subset_data)])\n",
    "        boxplot_labels.extend([subset_name+' min'])\n",
    "    for subset_name, subset_data in subsets.items():\n",
    "        boxplot_data.extend([get_max_sal(subset_data)])\n",
    "        boxplot_labels.extend([subset_name+' max'])\n",
    "    plot_boxplots(boxplot_data, boxplot_labels)"
   ]
  },
  {
   "cell_type": "code",
   "execution_count": 42,
   "metadata": {
    "collapsed": false
   },
   "outputs": [
    {
     "data": {
      "image/png": "[encoded data removed]",
      "text/plain": [
       "<matplotlib.figure.Figure at 0x7fd1538a62b0>"
      ]
     },
     "metadata": {},
     "output_type": "display_data"
    }
   ],
   "source": [
    "# Plot nice boxplots\n",
    "stat = ft.Stat(proc_vacs)\n",
    "compare_sets({'python': stat.subset(['python']),\n",
    "              'python+js': stat.subset(['python', 'javascript']),\n",
    "              'python+web': stat.subset(['python', 'web']),\n",
    "             })"
   ]
  },
  {
   "cell_type": "code",
   "execution_count": null,
   "metadata": {
    "collapsed": true
   },
   "outputs": [],
   "source": []
  }
 ],
 "metadata": {
  "kernelspec": {
   "display_name": "Python 3",
   "language": "python",
   "name": "python3"
  },
  "language_info": {
   "codemirror_mode": {
    "name": "ipython",
    "version": 3
   },
   "file_extension": ".py",
   "mimetype": "text/x-python",
   "name": "python",
   "nbconvert_exporter": "python",
   "pygments_lexer": "ipython3",
   "version": "3.4.0"
  }
 },
 "nbformat": 4,
 "nbformat_minor": 0
}
