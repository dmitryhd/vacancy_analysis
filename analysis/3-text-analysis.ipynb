{
 "cells": [
  {
   "cell_type": "code",
   "execution_count": 2,
   "metadata": {
    "collapsed": true
   },
   "outputs": [],
   "source": [
    "import pandas as pd\n",
    "from IPython.display import display\n",
    "from collections import Counter\n",
    "import string"
   ]
  },
  {
   "cell_type": "code",
   "execution_count": 56,
   "metadata": {
    "collapsed": true
   },
   "outputs": [],
   "source": [
    "vacancies = pd.read_p('data/vacancies_stemmed.pickle')"
   ]
  },
  {
   "cell_type": "code",
   "execution_count": 57,
   "metadata": {
    "collapsed": false
   },
   "outputs": [
    {
     "data": {
      "text/html": [
       "<div>\n",
       "<table border=\"1\" class=\"dataframe\">\n",
       "  <thead>\n",
       "    <tr style=\"text-align: right;\">\n",
       "      <th></th>\n",
       "      <th>name_tokens</th>\n",
       "      <th>text_tokens</th>\n",
       "      <th>date</th>\n",
       "      <th>salary</th>\n",
       "      <th>currency</th>\n",
       "    </tr>\n",
       "  </thead>\n",
       "  <tbody>\n",
       "    <tr>\n",
       "      <th>3</th>\n",
       "      <td>[разработчик, ruby, ruby, on, rails]</td>\n",
       "      <td>[соста, распределен, команд, разрабатыва, сист...</td>\n",
       "      <td>2014-10-17 13:51:12</td>\n",
       "      <td>70000</td>\n",
       "      <td>rur</td>\n",
       "    </tr>\n",
       "    <tr>\n",
       "      <th>4</th>\n",
       "      <td>[ведущ, программист, 1, руководител, направл, it]</td>\n",
       "      <td>[медицинск, сет, клиник, приглаша, работ, рабо...</td>\n",
       "      <td>2014-10-17 13:51:12</td>\n",
       "      <td>110000</td>\n",
       "      <td>rur</td>\n",
       "    </tr>\n",
       "    <tr>\n",
       "      <th>5</th>\n",
       "      <td>[java, разработчик]</td>\n",
       "      <td>[обязан, участ, проект, компан, разработк, ана...</td>\n",
       "      <td>2014-10-17 13:51:12</td>\n",
       "      <td>40000</td>\n",
       "      <td>rur</td>\n",
       "    </tr>\n",
       "    <tr>\n",
       "      <th>8</th>\n",
       "      <td>[ios, разработчик]</td>\n",
       "      <td>[привет, зовут, егор, 2011, год, созда, компан...</td>\n",
       "      <td>2014-10-17 13:51:12</td>\n",
       "      <td>120000</td>\n",
       "      <td>rur</td>\n",
       "    </tr>\n",
       "    <tr>\n",
       "      <th>9</th>\n",
       "      <td>[программист, php, web, разработк, back, end]</td>\n",
       "      <td>[телекоммуникацион, компан, треб, программист,...</td>\n",
       "      <td>2014-10-17 13:51:12</td>\n",
       "      <td>80000</td>\n",
       "      <td>rur</td>\n",
       "    </tr>\n",
       "  </tbody>\n",
       "</table>\n",
       "</div>"
      ],
      "text/plain": [
       "                                         name_tokens  \\\n",
       "3               [разработчик, ruby, ruby, on, rails]   \n",
       "4  [ведущ, программист, 1, руководител, направл, it]   \n",
       "5                                [java, разработчик]   \n",
       "8                                 [ios, разработчик]   \n",
       "9      [программист, php, web, разработк, back, end]   \n",
       "\n",
       "                                         text_tokens                date  \\\n",
       "3  [соста, распределен, команд, разрабатыва, сист... 2014-10-17 13:51:12   \n",
       "4  [медицинск, сет, клиник, приглаша, работ, рабо... 2014-10-17 13:51:12   \n",
       "5  [обязан, участ, проект, компан, разработк, ана... 2014-10-17 13:51:12   \n",
       "8  [привет, зовут, егор, 2011, год, созда, компан... 2014-10-17 13:51:12   \n",
       "9  [телекоммуникацион, компан, треб, программист,... 2014-10-17 13:51:12   \n",
       "\n",
       "   salary currency  \n",
       "3   70000      rur  \n",
       "4  110000      rur  \n",
       "5   40000      rur  \n",
       "8  120000      rur  \n",
       "9   80000      rur  "
      ]
     },
     "execution_count": 57,
     "metadata": {},
     "output_type": "execute_result"
    }
   ],
   "source": [
    "vacancies.head()"
   ]
  },
  {
   "cell_type": "code",
   "execution_count": 58,
   "metadata": {
    "collapsed": true
   },
   "outputs": [],
   "source": [
    "def fix_tokens(tokens: list):\n",
    "    for i in range(len(tokens)):\n",
    "        if tokens[i] == 'с++': # rus\n",
    "            tokens[i] = 'c++'\n",
    "            continue\n",
    "        if tokens[i] == 'с': # rus\n",
    "            tokens[i] = 'c'\n",
    "            continue"
   ]
  },
  {
   "cell_type": "code",
   "execution_count": 59,
   "metadata": {
    "collapsed": true
   },
   "outputs": [],
   "source": [
    "vacancies.name_tokens.apply(fix_tokens);"
   ]
  },
  {
   "cell_type": "markdown",
   "metadata": {},
   "source": [
    "# Freq analysis"
   ]
  },
  {
   "cell_type": "code",
   "execution_count": 60,
   "metadata": {
    "collapsed": true
   },
   "outputs": [],
   "source": [
    "english_letters = set(string.ascii_lowercase)"
   ]
  },
  {
   "cell_type": "code",
   "execution_count": 61,
   "metadata": {
    "collapsed": false
   },
   "outputs": [],
   "source": [
    "counter = Counter()\n",
    "vacancies.name_tokens.apply(counter.update);"
   ]
  },
  {
   "cell_type": "code",
   "execution_count": 63,
   "metadata": {
    "collapsed": false
   },
   "outputs": [],
   "source": [
    "professions = pd.DataFrame([item for item in counter.most_common() if len(item[0]) and item[0][0] in english_letters])\n",
    "professions.columns = ['lang', 'cnt']"
   ]
  },
  {
   "cell_type": "code",
   "execution_count": 64,
   "metadata": {
    "collapsed": false
   },
   "outputs": [],
   "source": [
    "professions.drop(professions[professions.cnt < 2].index, inplace=True)"
   ]
  },
  {
   "cell_type": "code",
   "execution_count": 66,
   "metadata": {
    "collapsed": false
   },
   "outputs": [
    {
     "data": {
      "text/html": [
       "<div>\n",
       "<table border=\"1\" class=\"dataframe\">\n",
       "  <thead>\n",
       "    <tr style=\"text-align: right;\">\n",
       "      <th></th>\n",
       "      <th>lang</th>\n",
       "      <th>cnt</th>\n",
       "    </tr>\n",
       "  </thead>\n",
       "  <tbody>\n",
       "    <tr>\n",
       "      <th>0</th>\n",
       "      <td>php</td>\n",
       "      <td>1870</td>\n",
       "    </tr>\n",
       "    <tr>\n",
       "      <th>1</th>\n",
       "      <td>web</td>\n",
       "      <td>1242</td>\n",
       "    </tr>\n",
       "    <tr>\n",
       "      <th>2</th>\n",
       "      <td>developer</td>\n",
       "      <td>994</td>\n",
       "    </tr>\n",
       "    <tr>\n",
       "      <th>3</th>\n",
       "      <td>java</td>\n",
       "      <td>835</td>\n",
       "    </tr>\n",
       "    <tr>\n",
       "      <th>4</th>\n",
       "      <td>c++</td>\n",
       "      <td>658</td>\n",
       "    </tr>\n",
       "    <tr>\n",
       "      <th>5</th>\n",
       "      <td>c</td>\n",
       "      <td>594</td>\n",
       "    </tr>\n",
       "    <tr>\n",
       "      <th>6</th>\n",
       "      <td>ios</td>\n",
       "      <td>503</td>\n",
       "    </tr>\n",
       "    <tr>\n",
       "      <th>7</th>\n",
       "      <td>senior</td>\n",
       "      <td>501</td>\n",
       "    </tr>\n",
       "    <tr>\n",
       "      <th>8</th>\n",
       "      <td>frontend</td>\n",
       "      <td>460</td>\n",
       "    </tr>\n",
       "    <tr>\n",
       "      <th>9</th>\n",
       "      <td>android</td>\n",
       "      <td>442</td>\n",
       "    </tr>\n",
       "  </tbody>\n",
       "</table>\n",
       "</div>"
      ],
      "text/plain": [
       "        lang   cnt\n",
       "0        php  1870\n",
       "1        web  1242\n",
       "2  developer   994\n",
       "3       java   835\n",
       "4        c++   658\n",
       "5          c   594\n",
       "6        ios   503\n",
       "7     senior   501\n",
       "8   frontend   460\n",
       "9    android   442"
      ]
     },
     "execution_count": 66,
     "metadata": {},
     "output_type": "execute_result"
    }
   ],
   "source": [
    "professions.head(10)"
   ]
  },
  {
   "cell_type": "code",
   "execution_count": null,
   "metadata": {
    "collapsed": true
   },
   "outputs": [],
   "source": []
  }
 ],
 "metadata": {
  "kernelspec": {
   "display_name": "Python 3",
   "language": "python",
   "name": "python3"
  },
  "language_info": {
   "codemirror_mode": {
    "name": "ipython",
    "version": 3
   },
   "file_extension": ".py",
   "mimetype": "text/x-python",
   "name": "python",
   "nbconvert_exporter": "python",
   "pygments_lexer": "ipython3",
   "version": "3.4.4"
  },
  "toc": {
   "toc_cell": false,
   "toc_number_sections": true,
   "toc_threshold": 6,
   "toc_window_display": false
  }
 },
 "nbformat": 4,
 "nbformat_minor": 0
}
