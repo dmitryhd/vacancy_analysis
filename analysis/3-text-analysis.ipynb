{
 "cells": [
  {
   "cell_type": "code",
   "execution_count": 1,
   "metadata": {
    "ExecuteTime": {
     "end_time": "2016-05-05T14:28:02.863858",
     "start_time": "2016-05-05T14:28:02.555573"
    },
    "collapsed": true
   },
   "outputs": [],
   "source": [
    "import pandas as pd\n",
    "from IPython.display import display\n",
    "from collections import Counter\n",
    "import string"
   ]
  },
  {
   "cell_type": "code",
   "execution_count": 3,
   "metadata": {
    "ExecuteTime": {
     "end_time": "2016-05-05T14:28:32.099453",
     "start_time": "2016-05-05T14:28:31.776162"
    },
    "collapsed": false
   },
   "outputs": [],
   "source": [
    "vacancies = pd.read_csv('data/vacancies_stemmed.csv', sep='|', header=0)"
   ]
  },
  {
   "cell_type": "code",
   "execution_count": 12,
   "metadata": {
    "ExecuteTime": {
     "end_time": "2016-05-05T14:30:32.427719",
     "start_time": "2016-05-05T14:30:32.405489"
    },
    "collapsed": true
   },
   "outputs": [],
   "source": [
    "vacancies.text_tokens = vacancies.text_tokens.astype(str)\n",
    "vacancies.name_tokens = vacancies.name_tokens.astype(str)"
   ]
  },
  {
   "cell_type": "code",
   "execution_count": 15,
   "metadata": {
    "ExecuteTime": {
     "end_time": "2016-05-05T14:30:40.789160",
     "start_time": "2016-05-05T14:30:40.773670"
    },
    "collapsed": false
   },
   "outputs": [
    {
     "data": {
      "text/html": [
       "<div>\n",
       "<table border=\"1\" class=\"dataframe\">\n",
       "  <thead>\n",
       "    <tr style=\"text-align: right;\">\n",
       "      <th></th>\n",
       "      <th>name_tokens</th>\n",
       "      <th>text_tokens</th>\n",
       "      <th>date</th>\n",
       "      <th>salary</th>\n",
       "      <th>currency</th>\n",
       "    </tr>\n",
       "  </thead>\n",
       "  <tbody>\n",
       "    <tr>\n",
       "      <th>0</th>\n",
       "      <td>ruby ruby on rails</td>\n",
       "      <td>[соста, распределен, команд, разрабатыва, сист...</td>\n",
       "      <td>2014-10-17 13:51:12</td>\n",
       "      <td>70000</td>\n",
       "      <td>rur</td>\n",
       "    </tr>\n",
       "    <tr>\n",
       "      <th>1</th>\n",
       "      <td>ведущ 1 руководител направлен it</td>\n",
       "      <td>[медицинск, сет, клиник, приглаша, работ, рабо...</td>\n",
       "      <td>2014-10-17 13:51:12</td>\n",
       "      <td>110000</td>\n",
       "      <td>rur</td>\n",
       "    </tr>\n",
       "    <tr>\n",
       "      <th>2</th>\n",
       "      <td>java</td>\n",
       "      <td>[обязан, участ, проект, компан, разработк, ана...</td>\n",
       "      <td>2014-10-17 13:51:12</td>\n",
       "      <td>40000</td>\n",
       "      <td>rur</td>\n",
       "    </tr>\n",
       "    <tr>\n",
       "      <th>3</th>\n",
       "      <td>ios</td>\n",
       "      <td>[привет, зовут, егор, 2011, год, созда, компан...</td>\n",
       "      <td>2014-10-17 13:51:12</td>\n",
       "      <td>120000</td>\n",
       "      <td>rur</td>\n",
       "    </tr>\n",
       "    <tr>\n",
       "      <th>4</th>\n",
       "      <td>php web back end</td>\n",
       "      <td>[телекоммуникацион, компан, треб, php, постоя,...</td>\n",
       "      <td>2014-10-17 13:51:12</td>\n",
       "      <td>80000</td>\n",
       "      <td>rur</td>\n",
       "    </tr>\n",
       "  </tbody>\n",
       "</table>\n",
       "</div>"
      ],
      "text/plain": [
       "                        name_tokens  \\\n",
       "0                ruby ruby on rails   \n",
       "1  ведущ 1 руководител направлен it   \n",
       "2                              java   \n",
       "3                               ios   \n",
       "4                  php web back end   \n",
       "\n",
       "                                         text_tokens                 date  \\\n",
       "0  [соста, распределен, команд, разрабатыва, сист...  2014-10-17 13:51:12   \n",
       "1  [медицинск, сет, клиник, приглаша, работ, рабо...  2014-10-17 13:51:12   \n",
       "2  [обязан, участ, проект, компан, разработк, ана...  2014-10-17 13:51:12   \n",
       "3  [привет, зовут, егор, 2011, год, созда, компан...  2014-10-17 13:51:12   \n",
       "4  [телекоммуникацион, компан, треб, php, постоя,...  2014-10-17 13:51:12   \n",
       "\n",
       "   salary currency  \n",
       "0   70000      rur  \n",
       "1  110000      rur  \n",
       "2   40000      rur  \n",
       "3  120000      rur  \n",
       "4   80000      rur  "
      ]
     },
     "execution_count": 15,
     "metadata": {},
     "output_type": "execute_result"
    }
   ],
   "source": [
    "vacancies.head()"
   ]
  },
  {
   "cell_type": "code",
   "execution_count": 14,
   "metadata": {
    "ExecuteTime": {
     "end_time": "2016-05-05T14:30:38.989577",
     "start_time": "2016-05-05T14:30:38.598755"
    },
    "collapsed": false
   },
   "outputs": [],
   "source": [
    "vacancies.text_tokens = vacancies.text_tokens.apply(lambda x: x.split())"
   ]
  },
  {
   "cell_type": "code",
   "execution_count": 16,
   "metadata": {
    "ExecuteTime": {
     "end_time": "2016-05-05T14:31:06.243541",
     "start_time": "2016-05-05T14:31:06.221916"
    },
    "collapsed": true
   },
   "outputs": [],
   "source": [
    "vacancies.name_tokens = vacancies.name_tokens.apply(lambda x: x.split())"
   ]
  },
  {
   "cell_type": "code",
   "execution_count": 17,
   "metadata": {
    "ExecuteTime": {
     "end_time": "2016-05-05T14:31:08.174176",
     "start_time": "2016-05-05T14:31:08.169678"
    },
    "collapsed": true
   },
   "outputs": [],
   "source": [
    "def fix_tokens(tokens: list):\n",
    "    for i in range(len(tokens)):\n",
    "        if tokens[i] == 'с++': # rus\n",
    "            tokens[i] = 'c++'\n",
    "            continue\n",
    "        if tokens[i] == 'с': # rus\n",
    "            tokens[i] = 'c'\n",
    "            continue"
   ]
  },
  {
   "cell_type": "code",
   "execution_count": 18,
   "metadata": {
    "ExecuteTime": {
     "end_time": "2016-05-05T14:31:12.492682",
     "start_time": "2016-05-05T14:31:12.462880"
    },
    "collapsed": false
   },
   "outputs": [],
   "source": [
    "vacancies.name_tokens.apply(fix_tokens);"
   ]
  },
  {
   "cell_type": "markdown",
   "metadata": {},
   "source": [
    "# Freq analysis"
   ]
  },
  {
   "cell_type": "code",
   "execution_count": 19,
   "metadata": {
    "ExecuteTime": {
     "end_time": "2016-05-05T14:31:14.881144",
     "start_time": "2016-05-05T14:31:14.878751"
    },
    "collapsed": true
   },
   "outputs": [],
   "source": [
    "english_letters = set(string.ascii_lowercase)"
   ]
  },
  {
   "cell_type": "code",
   "execution_count": 20,
   "metadata": {
    "ExecuteTime": {
     "end_time": "2016-05-05T14:31:16.465535",
     "start_time": "2016-05-05T14:31:16.410462"
    },
    "collapsed": false
   },
   "outputs": [],
   "source": [
    "counter = Counter()\n",
    "vacancies.name_tokens.apply(counter.update);"
   ]
  },
  {
   "cell_type": "code",
   "execution_count": 21,
   "metadata": {
    "ExecuteTime": {
     "end_time": "2016-05-05T14:31:17.954508",
     "start_time": "2016-05-05T14:31:17.948827"
    },
    "collapsed": false
   },
   "outputs": [],
   "source": [
    "professions = pd.DataFrame([item for item in counter.most_common() if len(item[0]) and item[0][0] in english_letters])\n",
    "professions.columns = ['lang', 'cnt']"
   ]
  },
  {
   "cell_type": "code",
   "execution_count": 22,
   "metadata": {
    "ExecuteTime": {
     "end_time": "2016-05-05T14:31:18.985409",
     "start_time": "2016-05-05T14:31:18.981160"
    },
    "collapsed": false
   },
   "outputs": [],
   "source": [
    "professions.drop(professions[professions.cnt < 2].index, inplace=True)"
   ]
  },
  {
   "cell_type": "code",
   "execution_count": 23,
   "metadata": {
    "ExecuteTime": {
     "end_time": "2016-05-05T14:31:19.595882",
     "start_time": "2016-05-05T14:31:19.587607"
    },
    "collapsed": false
   },
   "outputs": [
    {
     "data": {
      "text/html": [
       "<div>\n",
       "<table border=\"1\" class=\"dataframe\">\n",
       "  <thead>\n",
       "    <tr style=\"text-align: right;\">\n",
       "      <th></th>\n",
       "      <th>lang</th>\n",
       "      <th>cnt</th>\n",
       "    </tr>\n",
       "  </thead>\n",
       "  <tbody>\n",
       "    <tr>\n",
       "      <th>0</th>\n",
       "      <td>php</td>\n",
       "      <td>1870</td>\n",
       "    </tr>\n",
       "    <tr>\n",
       "      <th>1</th>\n",
       "      <td>web</td>\n",
       "      <td>1242</td>\n",
       "    </tr>\n",
       "    <tr>\n",
       "      <th>2</th>\n",
       "      <td>java</td>\n",
       "      <td>835</td>\n",
       "    </tr>\n",
       "    <tr>\n",
       "      <th>3</th>\n",
       "      <td>c++</td>\n",
       "      <td>658</td>\n",
       "    </tr>\n",
       "    <tr>\n",
       "      <th>4</th>\n",
       "      <td>c</td>\n",
       "      <td>594</td>\n",
       "    </tr>\n",
       "    <tr>\n",
       "      <th>5</th>\n",
       "      <td>ios</td>\n",
       "      <td>503</td>\n",
       "    </tr>\n",
       "    <tr>\n",
       "      <th>6</th>\n",
       "      <td>senior</td>\n",
       "      <td>501</td>\n",
       "    </tr>\n",
       "    <tr>\n",
       "      <th>7</th>\n",
       "      <td>frontend</td>\n",
       "      <td>460</td>\n",
       "    </tr>\n",
       "    <tr>\n",
       "      <th>8</th>\n",
       "      <td>android</td>\n",
       "      <td>442</td>\n",
       "    </tr>\n",
       "    <tr>\n",
       "      <th>9</th>\n",
       "      <td>nan</td>\n",
       "      <td>420</td>\n",
       "    </tr>\n",
       "  </tbody>\n",
       "</table>\n",
       "</div>"
      ],
      "text/plain": [
       "       lang   cnt\n",
       "0       php  1870\n",
       "1       web  1242\n",
       "2      java   835\n",
       "3       c++   658\n",
       "4         c   594\n",
       "5       ios   503\n",
       "6    senior   501\n",
       "7  frontend   460\n",
       "8   android   442\n",
       "9       nan   420"
      ]
     },
     "execution_count": 23,
     "metadata": {},
     "output_type": "execute_result"
    }
   ],
   "source": [
    "professions.head(10)"
   ]
  },
  {
   "cell_type": "code",
   "execution_count": 24,
   "metadata": {
    "ExecuteTime": {
     "end_time": "2016-05-05T14:32:37.502023",
     "start_time": "2016-05-05T14:32:36.539152"
    },
    "collapsed": true
   },
   "outputs": [],
   "source": [
    "vacancies.to_csv('data/vacancies_done.csv', sep='|', index=False)"
   ]
  },
  {
   "cell_type": "code",
   "execution_count": null,
   "metadata": {
    "collapsed": true
   },
   "outputs": [],
   "source": []
  }
 ],
 "metadata": {
  "kernelspec": {
   "display_name": "Python 3",
   "language": "python",
   "name": "python3"
  },
  "language_info": {
   "codemirror_mode": {
    "name": "ipython",
    "version": 3
   },
   "file_extension": ".py",
   "mimetype": "text/x-python",
   "name": "python",
   "nbconvert_exporter": "python",
   "pygments_lexer": "ipython3",
   "version": "3.4.4"
  },
  "toc": {
   "toc_cell": false,
   "toc_number_sections": true,
   "toc_threshold": 6,
   "toc_window_display": false
  }
 },
 "nbformat": 4,
 "nbformat_minor": 0
}
