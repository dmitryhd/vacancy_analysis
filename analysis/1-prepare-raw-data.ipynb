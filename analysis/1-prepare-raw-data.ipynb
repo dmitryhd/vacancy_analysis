{
 "cells": [
  {
   "cell_type": "markdown",
   "metadata": {},
   "source": [
    "# 1. On server\n",
    "!mysqldump -u root -p**** vacan_2015_05_09 | gzip > vacan_2016_02_10.sql.gz"
   ]
  },
  {
   "cell_type": "markdown",
   "metadata": {},
   "source": [
    "# 2. Locally"
   ]
  },
  {
   "cell_type": "raw",
   "metadata": {},
   "source": [
    "scp ***@***.ru:/home/dimert/vacan_2016_01_18.sql.gz ."
   ]
  },
  {
   "cell_type": "raw",
   "metadata": {},
   "source": [
    "mysql -u root -p****\n",
    ">> create database vacan_2016_01_18;"
   ]
  },
  {
   "cell_type": "raw",
   "metadata": {},
   "source": [
    "zcat vacan_2016_01_18.sql.gz | mysql -u root -p**** vacan_2016_01_18"
   ]
  },
  {
   "cell_type": "markdown",
   "metadata": {},
   "source": [
    "# 3. Now process from db"
   ]
  },
  {
   "cell_type": "code",
   "execution_count": 6,
   "metadata": {
    "ExecuteTime": {
     "end_time": "2016-05-05T13:46:39.786284",
     "start_time": "2016-05-05T13:46:39.784005"
    },
    "collapsed": false
   },
   "outputs": [],
   "source": [
    "import pymysql\n",
    "import pandas as pd"
   ]
  },
  {
   "cell_type": "code",
   "execution_count": 7,
   "metadata": {
    "ExecuteTime": {
     "end_time": "2016-05-05T13:46:40.496832",
     "start_time": "2016-05-05T13:46:40.492127"
    },
    "collapsed": false
   },
   "outputs": [],
   "source": [
    "conn = pymysql.connect(user='root', password='****', charset='utf8')"
   ]
  },
  {
   "cell_type": "code",
   "execution_count": 8,
   "metadata": {
    "ExecuteTime": {
     "end_time": "2016-05-05T13:47:08.304469",
     "start_time": "2016-05-05T13:46:50.513848"
    },
    "collapsed": false
   },
   "outputs": [],
   "source": [
    "vacancies = pd.read_sql('select * from vacan_2016_01_18.vacancy;', conn)"
   ]
  },
  {
   "cell_type": "code",
   "execution_count": 9,
   "metadata": {
    "ExecuteTime": {
     "end_time": "2016-05-05T13:47:08.449119",
     "start_time": "2016-05-05T13:47:08.305983"
    },
    "collapsed": false
   },
   "outputs": [],
   "source": [
    "vacancies.drop_duplicates('url', keep='last', inplace=True)"
   ]
  },
  {
   "cell_type": "code",
   "execution_count": 10,
   "metadata": {
    "ExecuteTime": {
     "end_time": "2016-05-05T13:47:08.463113",
     "start_time": "2016-05-05T13:47:08.450524"
    },
    "collapsed": false
   },
   "outputs": [
    {
     "data": {
      "text/plain": [
       "17446"
      ]
     },
     "execution_count": 10,
     "metadata": {},
     "output_type": "execute_result"
    }
   ],
   "source": [
    "len(vacancies)"
   ]
  },
  {
   "cell_type": "code",
   "execution_count": 11,
   "metadata": {
    "ExecuteTime": {
     "end_time": "2016-05-05T13:47:40.864813",
     "start_time": "2016-05-05T13:47:40.852627"
    },
    "collapsed": false
   },
   "outputs": [
    {
     "data": {
      "text/html": [
       "<div>\n",
       "<table border=\"1\" class=\"dataframe\">\n",
       "  <thead>\n",
       "    <tr style=\"text-align: right;\">\n",
       "      <th></th>\n",
       "      <th>id</th>\n",
       "      <th>name</th>\n",
       "      <th>html</th>\n",
       "      <th>url</th>\n",
       "      <th>site</th>\n",
       "      <th>date</th>\n",
       "    </tr>\n",
       "  </thead>\n",
       "  <tbody>\n",
       "    <tr>\n",
       "      <th>3</th>\n",
       "      <td>1413553876</td>\n",
       "      <td>Разработчик Ruby/Ruby on Rails</td>\n",
       "      <td>&lt;div class=\"b-important b-vacancy-info\"&gt;&lt;table...</td>\n",
       "      <td>http://irkutsk.hh.ru/vacancy/11833695?query=%D...</td>\n",
       "      <td>hh.ru</td>\n",
       "      <td>2014-10-17 13:51:12</td>\n",
       "    </tr>\n",
       "    <tr>\n",
       "      <th>4</th>\n",
       "      <td>1413553877</td>\n",
       "      <td>Ведущий программист 1 С/Руководитель направлен...</td>\n",
       "      <td>&lt;div class=\"b-important b-vacancy-info\"&gt;&lt;table...</td>\n",
       "      <td>http://irkutsk.hh.ru/vacancy/11926858?query=%D...</td>\n",
       "      <td>hh.ru</td>\n",
       "      <td>2014-10-17 13:51:12</td>\n",
       "    </tr>\n",
       "    <tr>\n",
       "      <th>5</th>\n",
       "      <td>1413553878</td>\n",
       "      <td>Java-разработчик</td>\n",
       "      <td>&lt;div class=\"b-important b-vacancy-info\"&gt;&lt;table...</td>\n",
       "      <td>http://irkutsk.hh.ru/vacancy/11968661?query=%D...</td>\n",
       "      <td>hh.ru</td>\n",
       "      <td>2014-10-17 13:51:12</td>\n",
       "    </tr>\n",
       "    <tr>\n",
       "      <th>8</th>\n",
       "      <td>1413553881</td>\n",
       "      <td>IOS разработчик</td>\n",
       "      <td>&lt;div class=\"b-important b-vacancy-info\"&gt;&lt;table...</td>\n",
       "      <td>http://irkutsk.hh.ru/vacancy/11799508?query=%D...</td>\n",
       "      <td>hh.ru</td>\n",
       "      <td>2014-10-17 13:51:12</td>\n",
       "    </tr>\n",
       "    <tr>\n",
       "      <th>9</th>\n",
       "      <td>1413553882</td>\n",
       "      <td>Программист PHP (web-разработка; back-end)</td>\n",
       "      <td>&lt;div class=\"b-important b-vacancy-info\"&gt;&lt;table...</td>\n",
       "      <td>http://irkutsk.hh.ru/vacancy/11639762?query=%D...</td>\n",
       "      <td>hh.ru</td>\n",
       "      <td>2014-10-17 13:51:12</td>\n",
       "    </tr>\n",
       "  </tbody>\n",
       "</table>\n",
       "</div>"
      ],
      "text/plain": [
       "           id                                               name  \\\n",
       "3  1413553876                     Разработчик Ruby/Ruby on Rails   \n",
       "4  1413553877  Ведущий программист 1 С/Руководитель направлен...   \n",
       "5  1413553878                                   Java-разработчик   \n",
       "8  1413553881                                    IOS разработчик   \n",
       "9  1413553882         Программист PHP (web-разработка; back-end)   \n",
       "\n",
       "                                                html  \\\n",
       "3  <div class=\"b-important b-vacancy-info\"><table...   \n",
       "4  <div class=\"b-important b-vacancy-info\"><table...   \n",
       "5  <div class=\"b-important b-vacancy-info\"><table...   \n",
       "8  <div class=\"b-important b-vacancy-info\"><table...   \n",
       "9  <div class=\"b-important b-vacancy-info\"><table...   \n",
       "\n",
       "                                                 url   site  \\\n",
       "3  http://irkutsk.hh.ru/vacancy/11833695?query=%D...  hh.ru   \n",
       "4  http://irkutsk.hh.ru/vacancy/11926858?query=%D...  hh.ru   \n",
       "5  http://irkutsk.hh.ru/vacancy/11968661?query=%D...  hh.ru   \n",
       "8  http://irkutsk.hh.ru/vacancy/11799508?query=%D...  hh.ru   \n",
       "9  http://irkutsk.hh.ru/vacancy/11639762?query=%D...  hh.ru   \n",
       "\n",
       "                 date  \n",
       "3 2014-10-17 13:51:12  \n",
       "4 2014-10-17 13:51:12  \n",
       "5 2014-10-17 13:51:12  \n",
       "8 2014-10-17 13:51:12  \n",
       "9 2014-10-17 13:51:12  "
      ]
     },
     "execution_count": 11,
     "metadata": {},
     "output_type": "execute_result"
    }
   ],
   "source": [
    "vacancies.head()"
   ]
  },
  {
   "cell_type": "code",
   "execution_count": 12,
   "metadata": {
    "ExecuteTime": {
     "end_time": "2016-05-05T13:47:58.195688",
     "start_time": "2016-05-05T13:47:56.953567"
    },
    "collapsed": false
   },
   "outputs": [],
   "source": [
    "vacancies.to_csv('data/vacancies.csv', sep='|', index=False)"
   ]
  },
  {
   "cell_type": "code",
   "execution_count": null,
   "metadata": {
    "collapsed": true
   },
   "outputs": [],
   "source": []
  }
 ],
 "metadata": {
  "kernelspec": {
   "display_name": "Python 3",
   "language": "python",
   "name": "python3"
  },
  "language_info": {
   "codemirror_mode": {
    "name": "ipython",
    "version": 3
   },
   "file_extension": ".py",
   "mimetype": "text/x-python",
   "name": "python",
   "nbconvert_exporter": "python",
   "pygments_lexer": "ipython3",
   "version": "3.4.4"
  },
  "toc": {
   "toc_cell": false,
   "toc_number_sections": true,
   "toc_threshold": 6,
   "toc_window_display": false
  }
 },
 "nbformat": 4,
 "nbformat_minor": 0
}
