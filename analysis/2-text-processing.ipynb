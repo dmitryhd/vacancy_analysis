{
 "cells": [
  {
   "cell_type": "markdown",
   "metadata": {},
   "source": [
    "# Vacan text preprocessing"
   ]
  },
  {
   "cell_type": "code",
   "execution_count": 2,
   "metadata": {
    "ExecuteTime": {
     "end_time": "2016-05-09T00:35:12.529957",
     "start_time": "2016-05-09T00:35:12.306128"
    },
    "collapsed": false
   },
   "outputs": [],
   "source": [
    "import pandas as pd\n",
    "import bs4\n",
    "import re\n",
    "from IPython.display import display"
   ]
  },
  {
   "cell_type": "code",
   "execution_count": 3,
   "metadata": {
    "ExecuteTime": {
     "end_time": "2016-05-09T00:35:13.657286",
     "start_time": "2016-05-09T00:35:12.925192"
    },
    "collapsed": false
   },
   "outputs": [],
   "source": [
    "vacancies = pd.read_csv('data/vacancies.csv', header=0, sep='|')"
   ]
  },
  {
   "cell_type": "code",
   "execution_count": 4,
   "metadata": {
    "ExecuteTime": {
     "end_time": "2016-05-09T00:35:13.667484",
     "start_time": "2016-05-09T00:35:13.658784"
    },
    "collapsed": false
   },
   "outputs": [],
   "source": [
    "vacancies.html = vacancies.html.astype(str)"
   ]
  },
  {
   "cell_type": "code",
   "execution_count": 5,
   "metadata": {
    "ExecuteTime": {
     "end_time": "2016-05-09T00:35:13.694234",
     "start_time": "2016-05-09T00:35:13.669397"
    },
    "collapsed": false
   },
   "outputs": [
    {
     "data": {
      "text/plain": [
       "'2015-12-06 12:39:17'"
      ]
     },
     "execution_count": 5,
     "metadata": {},
     "output_type": "execute_result"
    }
   ],
   "source": [
    "vacancies.date.max()"
   ]
  },
  {
   "cell_type": "code",
   "execution_count": 6,
   "metadata": {
    "ExecuteTime": {
     "end_time": "2016-05-09T00:35:13.840673",
     "start_time": "2016-05-09T00:35:13.836153"
    },
    "collapsed": false
   },
   "outputs": [],
   "source": [
    "soup = bs4.BeautifulSoup(vacancies.iloc[0].html, 'html.parser')"
   ]
  },
  {
   "cell_type": "code",
   "execution_count": 7,
   "metadata": {
    "ExecuteTime": {
     "end_time": "2016-05-09T00:35:14.097344",
     "start_time": "2016-05-09T00:35:14.093139"
    },
    "collapsed": false
   },
   "outputs": [
    {
     "data": {
      "text/plain": [
       "<meta content=\"RUR\" itemprop=\"salaryCurrency\"><meta content=\"70000\" itemprop=\"baseSalary\">от 70 000 руб.</meta></meta>"
      ]
     },
     "execution_count": 7,
     "metadata": {},
     "output_type": "execute_result"
    }
   ],
   "source": [
    "soup.meta"
   ]
  },
  {
   "cell_type": "markdown",
   "metadata": {},
   "source": [
    "# Get salary / text"
   ]
  },
  {
   "cell_type": "code",
   "execution_count": 8,
   "metadata": {
    "ExecuteTime": {
     "end_time": "2016-05-09T00:35:14.892043",
     "start_time": "2016-05-09T00:35:14.884227"
    },
    "collapsed": false
   },
   "outputs": [],
   "source": [
    "def get_salary(html: str) -> tuple:\n",
    "    soup = bs4.BeautifulSoup(html, 'html.parser')\n",
    "    basesalary = None\n",
    "    salarycurrency = None\n",
    "    for meta in soup.findAll(\"meta\"):\n",
    "        meta_name = meta.get('itemprop', '').lower()\n",
    "        if meta_name == 'salarycurrency':\n",
    "            salarycurrency = meta.get('content', '').lower()\n",
    "        if meta_name == 'basesalary':\n",
    "            basesalary = int(meta.get('content', ''))\n",
    "    return salarycurrency, basesalary\n",
    "\n",
    "def get_text(html: str) -> str:\n",
    "    try:\n",
    "        x = re.search(r'</table>.*</div>(.*)Тип занятости', html)\n",
    "        return x.groups()[0].lower()\n",
    "    except AttributeError:\n",
    "        return html.lower()"
   ]
  },
  {
   "cell_type": "raw",
   "metadata": {
    "ExecuteTime": {
     "end_time": "2016-05-05T14:05:33.574706",
     "start_time": "2016-05-05T14:05:33.568711"
    },
    "collapsed": false
   },
   "source": [
    "example_html = vacancies.iloc[5].html\n",
    "display(get_salary(example_html))\n",
    "display(get_text(example_html))"
   ]
  },
  {
   "cell_type": "code",
   "execution_count": 9,
   "metadata": {
    "ExecuteTime": {
     "end_time": "2016-05-09T00:35:20.925278",
     "start_time": "2016-05-09T00:35:20.584059"
    },
    "collapsed": false
   },
   "outputs": [],
   "source": [
    "vacancies['text'] = vacancies.html.apply(get_text)"
   ]
  },
  {
   "cell_type": "code",
   "execution_count": 10,
   "metadata": {
    "ExecuteTime": {
     "end_time": "2016-05-09T00:35:34.266889",
     "start_time": "2016-05-09T00:35:21.465931"
    },
    "collapsed": false
   },
   "outputs": [],
   "source": [
    "salaries = vacancies.html.apply(get_salary)"
   ]
  },
  {
   "cell_type": "code",
   "execution_count": 11,
   "metadata": {
    "ExecuteTime": {
     "end_time": "2016-05-09T00:35:34.280409",
     "start_time": "2016-05-09T00:35:34.268420"
    },
    "collapsed": true
   },
   "outputs": [],
   "source": [
    "vacancies['salary'] = salaries.apply(lambda x: x[1])"
   ]
  },
  {
   "cell_type": "code",
   "execution_count": 12,
   "metadata": {
    "ExecuteTime": {
     "end_time": "2016-05-09T00:35:34.299006",
     "start_time": "2016-05-09T00:35:34.281921"
    },
    "collapsed": false
   },
   "outputs": [],
   "source": [
    "vacancies['salary_currency'] = salaries.apply(lambda x: x[0])"
   ]
  },
  {
   "cell_type": "code",
   "execution_count": 13,
   "metadata": {
    "ExecuteTime": {
     "end_time": "2016-05-09T00:35:34.324064",
     "start_time": "2016-05-09T00:35:34.300409"
    },
    "collapsed": true
   },
   "outputs": [],
   "source": [
    "vacancies['name'] = vacancies.name.apply(lambda x: x.lower())"
   ]
  },
  {
   "cell_type": "code",
   "execution_count": 14,
   "metadata": {
    "ExecuteTime": {
     "end_time": "2016-05-09T00:35:34.349034",
     "start_time": "2016-05-09T00:35:34.326346"
    },
    "collapsed": false
   },
   "outputs": [
    {
     "data": {
      "text/html": [
       "<div>\n",
       "<table border=\"1\" class=\"dataframe\">\n",
       "  <thead>\n",
       "    <tr style=\"text-align: right;\">\n",
       "      <th></th>\n",
       "      <th>id</th>\n",
       "      <th>name</th>\n",
       "      <th>html</th>\n",
       "      <th>url</th>\n",
       "      <th>site</th>\n",
       "      <th>date</th>\n",
       "      <th>text</th>\n",
       "      <th>salary</th>\n",
       "      <th>salary_currency</th>\n",
       "    </tr>\n",
       "  </thead>\n",
       "  <tbody>\n",
       "    <tr>\n",
       "      <th>0</th>\n",
       "      <td>1413553876</td>\n",
       "      <td>разработчик ruby/ruby on rails</td>\n",
       "      <td>&lt;div class=\"b-important b-vacancy-info\"&gt;&lt;table...</td>\n",
       "      <td>http://irkutsk.hh.ru/vacancy/11833695?query=%D...</td>\n",
       "      <td>hh.ru</td>\n",
       "      <td>2014-10-17 13:51:12</td>\n",
       "      <td>в состав распределенной команды, разрабатывающ...</td>\n",
       "      <td>70000</td>\n",
       "      <td>rur</td>\n",
       "    </tr>\n",
       "    <tr>\n",
       "      <th>1</th>\n",
       "      <td>1413553877</td>\n",
       "      <td>ведущий программист 1 с/руководитель направлен...</td>\n",
       "      <td>&lt;div class=\"b-important b-vacancy-info\"&gt;&lt;table...</td>\n",
       "      <td>http://irkutsk.hh.ru/vacancy/11926858?query=%D...</td>\n",
       "      <td>hh.ru</td>\n",
       "      <td>2014-10-17 13:51:12</td>\n",
       "      <td>медицинская сеть клиник приглашает на работу н...</td>\n",
       "      <td>110000</td>\n",
       "      <td>rur</td>\n",
       "    </tr>\n",
       "  </tbody>\n",
       "</table>\n",
       "</div>"
      ],
      "text/plain": [
       "           id                                               name  \\\n",
       "0  1413553876                     разработчик ruby/ruby on rails   \n",
       "1  1413553877  ведущий программист 1 с/руководитель направлен...   \n",
       "\n",
       "                                                html  \\\n",
       "0  <div class=\"b-important b-vacancy-info\"><table...   \n",
       "1  <div class=\"b-important b-vacancy-info\"><table...   \n",
       "\n",
       "                                                 url   site  \\\n",
       "0  http://irkutsk.hh.ru/vacancy/11833695?query=%D...  hh.ru   \n",
       "1  http://irkutsk.hh.ru/vacancy/11926858?query=%D...  hh.ru   \n",
       "\n",
       "                  date                                               text  \\\n",
       "0  2014-10-17 13:51:12  в состав распределенной команды, разрабатывающ...   \n",
       "1  2014-10-17 13:51:12  медицинская сеть клиник приглашает на работу н...   \n",
       "\n",
       "   salary salary_currency  \n",
       "0   70000             rur  \n",
       "1  110000             rur  "
      ]
     },
     "execution_count": 14,
     "metadata": {},
     "output_type": "execute_result"
    }
   ],
   "source": [
    "vacancies.head(2)"
   ]
  },
  {
   "cell_type": "code",
   "execution_count": 15,
   "metadata": {
    "ExecuteTime": {
     "end_time": "2016-05-09T00:35:34.371392",
     "start_time": "2016-05-09T00:35:34.350396"
    },
    "collapsed": false
   },
   "outputs": [],
   "source": [
    "vacancies_prepared = vacancies[['date', 'name', 'text', 'salary', 'salary_currency', 'url']]"
   ]
  },
  {
   "cell_type": "code",
   "execution_count": 16,
   "metadata": {
    "ExecuteTime": {
     "end_time": "2016-05-09T00:35:34.431822",
     "start_time": "2016-05-09T00:35:34.372860"
    },
    "collapsed": false
   },
   "outputs": [
    {
     "name": "stderr",
     "output_type": "stream",
     "text": [
      "/usr/local/lib/python3.4/site-packages/ipykernel/__main__.py:1: SettingWithCopyWarning: \n",
      "A value is trying to be set on a copy of a slice from a DataFrame.\n",
      "Try using .loc[row_indexer,col_indexer] = value instead\n",
      "\n",
      "See the caveats in the documentation: http://pandas.pydata.org/pandas-docs/stable/indexing.html#indexing-view-versus-copy\n",
      "  if __name__ == '__main__':\n"
     ]
    }
   ],
   "source": [
    "vacancies_prepared['currency'] = vacancies_prepared.loc[:,'salary_currency']"
   ]
  },
  {
   "cell_type": "code",
   "execution_count": 17,
   "metadata": {
    "ExecuteTime": {
     "end_time": "2016-05-09T00:35:44.520913",
     "start_time": "2016-05-09T00:35:44.512128"
    },
    "collapsed": true
   },
   "outputs": [],
   "source": [
    "del vacancies_prepared['salary_currency']"
   ]
  },
  {
   "cell_type": "code",
   "execution_count": 18,
   "metadata": {
    "ExecuteTime": {
     "end_time": "2016-05-09T00:35:45.159334",
     "start_time": "2016-05-09T00:35:45.140646"
    },
    "collapsed": false
   },
   "outputs": [
    {
     "data": {
      "text/html": [
       "<div>\n",
       "<table border=\"1\" class=\"dataframe\">\n",
       "  <thead>\n",
       "    <tr style=\"text-align: right;\">\n",
       "      <th></th>\n",
       "      <th>date</th>\n",
       "      <th>name</th>\n",
       "      <th>text</th>\n",
       "      <th>salary</th>\n",
       "      <th>url</th>\n",
       "      <th>currency</th>\n",
       "    </tr>\n",
       "  </thead>\n",
       "  <tbody>\n",
       "    <tr>\n",
       "      <th>0</th>\n",
       "      <td>2014-10-17 13:51:12</td>\n",
       "      <td>разработчик ruby/ruby on rails</td>\n",
       "      <td>в состав распределенной команды, разрабатывающ...</td>\n",
       "      <td>70000</td>\n",
       "      <td>http://irkutsk.hh.ru/vacancy/11833695?query=%D...</td>\n",
       "      <td>rur</td>\n",
       "    </tr>\n",
       "    <tr>\n",
       "      <th>1</th>\n",
       "      <td>2014-10-17 13:51:12</td>\n",
       "      <td>ведущий программист 1 с/руководитель направлен...</td>\n",
       "      <td>медицинская сеть клиник приглашает на работу н...</td>\n",
       "      <td>110000</td>\n",
       "      <td>http://irkutsk.hh.ru/vacancy/11926858?query=%D...</td>\n",
       "      <td>rur</td>\n",
       "    </tr>\n",
       "    <tr>\n",
       "      <th>2</th>\n",
       "      <td>2014-10-17 13:51:12</td>\n",
       "      <td>java-разработчик</td>\n",
       "      <td>обязанности:  участие в проектах компании по р...</td>\n",
       "      <td>40000</td>\n",
       "      <td>http://irkutsk.hh.ru/vacancy/11968661?query=%D...</td>\n",
       "      <td>rur</td>\n",
       "    </tr>\n",
       "    <tr>\n",
       "      <th>3</th>\n",
       "      <td>2014-10-17 13:51:12</td>\n",
       "      <td>ios разработчик</td>\n",
       "      <td>привет. меня зовут егор, в 2011 году мы создал...</td>\n",
       "      <td>120000</td>\n",
       "      <td>http://irkutsk.hh.ru/vacancy/11799508?query=%D...</td>\n",
       "      <td>rur</td>\n",
       "    </tr>\n",
       "    <tr>\n",
       "      <th>4</th>\n",
       "      <td>2014-10-17 13:51:12</td>\n",
       "      <td>программист php (web-разработка; back-end)</td>\n",
       "      <td>в телекоммуникационную компанию требуется прог...</td>\n",
       "      <td>80000</td>\n",
       "      <td>http://irkutsk.hh.ru/vacancy/11639762?query=%D...</td>\n",
       "      <td>rur</td>\n",
       "    </tr>\n",
       "  </tbody>\n",
       "</table>\n",
       "</div>"
      ],
      "text/plain": [
       "                  date                                               name  \\\n",
       "0  2014-10-17 13:51:12                     разработчик ruby/ruby on rails   \n",
       "1  2014-10-17 13:51:12  ведущий программист 1 с/руководитель направлен...   \n",
       "2  2014-10-17 13:51:12                                   java-разработчик   \n",
       "3  2014-10-17 13:51:12                                    ios разработчик   \n",
       "4  2014-10-17 13:51:12         программист php (web-разработка; back-end)   \n",
       "\n",
       "                                                text  salary  \\\n",
       "0  в состав распределенной команды, разрабатывающ...   70000   \n",
       "1  медицинская сеть клиник приглашает на работу н...  110000   \n",
       "2  обязанности:  участие в проектах компании по р...   40000   \n",
       "3  привет. меня зовут егор, в 2011 году мы создал...  120000   \n",
       "4  в телекоммуникационную компанию требуется прог...   80000   \n",
       "\n",
       "                                                 url currency  \n",
       "0  http://irkutsk.hh.ru/vacancy/11833695?query=%D...      rur  \n",
       "1  http://irkutsk.hh.ru/vacancy/11926858?query=%D...      rur  \n",
       "2  http://irkutsk.hh.ru/vacancy/11968661?query=%D...      rur  \n",
       "3  http://irkutsk.hh.ru/vacancy/11799508?query=%D...      rur  \n",
       "4  http://irkutsk.hh.ru/vacancy/11639762?query=%D...      rur  "
      ]
     },
     "execution_count": 18,
     "metadata": {},
     "output_type": "execute_result"
    }
   ],
   "source": [
    "vacancies_prepared.head()"
   ]
  },
  {
   "cell_type": "code",
   "execution_count": 19,
   "metadata": {
    "ExecuteTime": {
     "end_time": "2016-05-09T00:36:07.285022",
     "start_time": "2016-05-09T00:36:06.618452"
    },
    "collapsed": true
   },
   "outputs": [],
   "source": [
    "vacancies_prepared.to_csv('data/vacancies_prepared.csv', index=True, sep='|')"
   ]
  },
  {
   "cell_type": "markdown",
   "metadata": {},
   "source": [
    "# Tokenizing"
   ]
  },
  {
   "cell_type": "code",
   "execution_count": 20,
   "metadata": {
    "ExecuteTime": {
     "end_time": "2016-05-09T00:36:10.801081",
     "start_time": "2016-05-09T00:36:10.298175"
    },
    "collapsed": false
   },
   "outputs": [],
   "source": [
    "from nltk.corpus import stopwords\n",
    "stop_words = stopwords.words('russian')\n",
    "stop_words.extend(['что', 'это', 'так', 'вот', 'быть', 'как', 'в', '—', 'к', 'на'])\n",
    "stop_words.extend(['разработчик', 'программист', 'developer', 'разработка'])  # add custom stopwords\n",
    "stop_words = set(stop_words)"
   ]
  },
  {
   "cell_type": "code",
   "execution_count": 21,
   "metadata": {
    "ExecuteTime": {
     "end_time": "2016-05-09T00:36:11.465007",
     "start_time": "2016-05-09T00:36:11.462599"
    },
    "collapsed": false
   },
   "outputs": [],
   "source": [
    "import string\n",
    "punctuation = set(string.punctuation)"
   ]
  },
  {
   "cell_type": "code",
   "execution_count": 22,
   "metadata": {
    "ExecuteTime": {
     "end_time": "2016-05-09T00:36:11.790925",
     "start_time": "2016-05-09T00:36:11.786068"
    },
    "collapsed": true
   },
   "outputs": [],
   "source": [
    "from nltk.tokenize import RegexpTokenizer\n",
    "import nltk\n",
    "tokenizer = RegexpTokenizer(r'\\w+')"
   ]
  },
  {
   "cell_type": "code",
   "execution_count": 23,
   "metadata": {
    "ExecuteTime": {
     "end_time": "2016-05-09T00:36:12.355475",
     "start_time": "2016-05-09T00:36:12.350920"
    },
    "collapsed": true
   },
   "outputs": [],
   "source": [
    "def tokenize(text: str) -> list:\n",
    "    text = text.replace('/', ' ').replace('-', ' ')\n",
    "    tokens = nltk.word_tokenize(text)\n",
    "    tokens = [i for i in tokens if i not in stop_words and i not in punctuation]\n",
    "    tokens = [i.replace(\"«\", \"\").replace(\"»\", \"\") for i in tokens]\n",
    "    return tokens"
   ]
  },
  {
   "cell_type": "code",
   "execution_count": 24,
   "metadata": {
    "ExecuteTime": {
     "end_time": "2016-05-09T00:36:16.126580",
     "start_time": "2016-05-09T00:36:16.122963"
    },
    "collapsed": true
   },
   "outputs": [],
   "source": [
    "vacancies_tokens = pd.DataFrame()"
   ]
  },
  {
   "cell_type": "code",
   "execution_count": 25,
   "metadata": {
    "ExecuteTime": {
     "end_time": "2016-05-09T00:36:19.497299",
     "start_time": "2016-05-09T00:36:17.788606"
    },
    "collapsed": false
   },
   "outputs": [],
   "source": [
    "vacancies_tokens['name_tokens'] = vacancies_prepared.name.apply(tokenize)"
   ]
  },
  {
   "cell_type": "code",
   "execution_count": 26,
   "metadata": {
    "ExecuteTime": {
     "end_time": "2016-05-09T00:36:48.278121",
     "start_time": "2016-05-09T00:36:19.498806"
    },
    "collapsed": false
   },
   "outputs": [],
   "source": [
    "vacancies_tokens['text_tokens'] = vacancies_prepared.text.apply(tokenize)"
   ]
  },
  {
   "cell_type": "code",
   "execution_count": 27,
   "metadata": {
    "ExecuteTime": {
     "end_time": "2016-05-09T00:36:48.294368",
     "start_time": "2016-05-09T00:36:48.279591"
    },
    "collapsed": false
   },
   "outputs": [
    {
     "data": {
      "text/html": [
       "<div>\n",
       "<table border=\"1\" class=\"dataframe\">\n",
       "  <thead>\n",
       "    <tr style=\"text-align: right;\">\n",
       "      <th></th>\n",
       "      <th>name_tokens</th>\n",
       "      <th>text_tokens</th>\n",
       "    </tr>\n",
       "  </thead>\n",
       "  <tbody>\n",
       "    <tr>\n",
       "      <th>0</th>\n",
       "      <td>[ruby, ruby, on, rails]</td>\n",
       "      <td>[состав, распределенной, команды, разрабатываю...</td>\n",
       "    </tr>\n",
       "    <tr>\n",
       "      <th>1</th>\n",
       "      <td>[ведущий, 1, руководитель, направления, it]</td>\n",
       "      <td>[медицинская, сеть, клиник, приглашает, работу...</td>\n",
       "    </tr>\n",
       "    <tr>\n",
       "      <th>2</th>\n",
       "      <td>[java]</td>\n",
       "      <td>[обязанности, участие, проектах, компании, раз...</td>\n",
       "    </tr>\n",
       "    <tr>\n",
       "      <th>3</th>\n",
       "      <td>[ios]</td>\n",
       "      <td>[привет, зовут, егор, 2011, году, создали, ком...</td>\n",
       "    </tr>\n",
       "    <tr>\n",
       "      <th>4</th>\n",
       "      <td>[php, web, back, end]</td>\n",
       "      <td>[телекоммуникационную, компанию, требуется, ph...</td>\n",
       "    </tr>\n",
       "  </tbody>\n",
       "</table>\n",
       "</div>"
      ],
      "text/plain": [
       "                                   name_tokens  \\\n",
       "0                      [ruby, ruby, on, rails]   \n",
       "1  [ведущий, 1, руководитель, направления, it]   \n",
       "2                                       [java]   \n",
       "3                                        [ios]   \n",
       "4                        [php, web, back, end]   \n",
       "\n",
       "                                         text_tokens  \n",
       "0  [состав, распределенной, команды, разрабатываю...  \n",
       "1  [медицинская, сеть, клиник, приглашает, работу...  \n",
       "2  [обязанности, участие, проектах, компании, раз...  \n",
       "3  [привет, зовут, егор, 2011, году, создали, ком...  \n",
       "4  [телекоммуникационную, компанию, требуется, ph...  "
      ]
     },
     "execution_count": 27,
     "metadata": {},
     "output_type": "execute_result"
    }
   ],
   "source": [
    "vacancies_tokens.head()"
   ]
  },
  {
   "cell_type": "code",
   "execution_count": 28,
   "metadata": {
    "ExecuteTime": {
     "end_time": "2016-05-09T00:36:48.313163",
     "start_time": "2016-05-09T00:36:48.295818"
    },
    "collapsed": true
   },
   "outputs": [],
   "source": [
    "back = vacancies_tokens.copy()"
   ]
  },
  {
   "cell_type": "markdown",
   "metadata": {},
   "source": [
    "## Stemming"
   ]
  },
  {
   "cell_type": "code",
   "execution_count": 29,
   "metadata": {
    "ExecuteTime": {
     "end_time": "2016-05-09T00:36:48.323572",
     "start_time": "2016-05-09T00:36:48.314644"
    },
    "collapsed": true
   },
   "outputs": [],
   "source": [
    "stemmer = nltk.stem.snowball.RussianStemmer(ignore_stopwords=True)"
   ]
  },
  {
   "cell_type": "code",
   "execution_count": 30,
   "metadata": {
    "ExecuteTime": {
     "end_time": "2016-05-09T00:36:48.334937",
     "start_time": "2016-05-09T00:36:48.325418"
    },
    "collapsed": false
   },
   "outputs": [],
   "source": [
    "english_letters = set(string.ascii_lowercase)"
   ]
  },
  {
   "cell_type": "code",
   "execution_count": 31,
   "metadata": {
    "ExecuteTime": {
     "end_time": "2016-05-09T00:36:48.352676",
     "start_time": "2016-05-09T00:36:48.336855"
    },
    "collapsed": false
   },
   "outputs": [],
   "source": [
    "def stem(tokens: list) -> list:\n",
    "    return [stemmer.stem(token) if len(token) > 0 and token[0] not in english_letters else token for token in tokens]"
   ]
  },
  {
   "cell_type": "code",
   "execution_count": 32,
   "metadata": {
    "ExecuteTime": {
     "end_time": "2016-05-09T00:36:50.040743",
     "start_time": "2016-05-09T00:36:48.355020"
    },
    "collapsed": false
   },
   "outputs": [],
   "source": [
    "vacancies_tokens['name_tokens'] = vacancies_tokens.name_tokens.apply(stem)"
   ]
  },
  {
   "cell_type": "code",
   "execution_count": 33,
   "metadata": {
    "ExecuteTime": {
     "end_time": "2016-05-09T00:36:50.056856",
     "start_time": "2016-05-09T00:36:50.042181"
    },
    "collapsed": false
   },
   "outputs": [
    {
     "data": {
      "text/html": [
       "<div>\n",
       "<table border=\"1\" class=\"dataframe\">\n",
       "  <thead>\n",
       "    <tr style=\"text-align: right;\">\n",
       "      <th></th>\n",
       "      <th>name_tokens</th>\n",
       "      <th>text_tokens</th>\n",
       "    </tr>\n",
       "  </thead>\n",
       "  <tbody>\n",
       "    <tr>\n",
       "      <th>0</th>\n",
       "      <td>[ruby, ruby, on, rails]</td>\n",
       "      <td>[состав, распределенной, команды, разрабатываю...</td>\n",
       "    </tr>\n",
       "    <tr>\n",
       "      <th>1</th>\n",
       "      <td>[ведущ, 1, руководител, направлен, it]</td>\n",
       "      <td>[медицинская, сеть, клиник, приглашает, работу...</td>\n",
       "    </tr>\n",
       "    <tr>\n",
       "      <th>2</th>\n",
       "      <td>[java]</td>\n",
       "      <td>[обязанности, участие, проектах, компании, раз...</td>\n",
       "    </tr>\n",
       "    <tr>\n",
       "      <th>3</th>\n",
       "      <td>[ios]</td>\n",
       "      <td>[привет, зовут, егор, 2011, году, создали, ком...</td>\n",
       "    </tr>\n",
       "    <tr>\n",
       "      <th>4</th>\n",
       "      <td>[php, web, back, end]</td>\n",
       "      <td>[телекоммуникационную, компанию, требуется, ph...</td>\n",
       "    </tr>\n",
       "  </tbody>\n",
       "</table>\n",
       "</div>"
      ],
      "text/plain": [
       "                              name_tokens  \\\n",
       "0                 [ruby, ruby, on, rails]   \n",
       "1  [ведущ, 1, руководител, направлен, it]   \n",
       "2                                  [java]   \n",
       "3                                   [ios]   \n",
       "4                   [php, web, back, end]   \n",
       "\n",
       "                                         text_tokens  \n",
       "0  [состав, распределенной, команды, разрабатываю...  \n",
       "1  [медицинская, сеть, клиник, приглашает, работу...  \n",
       "2  [обязанности, участие, проектах, компании, раз...  \n",
       "3  [привет, зовут, егор, 2011, году, создали, ком...  \n",
       "4  [телекоммуникационную, компанию, требуется, ph...  "
      ]
     },
     "execution_count": 33,
     "metadata": {},
     "output_type": "execute_result"
    }
   ],
   "source": [
    "vacancies_tokens.head()"
   ]
  },
  {
   "cell_type": "code",
   "execution_count": 34,
   "metadata": {
    "ExecuteTime": {
     "end_time": "2016-05-09T00:39:05.529377",
     "start_time": "2016-05-09T00:36:50.059402"
    },
    "collapsed": false
   },
   "outputs": [],
   "source": [
    "vacancies_tokens['text_tokens'] = vacancies_tokens.text_tokens.apply(stem)"
   ]
  },
  {
   "cell_type": "code",
   "execution_count": 35,
   "metadata": {
    "ExecuteTime": {
     "end_time": "2016-05-09T00:39:05.533741",
     "start_time": "2016-05-09T00:39:05.530764"
    },
    "collapsed": false
   },
   "outputs": [],
   "source": [
    "vacancies_tokens_back = vacancies_tokens.copy()"
   ]
  },
  {
   "cell_type": "markdown",
   "metadata": {},
   "source": [
    "# Got processed texts"
   ]
  },
  {
   "cell_type": "code",
   "execution_count": 36,
   "metadata": {
    "ExecuteTime": {
     "end_time": "2016-05-09T00:39:05.549849",
     "start_time": "2016-05-09T00:39:05.535063"
    },
    "collapsed": false
   },
   "outputs": [],
   "source": [
    "vacancies = vacancies_tokens.join(vacancies_prepared)# [['date', 'salary', 'currency']])"
   ]
  },
  {
   "cell_type": "code",
   "execution_count": 41,
   "metadata": {
    "ExecuteTime": {
     "end_time": "2016-05-09T00:43:22.038723",
     "start_time": "2016-05-09T00:43:22.033281"
    },
    "collapsed": true
   },
   "outputs": [],
   "source": [
    "def list_to_str(lst):\n",
    "    return ' '.join(lst)"
   ]
  },
  {
   "cell_type": "code",
   "execution_count": 42,
   "metadata": {
    "ExecuteTime": {
     "end_time": "2016-05-09T00:43:56.303313",
     "start_time": "2016-05-09T00:43:56.172771"
    },
    "collapsed": true
   },
   "outputs": [],
   "source": [
    "vacancies['name_tokens'] = vacancies.name_tokens.apply(list_to_str)\n",
    "vacancies['text_tokens'] = vacancies.text_tokens.apply(list_to_str)"
   ]
  },
  {
   "cell_type": "code",
   "execution_count": 43,
   "metadata": {
    "ExecuteTime": {
     "end_time": "2016-05-09T00:43:59.935150",
     "start_time": "2016-05-09T00:43:59.900524"
    },
    "collapsed": false
   },
   "outputs": [
    {
     "data": {
      "text/html": [
       "<div>\n",
       "<table border=\"1\" class=\"dataframe\">\n",
       "  <thead>\n",
       "    <tr style=\"text-align: right;\">\n",
       "      <th></th>\n",
       "      <th>name_tokens</th>\n",
       "      <th>text_tokens</th>\n",
       "      <th>date</th>\n",
       "      <th>name</th>\n",
       "      <th>text</th>\n",
       "      <th>salary</th>\n",
       "      <th>url</th>\n",
       "      <th>currency</th>\n",
       "    </tr>\n",
       "  </thead>\n",
       "  <tbody>\n",
       "    <tr>\n",
       "      <th>0</th>\n",
       "      <td>ruby ruby on rails</td>\n",
       "      <td>соста распределен команд разрабатыва сист брон...</td>\n",
       "      <td>2014-10-17 13:51:12</td>\n",
       "      <td>разработчик ruby/ruby on rails</td>\n",
       "      <td>в состав распределенной команды, разрабатывающ...</td>\n",
       "      <td>70000</td>\n",
       "      <td>http://irkutsk.hh.ru/vacancy/11833695?query=%D...</td>\n",
       "      <td>rur</td>\n",
       "    </tr>\n",
       "    <tr>\n",
       "      <th>1</th>\n",
       "      <td>ведущ 1 руководител направлен it</td>\n",
       "      <td>медицинск сет клиник приглаша работ работ веду...</td>\n",
       "      <td>2014-10-17 13:51:12</td>\n",
       "      <td>ведущий программист 1 с/руководитель направлен...</td>\n",
       "      <td>медицинская сеть клиник приглашает на работу н...</td>\n",
       "      <td>110000</td>\n",
       "      <td>http://irkutsk.hh.ru/vacancy/11926858?query=%D...</td>\n",
       "      <td>rur</td>\n",
       "    </tr>\n",
       "    <tr>\n",
       "      <th>2</th>\n",
       "      <td>java</td>\n",
       "      <td>обязан участ проект компан разработк аналитиче...</td>\n",
       "      <td>2014-10-17 13:51:12</td>\n",
       "      <td>java-разработчик</td>\n",
       "      <td>обязанности:  участие в проектах компании по р...</td>\n",
       "      <td>40000</td>\n",
       "      <td>http://irkutsk.hh.ru/vacancy/11968661?query=%D...</td>\n",
       "      <td>rur</td>\n",
       "    </tr>\n",
       "    <tr>\n",
       "      <th>3</th>\n",
       "      <td>ios</td>\n",
       "      <td>привет зовут егор 2011 год созда компан gettab...</td>\n",
       "      <td>2014-10-17 13:51:12</td>\n",
       "      <td>ios разработчик</td>\n",
       "      <td>привет. меня зовут егор, в 2011 году мы создал...</td>\n",
       "      <td>120000</td>\n",
       "      <td>http://irkutsk.hh.ru/vacancy/11799508?query=%D...</td>\n",
       "      <td>rur</td>\n",
       "    </tr>\n",
       "    <tr>\n",
       "      <th>4</th>\n",
       "      <td>php web back end</td>\n",
       "      <td>телекоммуникацион компан треб php постоя основ...</td>\n",
       "      <td>2014-10-17 13:51:12</td>\n",
       "      <td>программист php (web-разработка; back-end)</td>\n",
       "      <td>в телекоммуникационную компанию требуется прог...</td>\n",
       "      <td>80000</td>\n",
       "      <td>http://irkutsk.hh.ru/vacancy/11639762?query=%D...</td>\n",
       "      <td>rur</td>\n",
       "    </tr>\n",
       "    <tr>\n",
       "      <th>5</th>\n",
       "      <td>1с</td>\n",
       "      <td>компан эспокад лидер рынк домашн текстил предл...</td>\n",
       "      <td>2014-10-17 13:51:12</td>\n",
       "      <td>программист-разработчик 1с</td>\n",
       "      <td>компания «эспокада» (один из лидеров рынка дом...</td>\n",
       "      <td>100000</td>\n",
       "      <td>http://irkutsk.hh.ru/vacancy/11869510?query=%D...</td>\n",
       "      <td>rur</td>\n",
       "    </tr>\n",
       "    <tr>\n",
       "      <th>6</th>\n",
       "      <td></td>\n",
       "      <td>обязан написан нов программ автоматизац работ ...</td>\n",
       "      <td>2014-10-17 13:51:12</td>\n",
       "      <td>программист</td>\n",
       "      <td>обязанности:  написание новых программ для авт...</td>\n",
       "      <td>50000</td>\n",
       "      <td>http://irkutsk.hh.ru/vacancy/11988450?query=%D...</td>\n",
       "      <td>rur</td>\n",
       "    </tr>\n",
       "    <tr>\n",
       "      <th>7</th>\n",
       "      <td>инженер машин обучен искусствен интеллект</td>\n",
       "      <td>обязан эффективн реализац алгоритм машин обуче...</td>\n",
       "      <td>2014-10-17 13:51:12</td>\n",
       "      <td>инженер-программист (машинное обучение и искус...</td>\n",
       "      <td>обязанности:  эффективная реализация алгоритмо...</td>\n",
       "      <td>80000</td>\n",
       "      <td>http://irkutsk.hh.ru/vacancy/11803952?query=%D...</td>\n",
       "      <td>rur</td>\n",
       "    </tr>\n",
       "    <tr>\n",
       "      <th>8</th>\n",
       "      <td>1с 8.2 системн администратор</td>\n",
       "      <td>1с 8.2 системн администратор обязан программир...</td>\n",
       "      <td>2014-10-17 13:51:12</td>\n",
       "      <td>программист 1с ( 8.2) / системный администратор</td>\n",
       "      <td>программист 1с ( 8.2) / + системный администра...</td>\n",
       "      <td>80000</td>\n",
       "      <td>http://irkutsk.hh.ru/vacancy/11846449?query=%D...</td>\n",
       "      <td>rur</td>\n",
       "    </tr>\n",
       "    <tr>\n",
       "      <th>9</th>\n",
       "      <td>python</td>\n",
       "      <td>обязан серверн част умн дом интеграц различн у...</td>\n",
       "      <td>2014-10-17 13:51:12</td>\n",
       "      <td>python разработчик</td>\n",
       "      <td>обязанности:  разработка серверной части умног...</td>\n",
       "      <td>50000</td>\n",
       "      <td>http://irkutsk.hh.ru/vacancy/12001783?query=%D...</td>\n",
       "      <td>rur</td>\n",
       "    </tr>\n",
       "    <tr>\n",
       "      <th>10</th>\n",
       "      <td>java</td>\n",
       "      <td>команд разработк веб решен анализ жил недвижим...</td>\n",
       "      <td>2014-10-17 13:51:12</td>\n",
       "      <td>java-разработчик</td>\n",
       "      <td>в команду разработки веб-решений для анализа ж...</td>\n",
       "      <td>60000</td>\n",
       "      <td>http://irkutsk.hh.ru/vacancy/11798662?query=%D...</td>\n",
       "      <td>rur</td>\n",
       "    </tr>\n",
       "    <tr>\n",
       "      <th>11</th>\n",
       "      <td>системн c linux компилятор оптимизац</td>\n",
       "      <td>связ расширен штат ищ профессионал разн уровн ...</td>\n",
       "      <td>2014-10-17 13:51:12</td>\n",
       "      <td>системный программист (c/linux / компиляторы /...</td>\n",
       "      <td>в связи с расширением штата мы ищем профессион...</td>\n",
       "      <td>80000</td>\n",
       "      <td>http://irkutsk.hh.ru/vacancy/11350550?query=%D...</td>\n",
       "      <td>rur</td>\n",
       "    </tr>\n",
       "    <tr>\n",
       "      <th>12</th>\n",
       "      <td>web frontend</td>\n",
       "      <td>обязан техническ поддержк сайт правк требован ...</td>\n",
       "      <td>2014-10-17 13:51:12</td>\n",
       "      <td>web программист /frontend-разработчик</td>\n",
       "      <td>обязанности:  техническая поддержка сайтов. пр...</td>\n",
       "      <td>40000</td>\n",
       "      <td>http://irkutsk.hh.ru/vacancy/11995175?query=%D...</td>\n",
       "      <td>rur</td>\n",
       "    </tr>\n",
       "    <tr>\n",
       "      <th>13</th>\n",
       "      <td>python</td>\n",
       "      <td>отдел разработок крупн интернет проект треб py...</td>\n",
       "      <td>2014-10-17 13:51:12</td>\n",
       "      <td>программист python</td>\n",
       "      <td>в отдел разработок крупного интернет-проекта т...</td>\n",
       "      <td>90000</td>\n",
       "      <td>http://irkutsk.hh.ru/vacancy/11873150?query=%D...</td>\n",
       "      <td>rur</td>\n",
       "    </tr>\n",
       "    <tr>\n",
       "      <th>14</th>\n",
       "      <td>php</td>\n",
       "      <td>групп компан рустелеторг явля профессиональн и...</td>\n",
       "      <td>2014-10-17 13:51:12</td>\n",
       "      <td>php-программист</td>\n",
       "      <td>в группу компаний рустелеторг, являющейся проф...</td>\n",
       "      <td>50000</td>\n",
       "      <td>http://irkutsk.hh.ru/vacancy/11929366?query=%D...</td>\n",
       "      <td>rur</td>\n",
       "    </tr>\n",
       "    <tr>\n",
       "      <th>15</th>\n",
       "      <td></td>\n",
       "      <td>обязан универсальн систем управлен типограф по...</td>\n",
       "      <td>2014-10-17 13:51:12</td>\n",
       "      <td>программист</td>\n",
       "      <td>обязанности:  разработка универсальной системы...</td>\n",
       "      <td>70000</td>\n",
       "      <td>http://irkutsk.hh.ru/vacancy/11891089?query=%D...</td>\n",
       "      <td>rur</td>\n",
       "    </tr>\n",
       "    <tr>\n",
       "      <th>16</th>\n",
       "      <td>системн</td>\n",
       "      <td>обязан программн обеспечен платформ .net проек...</td>\n",
       "      <td>2014-10-17 13:51:12</td>\n",
       "      <td>системный программист</td>\n",
       "      <td>обязанности:  разработка программного обеспече...</td>\n",
       "      <td>100000</td>\n",
       "      <td>http://irkutsk.hh.ru/vacancy/11953216?query=%D...</td>\n",
       "      <td>rur</td>\n",
       "    </tr>\n",
       "    <tr>\n",
       "      <th>17</th>\n",
       "      <td>php</td>\n",
       "      <td>webinar.ru лидир росс восточн европ сервис про...</td>\n",
       "      <td>2014-10-17 13:51:12</td>\n",
       "      <td>php разработчик</td>\n",
       "      <td>webinar.ru - это лидирующий в россии и восточн...</td>\n",
       "      <td>100000</td>\n",
       "      <td>http://irkutsk.hh.ru/vacancy/11965840?query=%D...</td>\n",
       "      <td>rur</td>\n",
       "    </tr>\n",
       "    <tr>\n",
       "      <th>18</th>\n",
       "      <td>ria</td>\n",
       "      <td>обязан высоконагружен веб сервис миллиард запр...</td>\n",
       "      <td>2014-10-17 13:51:12</td>\n",
       "      <td>разработчик ria</td>\n",
       "      <td>обязанности:  разработка высоконагруженных веб...</td>\n",
       "      <td>100000</td>\n",
       "      <td>http://irkutsk.hh.ru/vacancy/11457224?query=%D...</td>\n",
       "      <td>rur</td>\n",
       "    </tr>\n",
       "    <tr>\n",
       "      <th>19</th>\n",
       "      <td>python</td>\n",
       "      <td>приглаша работ программист python высок нагруж...</td>\n",
       "      <td>2014-10-17 13:51:12</td>\n",
       "      <td>программист python</td>\n",
       "      <td>приглашаем на работу программиста python в выс...</td>\n",
       "      <td>120000</td>\n",
       "      <td>http://irkutsk.hh.ru/vacancy/10006746?query=%D...</td>\n",
       "      <td>rur</td>\n",
       "    </tr>\n",
       "  </tbody>\n",
       "</table>\n",
       "</div>"
      ],
      "text/plain": [
       "                                  name_tokens  \\\n",
       "0                          ruby ruby on rails   \n",
       "1            ведущ 1 руководител направлен it   \n",
       "2                                        java   \n",
       "3                                         ios   \n",
       "4                            php web back end   \n",
       "5                                          1с   \n",
       "6                                               \n",
       "7   инженер машин обучен искусствен интеллект   \n",
       "8                1с 8.2 системн администратор   \n",
       "9                                      python   \n",
       "10                                       java   \n",
       "11       системн c linux компилятор оптимизац   \n",
       "12                               web frontend   \n",
       "13                                     python   \n",
       "14                                        php   \n",
       "15                                              \n",
       "16                                    системн   \n",
       "17                                        php   \n",
       "18                                        ria   \n",
       "19                                     python   \n",
       "\n",
       "                                          text_tokens                 date  \\\n",
       "0   соста распределен команд разрабатыва сист брон...  2014-10-17 13:51:12   \n",
       "1   медицинск сет клиник приглаша работ работ веду...  2014-10-17 13:51:12   \n",
       "2   обязан участ проект компан разработк аналитиче...  2014-10-17 13:51:12   \n",
       "3   привет зовут егор 2011 год созда компан gettab...  2014-10-17 13:51:12   \n",
       "4   телекоммуникацион компан треб php постоя основ...  2014-10-17 13:51:12   \n",
       "5   компан эспокад лидер рынк домашн текстил предл...  2014-10-17 13:51:12   \n",
       "6   обязан написан нов программ автоматизац работ ...  2014-10-17 13:51:12   \n",
       "7   обязан эффективн реализац алгоритм машин обуче...  2014-10-17 13:51:12   \n",
       "8   1с 8.2 системн администратор обязан программир...  2014-10-17 13:51:12   \n",
       "9   обязан серверн част умн дом интеграц различн у...  2014-10-17 13:51:12   \n",
       "10  команд разработк веб решен анализ жил недвижим...  2014-10-17 13:51:12   \n",
       "11  связ расширен штат ищ профессионал разн уровн ...  2014-10-17 13:51:12   \n",
       "12  обязан техническ поддержк сайт правк требован ...  2014-10-17 13:51:12   \n",
       "13  отдел разработок крупн интернет проект треб py...  2014-10-17 13:51:12   \n",
       "14  групп компан рустелеторг явля профессиональн и...  2014-10-17 13:51:12   \n",
       "15  обязан универсальн систем управлен типограф по...  2014-10-17 13:51:12   \n",
       "16  обязан программн обеспечен платформ .net проек...  2014-10-17 13:51:12   \n",
       "17  webinar.ru лидир росс восточн европ сервис про...  2014-10-17 13:51:12   \n",
       "18  обязан высоконагружен веб сервис миллиард запр...  2014-10-17 13:51:12   \n",
       "19  приглаша работ программист python высок нагруж...  2014-10-17 13:51:12   \n",
       "\n",
       "                                                 name  \\\n",
       "0                      разработчик ruby/ruby on rails   \n",
       "1   ведущий программист 1 с/руководитель направлен...   \n",
       "2                                    java-разработчик   \n",
       "3                                     ios разработчик   \n",
       "4          программист php (web-разработка; back-end)   \n",
       "5                          программист-разработчик 1с   \n",
       "6                                         программист   \n",
       "7   инженер-программист (машинное обучение и искус...   \n",
       "8     программист 1с ( 8.2) / системный администратор   \n",
       "9                                  python разработчик   \n",
       "10                                   java-разработчик   \n",
       "11  системный программист (c/linux / компиляторы /...   \n",
       "12              web программист /frontend-разработчик   \n",
       "13                                 программист python   \n",
       "14                                    php-программист   \n",
       "15                                        программист   \n",
       "16                              системный программист   \n",
       "17                                    php разработчик   \n",
       "18                                    разработчик ria   \n",
       "19                                 программист python   \n",
       "\n",
       "                                                 text  salary  \\\n",
       "0   в состав распределенной команды, разрабатывающ...   70000   \n",
       "1   медицинская сеть клиник приглашает на работу н...  110000   \n",
       "2   обязанности:  участие в проектах компании по р...   40000   \n",
       "3   привет. меня зовут егор, в 2011 году мы создал...  120000   \n",
       "4   в телекоммуникационную компанию требуется прог...   80000   \n",
       "5   компания «эспокада» (один из лидеров рынка дом...  100000   \n",
       "6   обязанности:  написание новых программ для авт...   50000   \n",
       "7   обязанности:  эффективная реализация алгоритмо...   80000   \n",
       "8   программист 1с ( 8.2) / + системный администра...   80000   \n",
       "9   обязанности:  разработка серверной части умног...   50000   \n",
       "10  в команду разработки веб-решений для анализа ж...   60000   \n",
       "11  в связи с расширением штата мы ищем профессион...   80000   \n",
       "12  обязанности:  техническая поддержка сайтов. пр...   40000   \n",
       "13  в отдел разработок крупного интернет-проекта т...   90000   \n",
       "14  в группу компаний рустелеторг, являющейся проф...   50000   \n",
       "15  обязанности:  разработка универсальной системы...   70000   \n",
       "16  обязанности:  разработка программного обеспече...  100000   \n",
       "17  webinar.ru - это лидирующий в россии и восточн...  100000   \n",
       "18  обязанности:  разработка высоконагруженных веб...  100000   \n",
       "19  приглашаем на работу программиста python в выс...  120000   \n",
       "\n",
       "                                                  url currency  \n",
       "0   http://irkutsk.hh.ru/vacancy/11833695?query=%D...      rur  \n",
       "1   http://irkutsk.hh.ru/vacancy/11926858?query=%D...      rur  \n",
       "2   http://irkutsk.hh.ru/vacancy/11968661?query=%D...      rur  \n",
       "3   http://irkutsk.hh.ru/vacancy/11799508?query=%D...      rur  \n",
       "4   http://irkutsk.hh.ru/vacancy/11639762?query=%D...      rur  \n",
       "5   http://irkutsk.hh.ru/vacancy/11869510?query=%D...      rur  \n",
       "6   http://irkutsk.hh.ru/vacancy/11988450?query=%D...      rur  \n",
       "7   http://irkutsk.hh.ru/vacancy/11803952?query=%D...      rur  \n",
       "8   http://irkutsk.hh.ru/vacancy/11846449?query=%D...      rur  \n",
       "9   http://irkutsk.hh.ru/vacancy/12001783?query=%D...      rur  \n",
       "10  http://irkutsk.hh.ru/vacancy/11798662?query=%D...      rur  \n",
       "11  http://irkutsk.hh.ru/vacancy/11350550?query=%D...      rur  \n",
       "12  http://irkutsk.hh.ru/vacancy/11995175?query=%D...      rur  \n",
       "13  http://irkutsk.hh.ru/vacancy/11873150?query=%D...      rur  \n",
       "14  http://irkutsk.hh.ru/vacancy/11929366?query=%D...      rur  \n",
       "15  http://irkutsk.hh.ru/vacancy/11891089?query=%D...      rur  \n",
       "16  http://irkutsk.hh.ru/vacancy/11953216?query=%D...      rur  \n",
       "17  http://irkutsk.hh.ru/vacancy/11965840?query=%D...      rur  \n",
       "18  http://irkutsk.hh.ru/vacancy/11457224?query=%D...      rur  \n",
       "19  http://irkutsk.hh.ru/vacancy/10006746?query=%D...      rur  "
      ]
     },
     "execution_count": 43,
     "metadata": {},
     "output_type": "execute_result"
    }
   ],
   "source": [
    "vacancies.head(20)"
   ]
  },
  {
   "cell_type": "code",
   "execution_count": 44,
   "metadata": {
    "ExecuteTime": {
     "end_time": "2016-05-09T00:44:09.821329",
     "start_time": "2016-05-09T00:44:08.776283"
    },
    "collapsed": false
   },
   "outputs": [],
   "source": [
    "vacancies.to_csv('data/vacancies_stemmed.csv', sep='|', index=False)"
   ]
  },
  {
   "cell_type": "code",
   "execution_count": 45,
   "metadata": {
    "ExecuteTime": {
     "end_time": "2016-05-09T00:44:10.264360",
     "start_time": "2016-05-09T00:44:10.255505"
    },
    "collapsed": true
   },
   "outputs": [],
   "source": [
    "vacancies_back = vacancies.copy()"
   ]
  },
  {
   "cell_type": "markdown",
   "metadata": {},
   "source": [
    "# TF-Idf features"
   ]
  },
  {
   "cell_type": "code",
   "execution_count": 56,
   "metadata": {
    "ExecuteTime": {
     "end_time": "2016-05-05T14:09:18.610900",
     "start_time": "2016-05-05T14:09:18.526019"
    },
    "collapsed": true
   },
   "outputs": [],
   "source": [
    "vacancies = vacancies_back.copy()"
   ]
  },
  {
   "cell_type": "code",
   "execution_count": 57,
   "metadata": {
    "ExecuteTime": {
     "end_time": "2016-05-05T14:09:18.769544",
     "start_time": "2016-05-05T14:09:18.612285"
    },
    "collapsed": true
   },
   "outputs": [],
   "source": [
    "vacancies.name_tokens = vacancies.name_tokens.apply(lambda lst: ' '.join(lst))  # create texts\n",
    "vacancies.text_tokens = vacancies.text_tokens.apply(lambda lst: ' '.join(lst))  # create texts"
   ]
  },
  {
   "cell_type": "code",
   "execution_count": 58,
   "metadata": {
    "ExecuteTime": {
     "end_time": "2016-05-05T14:09:18.774833",
     "start_time": "2016-05-05T14:09:18.771785"
    },
    "collapsed": false
   },
   "outputs": [],
   "source": [
    "from sklearn.feature_extraction.text import TfidfVectorizer"
   ]
  },
  {
   "cell_type": "code",
   "execution_count": 59,
   "metadata": {
    "ExecuteTime": {
     "end_time": "2016-05-05T14:09:18.885240",
     "start_time": "2016-05-05T14:09:18.776653"
    },
    "collapsed": false
   },
   "outputs": [],
   "source": [
    "vectorizer = TfidfVectorizer(min_df=1)\n",
    "text_tfidf_matrix = vectorizer.fit_transform(vacancies.name_tokens)"
   ]
  },
  {
   "cell_type": "code",
   "execution_count": 64,
   "metadata": {
    "ExecuteTime": {
     "end_time": "2016-05-05T14:27:33.306886",
     "start_time": "2016-05-05T14:27:33.300793"
    },
    "collapsed": false
   },
   "outputs": [
    {
     "data": {
      "text/plain": [
       "<17446x1931 sparse matrix of type '<class 'numpy.float64'>'\n",
       "\twith 40945 stored elements in Compressed Sparse Row format>"
      ]
     },
     "execution_count": 64,
     "metadata": {},
     "output_type": "execute_result"
    }
   ],
   "source": [
    "text_tfidf_matrix"
   ]
  },
  {
   "cell_type": "code",
   "execution_count": 65,
   "metadata": {
    "ExecuteTime": {
     "end_time": "2016-05-05T14:27:36.947416",
     "start_time": "2016-05-05T14:27:34.127186"
    },
    "collapsed": false
   },
   "outputs": [],
   "source": [
    "vectorizer = TfidfVectorizer(min_df=1)\n",
    "title_tfidf_matrix = vectorizer.fit_transform(vacancies.text_tokens)"
   ]
  },
  {
   "cell_type": "code",
   "execution_count": 66,
   "metadata": {
    "ExecuteTime": {
     "end_time": "2016-05-05T14:27:36.952347",
     "start_time": "2016-05-05T14:27:36.948773"
    },
    "collapsed": false
   },
   "outputs": [
    {
     "data": {
      "text/plain": [
       "<17446x37282 sparse matrix of type '<class 'numpy.float64'>'\n",
       "\twith 1888943 stored elements in Compressed Sparse Row format>"
      ]
     },
     "execution_count": 66,
     "metadata": {},
     "output_type": "execute_result"
    }
   ],
   "source": [
    "title_tfidf_matrix"
   ]
  },
  {
   "cell_type": "markdown",
   "metadata": {},
   "source": [
    "# Very basic linear regression model"
   ]
  },
  {
   "cell_type": "markdown",
   "metadata": {},
   "source": [
    "see: http://scikit-learn.org/stable/auto_examples/linear_model/plot_ols.html"
   ]
  },
  {
   "cell_type": "code",
   "execution_count": 63,
   "metadata": {
    "ExecuteTime": {
     "end_time": "2016-05-05T14:27:31.870936",
     "start_time": "2016-05-05T14:27:29.063847"
    },
    "collapsed": true
   },
   "outputs": [],
   "source": [
    "X = text_tfidf_matrix.todense()\n",
    "Y = vacancies.salary"
   ]
  },
  {
   "cell_type": "code",
   "execution_count": 67,
   "metadata": {
    "ExecuteTime": {
     "end_time": "2016-05-05T14:27:39.988270",
     "start_time": "2016-05-05T14:27:39.268267"
    },
    "collapsed": true
   },
   "outputs": [],
   "source": [
    "from sklearn.preprocessing import Imputer\n",
    "X = Imputer().fit_transform(X)"
   ]
  },
  {
   "cell_type": "raw",
   "metadata": {
    "ExecuteTime": {
     "end_time": "2016-05-05T14:27:41.197989",
     "start_time": "2016-05-05T14:27:41.155430"
    },
    "collapsed": true
   },
   "source": [
    "import sklearn.linear_model\n",
    "\n",
    "# Create linear regression object\n",
    "regr = sklearn.linear_model.LinearRegression()\n",
    "\n",
    "# Train the model using the training sets\n",
    "regr.fit(X, Y)"
   ]
  },
  {
   "cell_type": "code",
   "execution_count": null,
   "metadata": {
    "collapsed": true
   },
   "outputs": [],
   "source": [
    "# TODO: Split the data into training/testing sets"
   ]
  }
 ],
 "metadata": {
  "kernelspec": {
   "display_name": "Python 3",
   "language": "python",
   "name": "python3"
  },
  "language_info": {
   "codemirror_mode": {
    "name": "ipython",
    "version": 3
   },
   "file_extension": ".py",
   "mimetype": "text/x-python",
   "name": "python",
   "nbconvert_exporter": "python",
   "pygments_lexer": "ipython3",
   "version": "3.4.4"
  },
  "toc": {
   "toc_cell": false,
   "toc_number_sections": true,
   "toc_threshold": 6,
   "toc_window_display": false
  }
 },
 "nbformat": 4,
 "nbformat_minor": 0
}
