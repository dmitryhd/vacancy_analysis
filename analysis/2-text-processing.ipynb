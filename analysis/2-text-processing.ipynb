{
 "cells": [
  {
   "cell_type": "markdown",
   "metadata": {},
   "source": [
    "# Vacan text preprocessing"
   ]
  },
  {
   "cell_type": "code",
   "execution_count": 1,
   "metadata": {
    "ExecuteTime": {
     "end_time": "2016-05-05T13:33:49.421593",
     "start_time": "2016-05-05T13:33:49.163778"
    },
    "collapsed": false
   },
   "outputs": [],
   "source": [
    "import pandas as pd\n",
    "import bs4\n",
    "import re\n",
    "from IPython.display import display"
   ]
  },
  {
   "cell_type": "code",
   "execution_count": 4,
   "metadata": {
    "ExecuteTime": {
     "end_time": "2016-05-05T13:48:56.648521",
     "start_time": "2016-05-05T13:48:55.838852"
    },
    "collapsed": false
   },
   "outputs": [],
   "source": [
    "vacancies = pd.read_csv('data/vacancies.csv', header=0, sep='|')"
   ]
  },
  {
   "cell_type": "code",
   "execution_count": 19,
   "metadata": {
    "ExecuteTime": {
     "end_time": "2016-05-05T14:05:17.649516",
     "start_time": "2016-05-05T14:05:17.636551"
    },
    "collapsed": false
   },
   "outputs": [],
   "source": [
    "vacancies.html = vacancies.html.astype(str)"
   ]
  },
  {
   "cell_type": "code",
   "execution_count": 20,
   "metadata": {
    "ExecuteTime": {
     "end_time": "2016-05-05T14:05:26.255618",
     "start_time": "2016-05-05T14:05:26.243505"
    },
    "collapsed": false
   },
   "outputs": [
    {
     "data": {
      "text/plain": [
       "'2015-12-06 12:39:17'"
      ]
     },
     "execution_count": 20,
     "metadata": {},
     "output_type": "execute_result"
    }
   ],
   "source": [
    "vacancies.date.max()"
   ]
  },
  {
   "cell_type": "code",
   "execution_count": 21,
   "metadata": {
    "ExecuteTime": {
     "end_time": "2016-05-05T14:05:27.696097",
     "start_time": "2016-05-05T14:05:27.692419"
    },
    "collapsed": false
   },
   "outputs": [],
   "source": [
    "soup = bs4.BeautifulSoup(vacancies.iloc[0].html, 'html.parser')"
   ]
  },
  {
   "cell_type": "code",
   "execution_count": 22,
   "metadata": {
    "ExecuteTime": {
     "end_time": "2016-05-05T14:05:28.284052",
     "start_time": "2016-05-05T14:05:28.280467"
    },
    "collapsed": false
   },
   "outputs": [
    {
     "data": {
      "text/plain": [
       "<meta content=\"RUR\" itemprop=\"salaryCurrency\"><meta content=\"70000\" itemprop=\"baseSalary\">от 70 000 руб.</meta></meta>"
      ]
     },
     "execution_count": 22,
     "metadata": {},
     "output_type": "execute_result"
    }
   ],
   "source": [
    "soup.meta"
   ]
  },
  {
   "cell_type": "markdown",
   "metadata": {},
   "source": [
    "# Get salary / text"
   ]
  },
  {
   "cell_type": "code",
   "execution_count": 23,
   "metadata": {
    "ExecuteTime": {
     "end_time": "2016-05-05T14:05:32.861433",
     "start_time": "2016-05-05T14:05:32.852338"
    },
    "collapsed": false
   },
   "outputs": [],
   "source": [
    "def get_salary(html: str) -> tuple:\n",
    "    soup = bs4.BeautifulSoup(html, 'html.parser')\n",
    "    basesalary = None\n",
    "    salarycurrency = None\n",
    "    for meta in soup.findAll(\"meta\"):\n",
    "        meta_name = meta.get('itemprop', '').lower()\n",
    "        if meta_name == 'salarycurrency':\n",
    "            salarycurrency = meta.get('content', '').lower()\n",
    "        if meta_name == 'basesalary':\n",
    "            basesalary = int(meta.get('content', ''))\n",
    "    return salarycurrency, basesalary\n",
    "\n",
    "def get_text(html: str) -> str:\n",
    "    try:\n",
    "        x = re.search(r'</table>.*</div>(.*)Тип занятости', html)\n",
    "        return x.groups()[0].lower()\n",
    "    except AttributeError:\n",
    "        return html.lower()"
   ]
  },
  {
   "cell_type": "code",
   "execution_count": 24,
   "metadata": {
    "ExecuteTime": {
     "end_time": "2016-05-05T14:05:33.574706",
     "start_time": "2016-05-05T14:05:33.568711"
    },
    "collapsed": false
   },
   "outputs": [
    {
     "data": {
      "text/plain": [
       "('rur', 100000)"
      ]
     },
     "metadata": {},
     "output_type": "display_data"
    },
    {
     "data": {
      "text/plain": [
       "'компания «эспокада» (один из лидеров рынка домашнего текстиля) предлагает вам поучаствовать в конкурсе на замещение вакансии «программист-разработчик 1с».   что мы можем предложить вам:  работа в стабильной успешной компании просторный офис в 5 минутах ходьбы от метро «авиамоторная» комфортная рабочая обстановка молодой и дружный коллектив сложные, интересные и амбициозные задачи простор для реализации своего интеллектуального и творческого потенциала перспективы карьерного роста оформление в соответствии с тк рф    необходимые требования:  высшее образование (техническое) релевантный опыт работы от 6 лет понимание бизнес-процессов предприятий оптовой торговли (закупки, склад, производство, транспорт, продажи, клиентский сервис, бухгалтерия) способность мыслить нестандартно умение планировать свое время и всегда доводить работу до конца высокий уровень самоорганизации и ответственности за свою работу знания продуктов семейства 1с и практические навыки работы с ними отличное знание встроенного языка 1с: предприятие 8    необходимый опыт:  написание конфигураций и подсистем на платформе 1с8 ут «с нуля» перевод учета компании с 1с7 (нетиповая конфигурация) на 1с8 внедрение 1с8 на предприятии с численностью от 50 человек оптимизация бизнес-процессов средствами 1с внедрение штрихкодирования разработка и внедрение механизмов обмена данными в распределенных информационных базах (торговля – бухгалтерия и т.п.) обучение и поддержка пользователей наличие успешно завершенных проектов реализации и оптимизации бизнес-процессов предприятий оптовой торговли в 1с8 ут    условия:  график работы: понедельник-пятница с 9 до 18. соблюдение тк. уровень заработной платы определяется по результатам собеседования (в зависимости от опыта и профессиональных компетенций) м. авиамоторная (5 минут пешком от метро) адресмосква, энтузиастов, шоссе, 28, м. авиамоторнаяпоказать на карте\\xad'"
      ]
     },
     "metadata": {},
     "output_type": "display_data"
    }
   ],
   "source": [
    "example_html = vacancies.iloc[5].html\n",
    "display(get_salary(example_html))\n",
    "display(get_text(example_html))"
   ]
  },
  {
   "cell_type": "code",
   "execution_count": 25,
   "metadata": {
    "ExecuteTime": {
     "end_time": "2016-05-05T14:05:37.310846",
     "start_time": "2016-05-05T14:05:36.954785"
    },
    "collapsed": false
   },
   "outputs": [],
   "source": [
    "vacancies['text'] = vacancies.html.apply(get_text)"
   ]
  },
  {
   "cell_type": "code",
   "execution_count": 26,
   "metadata": {
    "ExecuteTime": {
     "end_time": "2016-05-05T14:05:52.502074",
     "start_time": "2016-05-05T14:05:39.565167"
    },
    "collapsed": false
   },
   "outputs": [],
   "source": [
    "salaries = vacancies.html.apply(get_salary)"
   ]
  },
  {
   "cell_type": "code",
   "execution_count": 27,
   "metadata": {
    "ExecuteTime": {
     "end_time": "2016-05-05T14:05:52.512521",
     "start_time": "2016-05-05T14:05:52.503375"
    },
    "collapsed": true
   },
   "outputs": [],
   "source": [
    "vacancies['salary'] = salaries.apply(lambda x: x[1])"
   ]
  },
  {
   "cell_type": "code",
   "execution_count": 28,
   "metadata": {
    "ExecuteTime": {
     "end_time": "2016-05-05T14:05:52.533374",
     "start_time": "2016-05-05T14:05:52.513962"
    },
    "collapsed": false
   },
   "outputs": [],
   "source": [
    "vacancies['salary_currency'] = salaries.apply(lambda x: x[0])"
   ]
  },
  {
   "cell_type": "code",
   "execution_count": 29,
   "metadata": {
    "ExecuteTime": {
     "end_time": "2016-05-05T14:05:52.560241",
     "start_time": "2016-05-05T14:05:52.534854"
    },
    "collapsed": true
   },
   "outputs": [],
   "source": [
    "vacancies['name'] = vacancies.name.apply(lambda x: x.lower())"
   ]
  },
  {
   "cell_type": "code",
   "execution_count": 30,
   "metadata": {
    "ExecuteTime": {
     "end_time": "2016-05-05T14:05:52.583240",
     "start_time": "2016-05-05T14:05:52.561671"
    },
    "collapsed": false
   },
   "outputs": [
    {
     "data": {
      "text/html": [
       "<div>\n",
       "<table border=\"1\" class=\"dataframe\">\n",
       "  <thead>\n",
       "    <tr style=\"text-align: right;\">\n",
       "      <th></th>\n",
       "      <th>id</th>\n",
       "      <th>name</th>\n",
       "      <th>html</th>\n",
       "      <th>url</th>\n",
       "      <th>site</th>\n",
       "      <th>date</th>\n",
       "      <th>text</th>\n",
       "      <th>salary</th>\n",
       "      <th>salary_currency</th>\n",
       "    </tr>\n",
       "  </thead>\n",
       "  <tbody>\n",
       "    <tr>\n",
       "      <th>0</th>\n",
       "      <td>1413553876</td>\n",
       "      <td>разработчик ruby/ruby on rails</td>\n",
       "      <td>&lt;div class=\"b-important b-vacancy-info\"&gt;&lt;table...</td>\n",
       "      <td>http://irkutsk.hh.ru/vacancy/11833695?query=%D...</td>\n",
       "      <td>hh.ru</td>\n",
       "      <td>2014-10-17 13:51:12</td>\n",
       "      <td>в состав распределенной команды, разрабатывающ...</td>\n",
       "      <td>70000</td>\n",
       "      <td>rur</td>\n",
       "    </tr>\n",
       "    <tr>\n",
       "      <th>1</th>\n",
       "      <td>1413553877</td>\n",
       "      <td>ведущий программист 1 с/руководитель направлен...</td>\n",
       "      <td>&lt;div class=\"b-important b-vacancy-info\"&gt;&lt;table...</td>\n",
       "      <td>http://irkutsk.hh.ru/vacancy/11926858?query=%D...</td>\n",
       "      <td>hh.ru</td>\n",
       "      <td>2014-10-17 13:51:12</td>\n",
       "      <td>медицинская сеть клиник приглашает на работу н...</td>\n",
       "      <td>110000</td>\n",
       "      <td>rur</td>\n",
       "    </tr>\n",
       "  </tbody>\n",
       "</table>\n",
       "</div>"
      ],
      "text/plain": [
       "           id                                               name  \\\n",
       "0  1413553876                     разработчик ruby/ruby on rails   \n",
       "1  1413553877  ведущий программист 1 с/руководитель направлен...   \n",
       "\n",
       "                                                html  \\\n",
       "0  <div class=\"b-important b-vacancy-info\"><table...   \n",
       "1  <div class=\"b-important b-vacancy-info\"><table...   \n",
       "\n",
       "                                                 url   site  \\\n",
       "0  http://irkutsk.hh.ru/vacancy/11833695?query=%D...  hh.ru   \n",
       "1  http://irkutsk.hh.ru/vacancy/11926858?query=%D...  hh.ru   \n",
       "\n",
       "                  date                                               text  \\\n",
       "0  2014-10-17 13:51:12  в состав распределенной команды, разрабатывающ...   \n",
       "1  2014-10-17 13:51:12  медицинская сеть клиник приглашает на работу н...   \n",
       "\n",
       "   salary salary_currency  \n",
       "0   70000             rur  \n",
       "1  110000             rur  "
      ]
     },
     "execution_count": 30,
     "metadata": {},
     "output_type": "execute_result"
    }
   ],
   "source": [
    "vacancies.head(2)"
   ]
  },
  {
   "cell_type": "code",
   "execution_count": 31,
   "metadata": {
    "ExecuteTime": {
     "end_time": "2016-05-05T14:05:54.275200",
     "start_time": "2016-05-05T14:05:54.262362"
    },
    "collapsed": true
   },
   "outputs": [],
   "source": [
    "vacancies_prepared = vacancies[['date', 'name', 'text', 'salary', 'salary_currency']]"
   ]
  },
  {
   "cell_type": "code",
   "execution_count": 32,
   "metadata": {
    "ExecuteTime": {
     "end_time": "2016-05-05T14:05:59.133070",
     "start_time": "2016-05-05T14:05:59.091905"
    },
    "collapsed": false
   },
   "outputs": [
    {
     "name": "stderr",
     "output_type": "stream",
     "text": [
      "/usr/local/lib/python3.4/site-packages/ipykernel/__main__.py:1: SettingWithCopyWarning: \n",
      "A value is trying to be set on a copy of a slice from a DataFrame.\n",
      "Try using .loc[row_indexer,col_indexer] = value instead\n",
      "\n",
      "See the caveats in the documentation: http://pandas.pydata.org/pandas-docs/stable/indexing.html#indexing-view-versus-copy\n",
      "  if __name__ == '__main__':\n"
     ]
    }
   ],
   "source": [
    "vacancies_prepared['currency'] = vacancies_prepared.loc[:,'salary_currency']"
   ]
  },
  {
   "cell_type": "code",
   "execution_count": 33,
   "metadata": {
    "ExecuteTime": {
     "end_time": "2016-05-05T14:05:59.816590",
     "start_time": "2016-05-05T14:05:59.812294"
    },
    "collapsed": true
   },
   "outputs": [],
   "source": [
    "del vacancies_prepared['salary_currency']"
   ]
  },
  {
   "cell_type": "code",
   "execution_count": 34,
   "metadata": {
    "ExecuteTime": {
     "end_time": "2016-05-05T14:06:01.121396",
     "start_time": "2016-05-05T14:06:01.107227"
    },
    "collapsed": false
   },
   "outputs": [
    {
     "data": {
      "text/html": [
       "<div>\n",
       "<table border=\"1\" class=\"dataframe\">\n",
       "  <thead>\n",
       "    <tr style=\"text-align: right;\">\n",
       "      <th></th>\n",
       "      <th>date</th>\n",
       "      <th>name</th>\n",
       "      <th>text</th>\n",
       "      <th>salary</th>\n",
       "      <th>currency</th>\n",
       "    </tr>\n",
       "  </thead>\n",
       "  <tbody>\n",
       "    <tr>\n",
       "      <th>0</th>\n",
       "      <td>2014-10-17 13:51:12</td>\n",
       "      <td>разработчик ruby/ruby on rails</td>\n",
       "      <td>в состав распределенной команды, разрабатывающ...</td>\n",
       "      <td>70000</td>\n",
       "      <td>rur</td>\n",
       "    </tr>\n",
       "    <tr>\n",
       "      <th>1</th>\n",
       "      <td>2014-10-17 13:51:12</td>\n",
       "      <td>ведущий программист 1 с/руководитель направлен...</td>\n",
       "      <td>медицинская сеть клиник приглашает на работу н...</td>\n",
       "      <td>110000</td>\n",
       "      <td>rur</td>\n",
       "    </tr>\n",
       "    <tr>\n",
       "      <th>2</th>\n",
       "      <td>2014-10-17 13:51:12</td>\n",
       "      <td>java-разработчик</td>\n",
       "      <td>обязанности:  участие в проектах компании по р...</td>\n",
       "      <td>40000</td>\n",
       "      <td>rur</td>\n",
       "    </tr>\n",
       "    <tr>\n",
       "      <th>3</th>\n",
       "      <td>2014-10-17 13:51:12</td>\n",
       "      <td>ios разработчик</td>\n",
       "      <td>привет. меня зовут егор, в 2011 году мы создал...</td>\n",
       "      <td>120000</td>\n",
       "      <td>rur</td>\n",
       "    </tr>\n",
       "    <tr>\n",
       "      <th>4</th>\n",
       "      <td>2014-10-17 13:51:12</td>\n",
       "      <td>программист php (web-разработка; back-end)</td>\n",
       "      <td>в телекоммуникационную компанию требуется прог...</td>\n",
       "      <td>80000</td>\n",
       "      <td>rur</td>\n",
       "    </tr>\n",
       "  </tbody>\n",
       "</table>\n",
       "</div>"
      ],
      "text/plain": [
       "                  date                                               name  \\\n",
       "0  2014-10-17 13:51:12                     разработчик ruby/ruby on rails   \n",
       "1  2014-10-17 13:51:12  ведущий программист 1 с/руководитель направлен...   \n",
       "2  2014-10-17 13:51:12                                   java-разработчик   \n",
       "3  2014-10-17 13:51:12                                    ios разработчик   \n",
       "4  2014-10-17 13:51:12         программист php (web-разработка; back-end)   \n",
       "\n",
       "                                                text  salary currency  \n",
       "0  в состав распределенной команды, разрабатывающ...   70000      rur  \n",
       "1  медицинская сеть клиник приглашает на работу н...  110000      rur  \n",
       "2  обязанности:  участие в проектах компании по р...   40000      rur  \n",
       "3  привет. меня зовут егор, в 2011 году мы создал...  120000      rur  \n",
       "4  в телекоммуникационную компанию требуется прог...   80000      rur  "
      ]
     },
     "execution_count": 34,
     "metadata": {},
     "output_type": "execute_result"
    }
   ],
   "source": [
    "vacancies_prepared.head()"
   ]
  },
  {
   "cell_type": "code",
   "execution_count": 35,
   "metadata": {
    "ExecuteTime": {
     "end_time": "2016-05-05T14:06:21.853759",
     "start_time": "2016-05-05T14:06:21.220321"
    },
    "collapsed": true
   },
   "outputs": [],
   "source": [
    "vacancies_prepared.to_csv('data/vacancies_prepared.csv', index=False, sep='|')"
   ]
  },
  {
   "cell_type": "markdown",
   "metadata": {},
   "source": [
    "# Tokenizing"
   ]
  },
  {
   "cell_type": "code",
   "execution_count": 36,
   "metadata": {
    "ExecuteTime": {
     "end_time": "2016-05-05T14:06:25.055208",
     "start_time": "2016-05-05T14:06:24.611406"
    },
    "collapsed": false
   },
   "outputs": [],
   "source": [
    "from nltk.corpus import stopwords\n",
    "stop_words = stopwords.words('russian')\n",
    "stop_words.extend(['что', 'это', 'так', 'вот', 'быть', 'как', 'в', '—', 'к', 'на'])\n",
    "stop_words.extend(['разработчик', 'программист', 'developer', 'разработка'])  # add custom stopwords\n",
    "stop_words = set(stop_words)"
   ]
  },
  {
   "cell_type": "code",
   "execution_count": 37,
   "metadata": {
    "ExecuteTime": {
     "end_time": "2016-05-05T14:06:25.432558",
     "start_time": "2016-05-05T14:06:25.429635"
    },
    "collapsed": false
   },
   "outputs": [],
   "source": [
    "import string\n",
    "punctuation = set(string.punctuation)"
   ]
  },
  {
   "cell_type": "code",
   "execution_count": 38,
   "metadata": {
    "ExecuteTime": {
     "end_time": "2016-05-05T14:06:25.944789",
     "start_time": "2016-05-05T14:06:25.940493"
    },
    "collapsed": true
   },
   "outputs": [],
   "source": [
    "from nltk.tokenize import RegexpTokenizer\n",
    "import nltk\n",
    "tokenizer = RegexpTokenizer(r'\\w+')"
   ]
  },
  {
   "cell_type": "code",
   "execution_count": 39,
   "metadata": {
    "ExecuteTime": {
     "end_time": "2016-05-05T14:06:26.456965",
     "start_time": "2016-05-05T14:06:26.451769"
    },
    "collapsed": true
   },
   "outputs": [],
   "source": [
    "def tokenize(text: str) -> list:\n",
    "    text = text.replace('/', ' ').replace('-', ' ')\n",
    "    tokens = nltk.word_tokenize(text)\n",
    "    tokens = [i for i in tokens if i not in stop_words and i not in punctuation]\n",
    "    tokens = [i.replace(\"«\", \"\").replace(\"»\", \"\") for i in tokens]\n",
    "    return tokens"
   ]
  },
  {
   "cell_type": "code",
   "execution_count": 40,
   "metadata": {
    "ExecuteTime": {
     "end_time": "2016-05-05T14:06:27.413880",
     "start_time": "2016-05-05T14:06:27.411235"
    },
    "collapsed": true
   },
   "outputs": [],
   "source": [
    "vacancies_tokens = pd.DataFrame()"
   ]
  },
  {
   "cell_type": "code",
   "execution_count": 41,
   "metadata": {
    "ExecuteTime": {
     "end_time": "2016-05-05T14:06:29.696212",
     "start_time": "2016-05-05T14:06:27.975130"
    },
    "collapsed": false
   },
   "outputs": [],
   "source": [
    "vacancies_tokens['name_tokens'] = vacancies_prepared.name.apply(tokenize)"
   ]
  },
  {
   "cell_type": "code",
   "execution_count": 42,
   "metadata": {
    "ExecuteTime": {
     "end_time": "2016-05-05T14:06:58.429152",
     "start_time": "2016-05-05T14:06:29.697484"
    },
    "collapsed": false
   },
   "outputs": [],
   "source": [
    "vacancies_tokens['text_tokens'] = vacancies_prepared.text.apply(tokenize)"
   ]
  },
  {
   "cell_type": "code",
   "execution_count": 43,
   "metadata": {
    "ExecuteTime": {
     "end_time": "2016-05-05T14:06:58.445306",
     "start_time": "2016-05-05T14:06:58.430588"
    },
    "collapsed": false
   },
   "outputs": [
    {
     "data": {
      "text/html": [
       "<div>\n",
       "<table border=\"1\" class=\"dataframe\">\n",
       "  <thead>\n",
       "    <tr style=\"text-align: right;\">\n",
       "      <th></th>\n",
       "      <th>name_tokens</th>\n",
       "      <th>text_tokens</th>\n",
       "    </tr>\n",
       "  </thead>\n",
       "  <tbody>\n",
       "    <tr>\n",
       "      <th>0</th>\n",
       "      <td>[ruby, ruby, on, rails]</td>\n",
       "      <td>[состав, распределенной, команды, разрабатываю...</td>\n",
       "    </tr>\n",
       "    <tr>\n",
       "      <th>1</th>\n",
       "      <td>[ведущий, 1, руководитель, направления, it]</td>\n",
       "      <td>[медицинская, сеть, клиник, приглашает, работу...</td>\n",
       "    </tr>\n",
       "    <tr>\n",
       "      <th>2</th>\n",
       "      <td>[java]</td>\n",
       "      <td>[обязанности, участие, проектах, компании, раз...</td>\n",
       "    </tr>\n",
       "    <tr>\n",
       "      <th>3</th>\n",
       "      <td>[ios]</td>\n",
       "      <td>[привет, зовут, егор, 2011, году, создали, ком...</td>\n",
       "    </tr>\n",
       "    <tr>\n",
       "      <th>4</th>\n",
       "      <td>[php, web, back, end]</td>\n",
       "      <td>[телекоммуникационную, компанию, требуется, ph...</td>\n",
       "    </tr>\n",
       "  </tbody>\n",
       "</table>\n",
       "</div>"
      ],
      "text/plain": [
       "                                   name_tokens  \\\n",
       "0                      [ruby, ruby, on, rails]   \n",
       "1  [ведущий, 1, руководитель, направления, it]   \n",
       "2                                       [java]   \n",
       "3                                        [ios]   \n",
       "4                        [php, web, back, end]   \n",
       "\n",
       "                                         text_tokens  \n",
       "0  [состав, распределенной, команды, разрабатываю...  \n",
       "1  [медицинская, сеть, клиник, приглашает, работу...  \n",
       "2  [обязанности, участие, проектах, компании, раз...  \n",
       "3  [привет, зовут, егор, 2011, году, создали, ком...  \n",
       "4  [телекоммуникационную, компанию, требуется, ph...  "
      ]
     },
     "execution_count": 43,
     "metadata": {},
     "output_type": "execute_result"
    }
   ],
   "source": [
    "vacancies_tokens.head()"
   ]
  },
  {
   "cell_type": "code",
   "execution_count": 44,
   "metadata": {
    "ExecuteTime": {
     "end_time": "2016-05-05T14:06:58.458549",
     "start_time": "2016-05-05T14:06:58.446489"
    },
    "collapsed": true
   },
   "outputs": [],
   "source": [
    "back = vacancies_tokens.copy()"
   ]
  },
  {
   "cell_type": "markdown",
   "metadata": {},
   "source": [
    "## Stemming"
   ]
  },
  {
   "cell_type": "code",
   "execution_count": 45,
   "metadata": {
    "ExecuteTime": {
     "end_time": "2016-05-05T14:06:58.474403",
     "start_time": "2016-05-05T14:06:58.459895"
    },
    "collapsed": true
   },
   "outputs": [],
   "source": [
    "stemmer = nltk.stem.snowball.RussianStemmer(ignore_stopwords=True)"
   ]
  },
  {
   "cell_type": "code",
   "execution_count": 46,
   "metadata": {
    "ExecuteTime": {
     "end_time": "2016-05-05T14:06:58.495110",
     "start_time": "2016-05-05T14:06:58.475934"
    },
    "collapsed": false
   },
   "outputs": [],
   "source": [
    "english_letters = set(string.ascii_lowercase)"
   ]
  },
  {
   "cell_type": "code",
   "execution_count": 47,
   "metadata": {
    "ExecuteTime": {
     "end_time": "2016-05-05T14:06:58.507386",
     "start_time": "2016-05-05T14:06:58.496374"
    },
    "collapsed": false
   },
   "outputs": [],
   "source": [
    "def stem(tokens: list) -> list:\n",
    "    return [stemmer.stem(token) if len(token) > 0 and token[0] not in english_letters else token for token in tokens]"
   ]
  },
  {
   "cell_type": "code",
   "execution_count": 48,
   "metadata": {
    "ExecuteTime": {
     "end_time": "2016-05-05T14:07:00.273288",
     "start_time": "2016-05-05T14:06:58.509464"
    },
    "collapsed": false
   },
   "outputs": [],
   "source": [
    "vacancies_tokens['name_tokens'] = vacancies_tokens.name_tokens.apply(stem)"
   ]
  },
  {
   "cell_type": "code",
   "execution_count": 49,
   "metadata": {
    "ExecuteTime": {
     "end_time": "2016-05-05T14:07:00.289933",
     "start_time": "2016-05-05T14:07:00.274676"
    },
    "collapsed": false
   },
   "outputs": [
    {
     "data": {
      "text/html": [
       "<div>\n",
       "<table border=\"1\" class=\"dataframe\">\n",
       "  <thead>\n",
       "    <tr style=\"text-align: right;\">\n",
       "      <th></th>\n",
       "      <th>name_tokens</th>\n",
       "      <th>text_tokens</th>\n",
       "    </tr>\n",
       "  </thead>\n",
       "  <tbody>\n",
       "    <tr>\n",
       "      <th>0</th>\n",
       "      <td>[ruby, ruby, on, rails]</td>\n",
       "      <td>[состав, распределенной, команды, разрабатываю...</td>\n",
       "    </tr>\n",
       "    <tr>\n",
       "      <th>1</th>\n",
       "      <td>[ведущ, 1, руководител, направлен, it]</td>\n",
       "      <td>[медицинская, сеть, клиник, приглашает, работу...</td>\n",
       "    </tr>\n",
       "    <tr>\n",
       "      <th>2</th>\n",
       "      <td>[java]</td>\n",
       "      <td>[обязанности, участие, проектах, компании, раз...</td>\n",
       "    </tr>\n",
       "    <tr>\n",
       "      <th>3</th>\n",
       "      <td>[ios]</td>\n",
       "      <td>[привет, зовут, егор, 2011, году, создали, ком...</td>\n",
       "    </tr>\n",
       "    <tr>\n",
       "      <th>4</th>\n",
       "      <td>[php, web, back, end]</td>\n",
       "      <td>[телекоммуникационную, компанию, требуется, ph...</td>\n",
       "    </tr>\n",
       "  </tbody>\n",
       "</table>\n",
       "</div>"
      ],
      "text/plain": [
       "                              name_tokens  \\\n",
       "0                 [ruby, ruby, on, rails]   \n",
       "1  [ведущ, 1, руководител, направлен, it]   \n",
       "2                                  [java]   \n",
       "3                                   [ios]   \n",
       "4                   [php, web, back, end]   \n",
       "\n",
       "                                         text_tokens  \n",
       "0  [состав, распределенной, команды, разрабатываю...  \n",
       "1  [медицинская, сеть, клиник, приглашает, работу...  \n",
       "2  [обязанности, участие, проектах, компании, раз...  \n",
       "3  [привет, зовут, егор, 2011, году, создали, ком...  \n",
       "4  [телекоммуникационную, компанию, требуется, ph...  "
      ]
     },
     "execution_count": 49,
     "metadata": {},
     "output_type": "execute_result"
    }
   ],
   "source": [
    "vacancies_tokens.head()"
   ]
  },
  {
   "cell_type": "code",
   "execution_count": 50,
   "metadata": {
    "ExecuteTime": {
     "end_time": "2016-05-05T14:09:15.899141",
     "start_time": "2016-05-05T14:07:00.291741"
    },
    "collapsed": false
   },
   "outputs": [],
   "source": [
    "vacancies_tokens['text_tokens'] = vacancies_tokens.text_tokens.apply(stem)"
   ]
  },
  {
   "cell_type": "code",
   "execution_count": 51,
   "metadata": {
    "ExecuteTime": {
     "end_time": "2016-05-05T14:09:15.903035",
     "start_time": "2016-05-05T14:09:15.900310"
    },
    "collapsed": false
   },
   "outputs": [],
   "source": [
    "vacancies_tokens_back = vacancies_tokens.copy()"
   ]
  },
  {
   "cell_type": "markdown",
   "metadata": {},
   "source": [
    "# Got processed texts"
   ]
  },
  {
   "cell_type": "code",
   "execution_count": 52,
   "metadata": {
    "ExecuteTime": {
     "end_time": "2016-05-05T14:09:15.923578",
     "start_time": "2016-05-05T14:09:15.904273"
    },
    "collapsed": false
   },
   "outputs": [],
   "source": [
    "vacancies = vacancies_tokens.join(vacancies_prepared[['date', 'salary', 'currency']])"
   ]
  },
  {
   "cell_type": "code",
   "execution_count": 53,
   "metadata": {
    "ExecuteTime": {
     "end_time": "2016-05-05T14:09:15.964878",
     "start_time": "2016-05-05T14:09:15.924823"
    },
    "collapsed": false
   },
   "outputs": [
    {
     "data": {
      "text/html": [
       "<div>\n",
       "<table border=\"1\" class=\"dataframe\">\n",
       "  <thead>\n",
       "    <tr style=\"text-align: right;\">\n",
       "      <th></th>\n",
       "      <th>name_tokens</th>\n",
       "      <th>text_tokens</th>\n",
       "      <th>date</th>\n",
       "      <th>salary</th>\n",
       "      <th>currency</th>\n",
       "    </tr>\n",
       "  </thead>\n",
       "  <tbody>\n",
       "    <tr>\n",
       "      <th>0</th>\n",
       "      <td>[ruby, ruby, on, rails]</td>\n",
       "      <td>[соста, распределен, команд, разрабатыва, сист...</td>\n",
       "      <td>2014-10-17 13:51:12</td>\n",
       "      <td>70000</td>\n",
       "      <td>rur</td>\n",
       "    </tr>\n",
       "    <tr>\n",
       "      <th>1</th>\n",
       "      <td>[ведущ, 1, руководител, направлен, it]</td>\n",
       "      <td>[медицинск, сет, клиник, приглаша, работ, рабо...</td>\n",
       "      <td>2014-10-17 13:51:12</td>\n",
       "      <td>110000</td>\n",
       "      <td>rur</td>\n",
       "    </tr>\n",
       "    <tr>\n",
       "      <th>2</th>\n",
       "      <td>[java]</td>\n",
       "      <td>[обязан, участ, проект, компан, разработк, ана...</td>\n",
       "      <td>2014-10-17 13:51:12</td>\n",
       "      <td>40000</td>\n",
       "      <td>rur</td>\n",
       "    </tr>\n",
       "    <tr>\n",
       "      <th>3</th>\n",
       "      <td>[ios]</td>\n",
       "      <td>[привет, зовут, егор, 2011, год, созда, компан...</td>\n",
       "      <td>2014-10-17 13:51:12</td>\n",
       "      <td>120000</td>\n",
       "      <td>rur</td>\n",
       "    </tr>\n",
       "    <tr>\n",
       "      <th>4</th>\n",
       "      <td>[php, web, back, end]</td>\n",
       "      <td>[телекоммуникацион, компан, треб, php, постоя,...</td>\n",
       "      <td>2014-10-17 13:51:12</td>\n",
       "      <td>80000</td>\n",
       "      <td>rur</td>\n",
       "    </tr>\n",
       "    <tr>\n",
       "      <th>5</th>\n",
       "      <td>[1с]</td>\n",
       "      <td>[компан, эспокад, лидер, рынк, домашн, текстил...</td>\n",
       "      <td>2014-10-17 13:51:12</td>\n",
       "      <td>100000</td>\n",
       "      <td>rur</td>\n",
       "    </tr>\n",
       "    <tr>\n",
       "      <th>6</th>\n",
       "      <td>[]</td>\n",
       "      <td>[обязан, написан, нов, программ, автоматизац, ...</td>\n",
       "      <td>2014-10-17 13:51:12</td>\n",
       "      <td>50000</td>\n",
       "      <td>rur</td>\n",
       "    </tr>\n",
       "    <tr>\n",
       "      <th>7</th>\n",
       "      <td>[инженер, машин, обучен, искусствен, интеллект]</td>\n",
       "      <td>[обязан, эффективн, реализац, алгоритм, машин,...</td>\n",
       "      <td>2014-10-17 13:51:12</td>\n",
       "      <td>80000</td>\n",
       "      <td>rur</td>\n",
       "    </tr>\n",
       "    <tr>\n",
       "      <th>8</th>\n",
       "      <td>[1с, 8.2, системн, администратор]</td>\n",
       "      <td>[1с, 8.2, системн, администратор, обязан, прог...</td>\n",
       "      <td>2014-10-17 13:51:12</td>\n",
       "      <td>80000</td>\n",
       "      <td>rur</td>\n",
       "    </tr>\n",
       "    <tr>\n",
       "      <th>9</th>\n",
       "      <td>[python]</td>\n",
       "      <td>[обязан, серверн, част, умн, дом, интеграц, ра...</td>\n",
       "      <td>2014-10-17 13:51:12</td>\n",
       "      <td>50000</td>\n",
       "      <td>rur</td>\n",
       "    </tr>\n",
       "    <tr>\n",
       "      <th>10</th>\n",
       "      <td>[java]</td>\n",
       "      <td>[команд, разработк, веб, решен, анализ, жил, н...</td>\n",
       "      <td>2014-10-17 13:51:12</td>\n",
       "      <td>60000</td>\n",
       "      <td>rur</td>\n",
       "    </tr>\n",
       "    <tr>\n",
       "      <th>11</th>\n",
       "      <td>[системн, c, linux, компилятор, оптимизац]</td>\n",
       "      <td>[связ, расширен, штат, ищ, профессионал, разн,...</td>\n",
       "      <td>2014-10-17 13:51:12</td>\n",
       "      <td>80000</td>\n",
       "      <td>rur</td>\n",
       "    </tr>\n",
       "    <tr>\n",
       "      <th>12</th>\n",
       "      <td>[web, frontend]</td>\n",
       "      <td>[обязан, техническ, поддержк, сайт, правк, тре...</td>\n",
       "      <td>2014-10-17 13:51:12</td>\n",
       "      <td>40000</td>\n",
       "      <td>rur</td>\n",
       "    </tr>\n",
       "    <tr>\n",
       "      <th>13</th>\n",
       "      <td>[python]</td>\n",
       "      <td>[отдел, разработок, крупн, интернет, проект, т...</td>\n",
       "      <td>2014-10-17 13:51:12</td>\n",
       "      <td>90000</td>\n",
       "      <td>rur</td>\n",
       "    </tr>\n",
       "    <tr>\n",
       "      <th>14</th>\n",
       "      <td>[php]</td>\n",
       "      <td>[групп, компан, рустелеторг, явля, профессиона...</td>\n",
       "      <td>2014-10-17 13:51:12</td>\n",
       "      <td>50000</td>\n",
       "      <td>rur</td>\n",
       "    </tr>\n",
       "    <tr>\n",
       "      <th>15</th>\n",
       "      <td>[]</td>\n",
       "      <td>[обязан, универсальн, систем, управлен, типогр...</td>\n",
       "      <td>2014-10-17 13:51:12</td>\n",
       "      <td>70000</td>\n",
       "      <td>rur</td>\n",
       "    </tr>\n",
       "    <tr>\n",
       "      <th>16</th>\n",
       "      <td>[системн]</td>\n",
       "      <td>[обязан, программн, обеспечен, платформ, .net,...</td>\n",
       "      <td>2014-10-17 13:51:12</td>\n",
       "      <td>100000</td>\n",
       "      <td>rur</td>\n",
       "    </tr>\n",
       "    <tr>\n",
       "      <th>17</th>\n",
       "      <td>[php]</td>\n",
       "      <td>[webinar.ru, лидир, росс, восточн, европ, серв...</td>\n",
       "      <td>2014-10-17 13:51:12</td>\n",
       "      <td>100000</td>\n",
       "      <td>rur</td>\n",
       "    </tr>\n",
       "    <tr>\n",
       "      <th>18</th>\n",
       "      <td>[ria]</td>\n",
       "      <td>[обязан, высоконагружен, веб, сервис, миллиард...</td>\n",
       "      <td>2014-10-17 13:51:12</td>\n",
       "      <td>100000</td>\n",
       "      <td>rur</td>\n",
       "    </tr>\n",
       "    <tr>\n",
       "      <th>19</th>\n",
       "      <td>[python]</td>\n",
       "      <td>[приглаша, работ, программист, python, высок, ...</td>\n",
       "      <td>2014-10-17 13:51:12</td>\n",
       "      <td>120000</td>\n",
       "      <td>rur</td>\n",
       "    </tr>\n",
       "  </tbody>\n",
       "</table>\n",
       "</div>"
      ],
      "text/plain": [
       "                                        name_tokens  \\\n",
       "0                           [ruby, ruby, on, rails]   \n",
       "1            [ведущ, 1, руководител, направлен, it]   \n",
       "2                                            [java]   \n",
       "3                                             [ios]   \n",
       "4                             [php, web, back, end]   \n",
       "5                                              [1с]   \n",
       "6                                                []   \n",
       "7   [инженер, машин, обучен, искусствен, интеллект]   \n",
       "8                 [1с, 8.2, системн, администратор]   \n",
       "9                                          [python]   \n",
       "10                                           [java]   \n",
       "11       [системн, c, linux, компилятор, оптимизац]   \n",
       "12                                  [web, frontend]   \n",
       "13                                         [python]   \n",
       "14                                            [php]   \n",
       "15                                               []   \n",
       "16                                        [системн]   \n",
       "17                                            [php]   \n",
       "18                                            [ria]   \n",
       "19                                         [python]   \n",
       "\n",
       "                                          text_tokens                 date  \\\n",
       "0   [соста, распределен, команд, разрабатыва, сист...  2014-10-17 13:51:12   \n",
       "1   [медицинск, сет, клиник, приглаша, работ, рабо...  2014-10-17 13:51:12   \n",
       "2   [обязан, участ, проект, компан, разработк, ана...  2014-10-17 13:51:12   \n",
       "3   [привет, зовут, егор, 2011, год, созда, компан...  2014-10-17 13:51:12   \n",
       "4   [телекоммуникацион, компан, треб, php, постоя,...  2014-10-17 13:51:12   \n",
       "5   [компан, эспокад, лидер, рынк, домашн, текстил...  2014-10-17 13:51:12   \n",
       "6   [обязан, написан, нов, программ, автоматизац, ...  2014-10-17 13:51:12   \n",
       "7   [обязан, эффективн, реализац, алгоритм, машин,...  2014-10-17 13:51:12   \n",
       "8   [1с, 8.2, системн, администратор, обязан, прог...  2014-10-17 13:51:12   \n",
       "9   [обязан, серверн, част, умн, дом, интеграц, ра...  2014-10-17 13:51:12   \n",
       "10  [команд, разработк, веб, решен, анализ, жил, н...  2014-10-17 13:51:12   \n",
       "11  [связ, расширен, штат, ищ, профессионал, разн,...  2014-10-17 13:51:12   \n",
       "12  [обязан, техническ, поддержк, сайт, правк, тре...  2014-10-17 13:51:12   \n",
       "13  [отдел, разработок, крупн, интернет, проект, т...  2014-10-17 13:51:12   \n",
       "14  [групп, компан, рустелеторг, явля, профессиона...  2014-10-17 13:51:12   \n",
       "15  [обязан, универсальн, систем, управлен, типогр...  2014-10-17 13:51:12   \n",
       "16  [обязан, программн, обеспечен, платформ, .net,...  2014-10-17 13:51:12   \n",
       "17  [webinar.ru, лидир, росс, восточн, европ, серв...  2014-10-17 13:51:12   \n",
       "18  [обязан, высоконагружен, веб, сервис, миллиард...  2014-10-17 13:51:12   \n",
       "19  [приглаша, работ, программист, python, высок, ...  2014-10-17 13:51:12   \n",
       "\n",
       "    salary currency  \n",
       "0    70000      rur  \n",
       "1   110000      rur  \n",
       "2    40000      rur  \n",
       "3   120000      rur  \n",
       "4    80000      rur  \n",
       "5   100000      rur  \n",
       "6    50000      rur  \n",
       "7    80000      rur  \n",
       "8    80000      rur  \n",
       "9    50000      rur  \n",
       "10   60000      rur  \n",
       "11   80000      rur  \n",
       "12   40000      rur  \n",
       "13   90000      rur  \n",
       "14   50000      rur  \n",
       "15   70000      rur  \n",
       "16  100000      rur  \n",
       "17  100000      rur  \n",
       "18  100000      rur  \n",
       "19  120000      rur  "
      ]
     },
     "execution_count": 53,
     "metadata": {},
     "output_type": "execute_result"
    }
   ],
   "source": [
    "vacancies.head(20)"
   ]
  },
  {
   "cell_type": "code",
   "execution_count": 61,
   "metadata": {
    "ExecuteTime": {
     "end_time": "2016-05-05T14:27:08.195923",
     "start_time": "2016-05-05T14:27:07.743545"
    },
    "collapsed": false
   },
   "outputs": [],
   "source": [
    "vacancies.to_csv('data/vacancies_stemmed.csv', sep='|', index=False)"
   ]
  },
  {
   "cell_type": "code",
   "execution_count": 62,
   "metadata": {
    "ExecuteTime": {
     "end_time": "2016-05-05T14:27:13.227285",
     "start_time": "2016-05-05T14:27:13.217976"
    },
    "collapsed": true
   },
   "outputs": [],
   "source": [
    "vacancies_back = vacancies.copy()"
   ]
  },
  {
   "cell_type": "markdown",
   "metadata": {},
   "source": [
    "# TF-Idf features"
   ]
  },
  {
   "cell_type": "code",
   "execution_count": 56,
   "metadata": {
    "ExecuteTime": {
     "end_time": "2016-05-05T14:09:18.610900",
     "start_time": "2016-05-05T14:09:18.526019"
    },
    "collapsed": true
   },
   "outputs": [],
   "source": [
    "vacancies = vacancies_back.copy()"
   ]
  },
  {
   "cell_type": "code",
   "execution_count": 57,
   "metadata": {
    "ExecuteTime": {
     "end_time": "2016-05-05T14:09:18.769544",
     "start_time": "2016-05-05T14:09:18.612285"
    },
    "collapsed": true
   },
   "outputs": [],
   "source": [
    "vacancies.name_tokens = vacancies.name_tokens.apply(lambda lst: ' '.join(lst))  # create texts\n",
    "vacancies.text_tokens = vacancies.text_tokens.apply(lambda lst: ' '.join(lst))  # create texts"
   ]
  },
  {
   "cell_type": "code",
   "execution_count": 58,
   "metadata": {
    "ExecuteTime": {
     "end_time": "2016-05-05T14:09:18.774833",
     "start_time": "2016-05-05T14:09:18.771785"
    },
    "collapsed": false
   },
   "outputs": [],
   "source": [
    "from sklearn.feature_extraction.text import TfidfVectorizer"
   ]
  },
  {
   "cell_type": "code",
   "execution_count": 59,
   "metadata": {
    "ExecuteTime": {
     "end_time": "2016-05-05T14:09:18.885240",
     "start_time": "2016-05-05T14:09:18.776653"
    },
    "collapsed": false
   },
   "outputs": [],
   "source": [
    "vectorizer = TfidfVectorizer(min_df=1)\n",
    "text_tfidf_matrix = vectorizer.fit_transform(vacancies.name_tokens)"
   ]
  },
  {
   "cell_type": "code",
   "execution_count": 64,
   "metadata": {
    "ExecuteTime": {
     "end_time": "2016-05-05T14:27:33.306886",
     "start_time": "2016-05-05T14:27:33.300793"
    },
    "collapsed": false
   },
   "outputs": [
    {
     "data": {
      "text/plain": [
       "<17446x1931 sparse matrix of type '<class 'numpy.float64'>'\n",
       "\twith 40945 stored elements in Compressed Sparse Row format>"
      ]
     },
     "execution_count": 64,
     "metadata": {},
     "output_type": "execute_result"
    }
   ],
   "source": [
    "text_tfidf_matrix"
   ]
  },
  {
   "cell_type": "code",
   "execution_count": 65,
   "metadata": {
    "ExecuteTime": {
     "end_time": "2016-05-05T14:27:36.947416",
     "start_time": "2016-05-05T14:27:34.127186"
    },
    "collapsed": false
   },
   "outputs": [],
   "source": [
    "vectorizer = TfidfVectorizer(min_df=1)\n",
    "title_tfidf_matrix = vectorizer.fit_transform(vacancies.text_tokens)"
   ]
  },
  {
   "cell_type": "code",
   "execution_count": 66,
   "metadata": {
    "ExecuteTime": {
     "end_time": "2016-05-05T14:27:36.952347",
     "start_time": "2016-05-05T14:27:36.948773"
    },
    "collapsed": false
   },
   "outputs": [
    {
     "data": {
      "text/plain": [
       "<17446x37282 sparse matrix of type '<class 'numpy.float64'>'\n",
       "\twith 1888943 stored elements in Compressed Sparse Row format>"
      ]
     },
     "execution_count": 66,
     "metadata": {},
     "output_type": "execute_result"
    }
   ],
   "source": [
    "title_tfidf_matrix"
   ]
  },
  {
   "cell_type": "markdown",
   "metadata": {},
   "source": [
    "# Very basic linear regression model"
   ]
  },
  {
   "cell_type": "markdown",
   "metadata": {},
   "source": [
    "see: http://scikit-learn.org/stable/auto_examples/linear_model/plot_ols.html"
   ]
  },
  {
   "cell_type": "code",
   "execution_count": 63,
   "metadata": {
    "ExecuteTime": {
     "end_time": "2016-05-05T14:27:31.870936",
     "start_time": "2016-05-05T14:27:29.063847"
    },
    "collapsed": true
   },
   "outputs": [],
   "source": [
    "X = text_tfidf_matrix.todense()\n",
    "Y = vacancies.salary"
   ]
  },
  {
   "cell_type": "code",
   "execution_count": 67,
   "metadata": {
    "ExecuteTime": {
     "end_time": "2016-05-05T14:27:39.988270",
     "start_time": "2016-05-05T14:27:39.268267"
    },
    "collapsed": true
   },
   "outputs": [],
   "source": [
    "from sklearn.preprocessing import Imputer\n",
    "X = Imputer().fit_transform(X)"
   ]
  },
  {
   "cell_type": "raw",
   "metadata": {
    "ExecuteTime": {
     "end_time": "2016-05-05T14:27:41.197989",
     "start_time": "2016-05-05T14:27:41.155430"
    },
    "collapsed": true
   },
   "source": [
    "import sklearn.linear_model\n",
    "\n",
    "# Create linear regression object\n",
    "regr = sklearn.linear_model.LinearRegression()\n",
    "\n",
    "# Train the model using the training sets\n",
    "regr.fit(X, Y)"
   ]
  },
  {
   "cell_type": "code",
   "execution_count": null,
   "metadata": {
    "collapsed": true
   },
   "outputs": [],
   "source": [
    "# TODO: Split the data into training/testing sets"
   ]
  }
 ],
 "metadata": {
  "kernelspec": {
   "display_name": "Python 3",
   "language": "python",
   "name": "python3"
  },
  "language_info": {
   "codemirror_mode": {
    "name": "ipython",
    "version": 3
   },
   "file_extension": ".py",
   "mimetype": "text/x-python",
   "name": "python",
   "nbconvert_exporter": "python",
   "pygments_lexer": "ipython3",
   "version": "3.4.4"
  },
  "toc": {
   "toc_cell": false,
   "toc_number_sections": true,
   "toc_threshold": 6,
   "toc_window_display": false
  }
 },
 "nbformat": 4,
 "nbformat_minor": 0
}
